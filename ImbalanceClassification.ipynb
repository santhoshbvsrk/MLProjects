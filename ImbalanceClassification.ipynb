{
  "nbformat": 4,
  "nbformat_minor": 0,
  "metadata": {
    "colab": {
      "name": "ImbalanceClassification.ipynb",
      "provenance": [],
      "collapsed_sections": [],
      "authorship_tag": "ABX9TyN7jpns9H5LCEKCAIrVZ+fV",
      "include_colab_link": true
    },
    "kernelspec": {
      "name": "python3",
      "display_name": "Python 3"
    },
    "language_info": {
      "name": "python"
    }
  },
  "cells": [
    {
      "cell_type": "markdown",
      "metadata": {
        "id": "view-in-github",
        "colab_type": "text"
      },
      "source": [
        "<a href=\"https://colab.research.google.com/github/santhoshbvsrk/Machine-Learning-Projects/blob/main/ImbalanceClassification.ipynb\" target=\"_parent\"><img src=\"https://colab.research.google.com/assets/colab-badge.svg\" alt=\"Open In Colab\"/></a>"
      ]
    },
    {
      "cell_type": "markdown",
      "metadata": {
        "id": "It4AIGNdtX4A"
      },
      "source": [
        "*   When observation in one class is higher than the observation in other classes then there exists a class imbalance.\n",
        "*   Class Imbalance is a common problem in machine learning, especially in classification problems. Imbalance data can hamper our model accuracy big time."
      ]
    },
    {
      "cell_type": "code",
      "metadata": {
        "colab": {
          "base_uri": "https://localhost:8080/",
          "height": 153
        },
        "id": "p69g5ddL94KF",
        "outputId": "afbab624-46cc-4b03-e9b4-4913bc932306"
      },
      "source": [
        "import pandas as pd\n",
        "import numpy as np\n",
        "\n",
        "# fix random seed for reproducibility\n",
        "seed = 7\n",
        "np.random.seed(seed)\n",
        "\n",
        "defcon_df = pd.read_csv(\"https://raw.githubusercontent.com/santhoshbvsrk/DeepLearning/main/DEFCON/defcon_level.csv\")\n",
        "defcon_df.head(3)"
      ],
      "execution_count": 1,
      "outputs": [
        {
          "output_type": "execute_result",
          "data": {
            "text/html": [
              "<div>\n",
              "<style scoped>\n",
              "    .dataframe tbody tr th:only-of-type {\n",
              "        vertical-align: middle;\n",
              "    }\n",
              "\n",
              "    .dataframe tbody tr th {\n",
              "        vertical-align: top;\n",
              "    }\n",
              "\n",
              "    .dataframe thead th {\n",
              "        text-align: right;\n",
              "    }\n",
              "</style>\n",
              "<table border=\"1\" class=\"dataframe\">\n",
              "  <thead>\n",
              "    <tr style=\"text-align: right;\">\n",
              "      <th></th>\n",
              "      <th>Allied_Nations</th>\n",
              "      <th>Diplomatic_Meetings_Set</th>\n",
              "      <th>Percent_Of_Forces_Mobilized</th>\n",
              "      <th>Hostile_Nations</th>\n",
              "      <th>Active_Threats</th>\n",
              "      <th>Inactive_Threats</th>\n",
              "      <th>Citizen_Fear_Index</th>\n",
              "      <th>Closest_Threat_Distance(km)</th>\n",
              "      <th>Aircraft_Carriers_Responding</th>\n",
              "      <th>Troops_Mobilized(thousands)</th>\n",
              "      <th>DEFCON_Level</th>\n",
              "      <th>ID</th>\n",
              "    </tr>\n",
              "  </thead>\n",
              "  <tbody>\n",
              "    <tr>\n",
              "      <th>0</th>\n",
              "      <td>16</td>\n",
              "      <td>1</td>\n",
              "      <td>0.67</td>\n",
              "      <td>3</td>\n",
              "      <td>6.0</td>\n",
              "      <td>25.0</td>\n",
              "      <td>0.787812</td>\n",
              "      <td>324.36</td>\n",
              "      <td>1</td>\n",
              "      <td>862400.0</td>\n",
              "      <td>3</td>\n",
              "      <td>7570</td>\n",
              "    </tr>\n",
              "    <tr>\n",
              "      <th>1</th>\n",
              "      <td>8</td>\n",
              "      <td>1</td>\n",
              "      <td>0.11</td>\n",
              "      <td>2</td>\n",
              "      <td>38.0</td>\n",
              "      <td>48.0</td>\n",
              "      <td>0.419236</td>\n",
              "      <td>359.34</td>\n",
              "      <td>0</td>\n",
              "      <td>959200.0</td>\n",
              "      <td>4</td>\n",
              "      <td>12128</td>\n",
              "    </tr>\n",
              "    <tr>\n",
              "      <th>2</th>\n",
              "      <td>9</td>\n",
              "      <td>1</td>\n",
              "      <td>0.49</td>\n",
              "      <td>3</td>\n",
              "      <td>32.0</td>\n",
              "      <td>69.0</td>\n",
              "      <td>0.582232</td>\n",
              "      <td>332.84</td>\n",
              "      <td>1</td>\n",
              "      <td>836000.0</td>\n",
              "      <td>3</td>\n",
              "      <td>2181</td>\n",
              "    </tr>\n",
              "  </tbody>\n",
              "</table>\n",
              "</div>"
            ],
            "text/plain": [
              "   Allied_Nations  Diplomatic_Meetings_Set  ...  DEFCON_Level     ID\n",
              "0              16                        1  ...             3   7570\n",
              "1               8                        1  ...             4  12128\n",
              "2               9                        1  ...             3   2181\n",
              "\n",
              "[3 rows x 12 columns]"
            ]
          },
          "metadata": {
            "tags": []
          },
          "execution_count": 1
        }
      ]
    },
    {
      "cell_type": "code",
      "metadata": {
        "colab": {
          "base_uri": "https://localhost:8080/",
          "height": 300
        },
        "id": "MDtEUKVr-C1U",
        "outputId": "464a5f5d-190a-43af-c76d-c257c872d6ab"
      },
      "source": [
        "import seaborn as sns\n",
        "import matplotlib.pyplot as plt\n",
        "\n",
        "sns.kdeplot(defcon_df.DEFCON_Level)\n",
        "plt.figure(figsize=(10,10))\n",
        "plt.show()"
      ],
      "execution_count": 2,
      "outputs": [
        {
          "output_type": "display_data",
          "data": {
            "image/png": "[encoded data removed]",
            "text/plain": [
              "<Figure size 432x288 with 1 Axes>"
            ]
          },
          "metadata": {
            "tags": [],
            "needs_background": "light"
          }
        },
        {
          "output_type": "display_data",
          "data": {
            "text/plain": [
              "<Figure size 720x720 with 0 Axes>"
            ]
          },
          "metadata": {
            "tags": []
          }
        }
      ]
    },
    {
      "cell_type": "markdown",
      "metadata": {
        "id": "nW7hZSSBCvu5"
      },
      "source": [
        "### This shows that there is Imbalance in the Target class. Now, let us fix Imbalance in data using various methods."
      ]
    },
    {
      "cell_type": "code",
      "metadata": {
        "id": "Wt3hOQfk-gUm"
      },
      "source": [
        "X=defcon_df.drop(['DEFCON_Level','ID'],axis=1)\n",
        "y=defcon_df.DEFCON_Level"
      ],
      "execution_count": 3,
      "outputs": []
    },
    {
      "cell_type": "markdown",
      "metadata": {
        "id": "BxUIGNE1Ds6N"
      },
      "source": [
        "## 1. SMOTE Technique"
      ]
    },
    {
      "cell_type": "code",
      "metadata": {
        "id": "_LXNcOFf-lQs",
        "colab": {
          "base_uri": "https://localhost:8080/"
        },
        "outputId": "d939a986-af2c-4863-cb9e-23e5c0d99dfd"
      },
      "source": [
        "from imblearn.over_sampling import SMOTE\n",
        "\n",
        "import warnings\n",
        "warnings.filterwarnings('ignore')\n",
        "smote = SMOTE()\n",
        "\n",
        "# fit predictor and target variable\n",
        "X_smote, y_smote = smote.fit_resample(X, y)"
      ],
      "execution_count": 4,
      "outputs": [
        {
          "output_type": "stream",
          "text": [
            "/usr/local/lib/python3.7/dist-packages/sklearn/externals/six.py:31: FutureWarning: The module is deprecated in version 0.21 and will be removed in version 0.23 since we've dropped support for Python 2.7. Please rely on the official version of six (https://pypi.org/project/six/).\n",
            "  \"(https://pypi.org/project/six/).\", FutureWarning)\n",
            "/usr/local/lib/python3.7/dist-packages/sklearn/utils/deprecation.py:144: FutureWarning: The sklearn.neighbors.base module is  deprecated in version 0.22 and will be removed in version 0.24. The corresponding classes / functions should instead be imported from sklearn.neighbors. Anything that cannot be imported from sklearn.neighbors is now part of the private API.\n",
            "  warnings.warn(message, FutureWarning)\n"
          ],
          "name": "stderr"
        }
      ]
    },
    {
      "cell_type": "code",
      "metadata": {
        "colab": {
          "base_uri": "https://localhost:8080/"
        },
        "id": "mdJ1nuAlBasI",
        "outputId": "3afdabc6-2a35-4cc2-c8fa-6e22a7e6e923"
      },
      "source": [
        "defcon_df.columns"
      ],
      "execution_count": 5,
      "outputs": [
        {
          "output_type": "execute_result",
          "data": {
            "text/plain": [
              "Index(['Allied_Nations', 'Diplomatic_Meetings_Set',\n",
              "       'Percent_Of_Forces_Mobilized', 'Hostile_Nations', 'Active_Threats',\n",
              "       'Inactive_Threats', 'Citizen_Fear_Index', 'Closest_Threat_Distance(km)',\n",
              "       'Aircraft_Carriers_Responding', 'Troops_Mobilized(thousands)',\n",
              "       'DEFCON_Level', 'ID'],\n",
              "      dtype='object')"
            ]
          },
          "metadata": {
            "tags": []
          },
          "execution_count": 5
        }
      ]
    },
    {
      "cell_type": "code",
      "metadata": {
        "colab": {
          "base_uri": "https://localhost:8080/",
          "height": 153
        },
        "id": "drHBh_9KAu4Z",
        "outputId": "85e0abbf-f819-4aab-dc3e-af594601e66e"
      },
      "source": [
        "smote_df = pd.DataFrame(X_smote, columns = ['Allied_Nations', 'Diplomatic_Meetings_Set',\n",
        "       'Percent_Of_Forces_Mobilized', 'Hostile_Nations', 'Active_Threats',\n",
        "       'Inactive_Threats', 'Citizen_Fear_Index', 'Closest_Threat_Distance(km)',\n",
        "       'Aircraft_Carriers_Responding', 'Troops_Mobilized(thousands)'])\n",
        "smote_df.head(3)"
      ],
      "execution_count": 6,
      "outputs": [
        {
          "output_type": "execute_result",
          "data": {
            "text/html": [
              "<div>\n",
              "<style scoped>\n",
              "    .dataframe tbody tr th:only-of-type {\n",
              "        vertical-align: middle;\n",
              "    }\n",
              "\n",
              "    .dataframe tbody tr th {\n",
              "        vertical-align: top;\n",
              "    }\n",
              "\n",
              "    .dataframe thead th {\n",
              "        text-align: right;\n",
              "    }\n",
              "</style>\n",
              "<table border=\"1\" class=\"dataframe\">\n",
              "  <thead>\n",
              "    <tr style=\"text-align: right;\">\n",
              "      <th></th>\n",
              "      <th>Allied_Nations</th>\n",
              "      <th>Diplomatic_Meetings_Set</th>\n",
              "      <th>Percent_Of_Forces_Mobilized</th>\n",
              "      <th>Hostile_Nations</th>\n",
              "      <th>Active_Threats</th>\n",
              "      <th>Inactive_Threats</th>\n",
              "      <th>Citizen_Fear_Index</th>\n",
              "      <th>Closest_Threat_Distance(km)</th>\n",
              "      <th>Aircraft_Carriers_Responding</th>\n",
              "      <th>Troops_Mobilized(thousands)</th>\n",
              "    </tr>\n",
              "  </thead>\n",
              "  <tbody>\n",
              "    <tr>\n",
              "      <th>0</th>\n",
              "      <td>16.0</td>\n",
              "      <td>1.0</td>\n",
              "      <td>0.67</td>\n",
              "      <td>3.0</td>\n",
              "      <td>6.0</td>\n",
              "      <td>25.0</td>\n",
              "      <td>0.787812</td>\n",
              "      <td>324.36</td>\n",
              "      <td>1.0</td>\n",
              "      <td>862400.0</td>\n",
              "    </tr>\n",
              "    <tr>\n",
              "      <th>1</th>\n",
              "      <td>8.0</td>\n",
              "      <td>1.0</td>\n",
              "      <td>0.11</td>\n",
              "      <td>2.0</td>\n",
              "      <td>38.0</td>\n",
              "      <td>48.0</td>\n",
              "      <td>0.419236</td>\n",
              "      <td>359.34</td>\n",
              "      <td>0.0</td>\n",
              "      <td>959200.0</td>\n",
              "    </tr>\n",
              "    <tr>\n",
              "      <th>2</th>\n",
              "      <td>9.0</td>\n",
              "      <td>1.0</td>\n",
              "      <td>0.49</td>\n",
              "      <td>3.0</td>\n",
              "      <td>32.0</td>\n",
              "      <td>69.0</td>\n",
              "      <td>0.582232</td>\n",
              "      <td>332.84</td>\n",
              "      <td>1.0</td>\n",
              "      <td>836000.0</td>\n",
              "    </tr>\n",
              "  </tbody>\n",
              "</table>\n",
              "</div>"
            ],
            "text/plain": [
              "   Allied_Nations  ...  Troops_Mobilized(thousands)\n",
              "0            16.0  ...                     862400.0\n",
              "1             8.0  ...                     959200.0\n",
              "2             9.0  ...                     836000.0\n",
              "\n",
              "[3 rows x 10 columns]"
            ]
          },
          "metadata": {
            "tags": []
          },
          "execution_count": 6
        }
      ]
    },
    {
      "cell_type": "code",
      "metadata": {
        "colab": {
          "base_uri": "https://localhost:8080/",
          "height": 153
        },
        "id": "O0FKC5dJ_nkp",
        "outputId": "b907a07a-9288-4a22-e442-40560447dd8a"
      },
      "source": [
        "smote_df['DEFCON_Level'] = y_smote\n",
        "smote_df.head(3)"
      ],
      "execution_count": 7,
      "outputs": [
        {
          "output_type": "execute_result",
          "data": {
            "text/html": [
              "<div>\n",
              "<style scoped>\n",
              "    .dataframe tbody tr th:only-of-type {\n",
              "        vertical-align: middle;\n",
              "    }\n",
              "\n",
              "    .dataframe tbody tr th {\n",
              "        vertical-align: top;\n",
              "    }\n",
              "\n",
              "    .dataframe thead th {\n",
              "        text-align: right;\n",
              "    }\n",
              "</style>\n",
              "<table border=\"1\" class=\"dataframe\">\n",
              "  <thead>\n",
              "    <tr style=\"text-align: right;\">\n",
              "      <th></th>\n",
              "      <th>Allied_Nations</th>\n",
              "      <th>Diplomatic_Meetings_Set</th>\n",
              "      <th>Percent_Of_Forces_Mobilized</th>\n",
              "      <th>Hostile_Nations</th>\n",
              "      <th>Active_Threats</th>\n",
              "      <th>Inactive_Threats</th>\n",
              "      <th>Citizen_Fear_Index</th>\n",
              "      <th>Closest_Threat_Distance(km)</th>\n",
              "      <th>Aircraft_Carriers_Responding</th>\n",
              "      <th>Troops_Mobilized(thousands)</th>\n",
              "      <th>DEFCON_Level</th>\n",
              "    </tr>\n",
              "  </thead>\n",
              "  <tbody>\n",
              "    <tr>\n",
              "      <th>0</th>\n",
              "      <td>16.0</td>\n",
              "      <td>1.0</td>\n",
              "      <td>0.67</td>\n",
              "      <td>3.0</td>\n",
              "      <td>6.0</td>\n",
              "      <td>25.0</td>\n",
              "      <td>0.787812</td>\n",
              "      <td>324.36</td>\n",
              "      <td>1.0</td>\n",
              "      <td>862400.0</td>\n",
              "      <td>3</td>\n",
              "    </tr>\n",
              "    <tr>\n",
              "      <th>1</th>\n",
              "      <td>8.0</td>\n",
              "      <td>1.0</td>\n",
              "      <td>0.11</td>\n",
              "      <td>2.0</td>\n",
              "      <td>38.0</td>\n",
              "      <td>48.0</td>\n",
              "      <td>0.419236</td>\n",
              "      <td>359.34</td>\n",
              "      <td>0.0</td>\n",
              "      <td>959200.0</td>\n",
              "      <td>4</td>\n",
              "    </tr>\n",
              "    <tr>\n",
              "      <th>2</th>\n",
              "      <td>9.0</td>\n",
              "      <td>1.0</td>\n",
              "      <td>0.49</td>\n",
              "      <td>3.0</td>\n",
              "      <td>32.0</td>\n",
              "      <td>69.0</td>\n",
              "      <td>0.582232</td>\n",
              "      <td>332.84</td>\n",
              "      <td>1.0</td>\n",
              "      <td>836000.0</td>\n",
              "      <td>3</td>\n",
              "    </tr>\n",
              "  </tbody>\n",
              "</table>\n",
              "</div>"
            ],
            "text/plain": [
              "   Allied_Nations  ...  DEFCON_Level\n",
              "0            16.0  ...             3\n",
              "1             8.0  ...             4\n",
              "2             9.0  ...             3\n",
              "\n",
              "[3 rows x 11 columns]"
            ]
          },
          "metadata": {
            "tags": []
          },
          "execution_count": 7
        }
      ]
    },
    {
      "cell_type": "markdown",
      "metadata": {
        "id": "SbaTkP21DIUD"
      },
      "source": [
        "Ignoring ID column as that doesn't add value to our analysis."
      ]
    },
    {
      "cell_type": "code",
      "metadata": {
        "colab": {
          "base_uri": "https://localhost:8080/",
          "height": 296
        },
        "id": "WCg3lUMT_vJs",
        "outputId": "9c3976f4-8b71-4f5b-f6a7-e0d2f918f9cf"
      },
      "source": [
        "import seaborn as sns\n",
        "import matplotlib.pyplot as plt\n",
        "\n",
        "sns.kdeplot(smote_df.DEFCON_Level)\n",
        "plt.figure(figsize=(10,10))\n",
        "plt.show()"
      ],
      "execution_count": 8,
      "outputs": [
        {
          "output_type": "display_data",
          "data": {
            "image/png": "[encoded data removed]",
            "text/plain": [
              "<Figure size 432x288 with 1 Axes>"
            ]
          },
          "metadata": {
            "tags": [],
            "needs_background": "light"
          }
        },
        {
          "output_type": "display_data",
          "data": {
            "text/plain": [
              "<Figure size 720x720 with 0 Axes>"
            ]
          },
          "metadata": {
            "tags": []
          }
        }
      ]
    },
    {
      "cell_type": "markdown",
      "metadata": {
        "id": "u-8jbpRiDkBR"
      },
      "source": [
        "This shows that data is balanced"
      ]
    },
    {
      "cell_type": "code",
      "metadata": {
        "colab": {
          "base_uri": "https://localhost:8080/"
        },
        "id": "Maf94m6qCgrJ",
        "outputId": "fac80c93-c491-4a9e-ea08-19cfa78f8a59"
      },
      "source": [
        "smote_df.info()"
      ],
      "execution_count": 10,
      "outputs": [
        {
          "output_type": "stream",
          "text": [
            "<class 'pandas.core.frame.DataFrame'>\n",
            "RangeIndex: 21350 entries, 0 to 21349\n",
            "Data columns (total 11 columns):\n",
            " #   Column                        Non-Null Count  Dtype  \n",
            "---  ------                        --------------  -----  \n",
            " 0   Allied_Nations                21350 non-null  float64\n",
            " 1   Diplomatic_Meetings_Set       21350 non-null  float64\n",
            " 2   Percent_Of_Forces_Mobilized   21350 non-null  float64\n",
            " 3   Hostile_Nations               21350 non-null  float64\n",
            " 4   Active_Threats                21350 non-null  float64\n",
            " 5   Inactive_Threats              21350 non-null  float64\n",
            " 6   Citizen_Fear_Index            21350 non-null  float64\n",
            " 7   Closest_Threat_Distance(km)   21350 non-null  float64\n",
            " 8   Aircraft_Carriers_Responding  21350 non-null  float64\n",
            " 9   Troops_Mobilized(thousands)   21350 non-null  float64\n",
            " 10  DEFCON_Level                  21350 non-null  int64  \n",
            "dtypes: float64(10), int64(1)\n",
            "memory usage: 1.8 MB\n"
          ],
          "name": "stdout"
        }
      ]
    },
    {
      "cell_type": "markdown",
      "metadata": {
        "id": "O7_KdF8ED3z8"
      },
      "source": [
        "## 2. Random Over Sampling Technique with imblearn"
      ]
    },
    {
      "cell_type": "code",
      "metadata": {
        "colab": {
          "base_uri": "https://localhost:8080/"
        },
        "id": "KsfesexTG6VJ",
        "outputId": "8f04f35a-07e4-4d3e-d687-fc2ded3a4388"
      },
      "source": [
        "from imblearn.over_sampling import RandomOverSampler\n",
        "from collections import Counter\n",
        "\n",
        "print('Before Random Over Sampling:',Counter(y))\n",
        "# define oversampling strategy\n",
        "oversample = RandomOverSampler(sampling_strategy='minority')\n",
        "# fit and apply the transform\n",
        "X_over, y_over_min = oversample.fit_resample(X, y)\n",
        "# summarize class distribution\n",
        "print('Post Random Over Sampling using Strategy as minority where only Minority class is over sampled:',Counter(y_over_min))\n",
        "# define oversampling strategy\n",
        "oversample = RandomOverSampler(sampling_strategy='not minority')\n",
        "# fit and apply the transform\n",
        "X_over, y_over_not_min = oversample.fit_resample(X, y)\n",
        "# summarize class distribution\n",
        "print('Post Random Over Sampling using Strategy as not minority where all classes are over sampled except Minority:',Counter(y_over_not_min))\n",
        "# define oversampling strategy\n",
        "oversample = RandomOverSampler(sampling_strategy='not majority')\n",
        "# fit and apply the transform\n",
        "X_over, y_over_not_maj = oversample.fit_resample(X, y)\n",
        "# summarize class distribution\n",
        "print('Post Random Over Sampling using Strategy as not majority where all classes are over sampled except Majority:',Counter(y_over_not_maj))\n",
        "# define oversampling strategy\n",
        "oversample = RandomOverSampler(sampling_strategy='all')\n",
        "# fit and apply the transform\n",
        "X_over, y_over_all = oversample.fit_resample(X, y)\n",
        "# summarize class distribution\n",
        "print('Post Random Over Sampling using Strategy as all where all classes are over sampled:',Counter(y_over_all))"
      ],
      "execution_count": 22,
      "outputs": [
        {
          "output_type": "stream",
          "text": [
            "Before Random Over Sampling: Counter({2: 4270, 3: 3910, 4: 1212, 1: 498, 5: 110})\n",
            "Post Random Over Sampling using Strategy as minority where only Minority class is over sampled: Counter({2: 4270, 5: 4270, 3: 3910, 4: 1212, 1: 498})\n",
            "Post Random Over Sampling using Strategy as not minority where all classes are over sampled except Minority: Counter({3: 4270, 4: 4270, 2: 4270, 1: 4270, 5: 110})\n",
            "Post Random Over Sampling using Strategy as not majority where all classes are over sampled except Majority: Counter({3: 4270, 4: 4270, 2: 4270, 1: 4270, 5: 4270})\n",
            "Post Random Over Sampling using Strategy as all where all classes are over sampled: Counter({3: 4270, 4: 4270, 2: 4270, 1: 4270, 5: 4270})\n"
          ],
          "name": "stdout"
        }
      ]
    },
    {
      "cell_type": "code",
      "metadata": {
        "colab": {
          "base_uri": "https://localhost:8080/",
          "height": 153
        },
        "id": "7VYvOkPelxxU",
        "outputId": "1249327c-c892-4da7-bb1b-6de8b4ddd5ce"
      },
      "source": [
        "RandomOverSampler_df = pd.DataFrame(X_over, columns = ['Allied_Nations', 'Diplomatic_Meetings_Set',\n",
        "       'Percent_Of_Forces_Mobilized', 'Hostile_Nations', 'Active_Threats',\n",
        "       'Inactive_Threats', 'Citizen_Fear_Index', 'Closest_Threat_Distance(km)',\n",
        "       'Aircraft_Carriers_Responding', 'Troops_Mobilized(thousands)'])\n",
        "RandomOverSampler_df.head(3)"
      ],
      "execution_count": 27,
      "outputs": [
        {
          "output_type": "execute_result",
          "data": {
            "text/html": [
              "<div>\n",
              "<style scoped>\n",
              "    .dataframe tbody tr th:only-of-type {\n",
              "        vertical-align: middle;\n",
              "    }\n",
              "\n",
              "    .dataframe tbody tr th {\n",
              "        vertical-align: top;\n",
              "    }\n",
              "\n",
              "    .dataframe thead th {\n",
              "        text-align: right;\n",
              "    }\n",
              "</style>\n",
              "<table border=\"1\" class=\"dataframe\">\n",
              "  <thead>\n",
              "    <tr style=\"text-align: right;\">\n",
              "      <th></th>\n",
              "      <th>Allied_Nations</th>\n",
              "      <th>Diplomatic_Meetings_Set</th>\n",
              "      <th>Percent_Of_Forces_Mobilized</th>\n",
              "      <th>Hostile_Nations</th>\n",
              "      <th>Active_Threats</th>\n",
              "      <th>Inactive_Threats</th>\n",
              "      <th>Citizen_Fear_Index</th>\n",
              "      <th>Closest_Threat_Distance(km)</th>\n",
              "      <th>Aircraft_Carriers_Responding</th>\n",
              "      <th>Troops_Mobilized(thousands)</th>\n",
              "    </tr>\n",
              "  </thead>\n",
              "  <tbody>\n",
              "    <tr>\n",
              "      <th>0</th>\n",
              "      <td>16.0</td>\n",
              "      <td>1.0</td>\n",
              "      <td>0.67</td>\n",
              "      <td>3.0</td>\n",
              "      <td>6.0</td>\n",
              "      <td>25.0</td>\n",
              "      <td>0.787812</td>\n",
              "      <td>324.36</td>\n",
              "      <td>1.0</td>\n",
              "      <td>862400.0</td>\n",
              "    </tr>\n",
              "    <tr>\n",
              "      <th>1</th>\n",
              "      <td>8.0</td>\n",
              "      <td>1.0</td>\n",
              "      <td>0.11</td>\n",
              "      <td>2.0</td>\n",
              "      <td>38.0</td>\n",
              "      <td>48.0</td>\n",
              "      <td>0.419236</td>\n",
              "      <td>359.34</td>\n",
              "      <td>0.0</td>\n",
              "      <td>959200.0</td>\n",
              "    </tr>\n",
              "    <tr>\n",
              "      <th>2</th>\n",
              "      <td>9.0</td>\n",
              "      <td>1.0</td>\n",
              "      <td>0.49</td>\n",
              "      <td>3.0</td>\n",
              "      <td>32.0</td>\n",
              "      <td>69.0</td>\n",
              "      <td>0.582232</td>\n",
              "      <td>332.84</td>\n",
              "      <td>1.0</td>\n",
              "      <td>836000.0</td>\n",
              "    </tr>\n",
              "  </tbody>\n",
              "</table>\n",
              "</div>"
            ],
            "text/plain": [
              "   Allied_Nations  ...  Troops_Mobilized(thousands)\n",
              "0            16.0  ...                     862400.0\n",
              "1             8.0  ...                     959200.0\n",
              "2             9.0  ...                     836000.0\n",
              "\n",
              "[3 rows x 10 columns]"
            ]
          },
          "metadata": {
            "tags": []
          },
          "execution_count": 27
        }
      ]
    },
    {
      "cell_type": "code",
      "metadata": {
        "colab": {
          "base_uri": "https://localhost:8080/",
          "height": 153
        },
        "id": "B1Uawgc3nKa_",
        "outputId": "3c8698b7-9964-4cf7-bf2c-47ff8dead58a"
      },
      "source": [
        "RandomOverSampler_df['DEFCON_Level'] = y_over_all\n",
        "RandomOverSampler_df.head(3)"
      ],
      "execution_count": 28,
      "outputs": [
        {
          "output_type": "execute_result",
          "data": {
            "text/html": [
              "<div>\n",
              "<style scoped>\n",
              "    .dataframe tbody tr th:only-of-type {\n",
              "        vertical-align: middle;\n",
              "    }\n",
              "\n",
              "    .dataframe tbody tr th {\n",
              "        vertical-align: top;\n",
              "    }\n",
              "\n",
              "    .dataframe thead th {\n",
              "        text-align: right;\n",
              "    }\n",
              "</style>\n",
              "<table border=\"1\" class=\"dataframe\">\n",
              "  <thead>\n",
              "    <tr style=\"text-align: right;\">\n",
              "      <th></th>\n",
              "      <th>Allied_Nations</th>\n",
              "      <th>Diplomatic_Meetings_Set</th>\n",
              "      <th>Percent_Of_Forces_Mobilized</th>\n",
              "      <th>Hostile_Nations</th>\n",
              "      <th>Active_Threats</th>\n",
              "      <th>Inactive_Threats</th>\n",
              "      <th>Citizen_Fear_Index</th>\n",
              "      <th>Closest_Threat_Distance(km)</th>\n",
              "      <th>Aircraft_Carriers_Responding</th>\n",
              "      <th>Troops_Mobilized(thousands)</th>\n",
              "      <th>DEFCON_Level</th>\n",
              "    </tr>\n",
              "  </thead>\n",
              "  <tbody>\n",
              "    <tr>\n",
              "      <th>0</th>\n",
              "      <td>16.0</td>\n",
              "      <td>1.0</td>\n",
              "      <td>0.67</td>\n",
              "      <td>3.0</td>\n",
              "      <td>6.0</td>\n",
              "      <td>25.0</td>\n",
              "      <td>0.787812</td>\n",
              "      <td>324.36</td>\n",
              "      <td>1.0</td>\n",
              "      <td>862400.0</td>\n",
              "      <td>3</td>\n",
              "    </tr>\n",
              "    <tr>\n",
              "      <th>1</th>\n",
              "      <td>8.0</td>\n",
              "      <td>1.0</td>\n",
              "      <td>0.11</td>\n",
              "      <td>2.0</td>\n",
              "      <td>38.0</td>\n",
              "      <td>48.0</td>\n",
              "      <td>0.419236</td>\n",
              "      <td>359.34</td>\n",
              "      <td>0.0</td>\n",
              "      <td>959200.0</td>\n",
              "      <td>4</td>\n",
              "    </tr>\n",
              "    <tr>\n",
              "      <th>2</th>\n",
              "      <td>9.0</td>\n",
              "      <td>1.0</td>\n",
              "      <td>0.49</td>\n",
              "      <td>3.0</td>\n",
              "      <td>32.0</td>\n",
              "      <td>69.0</td>\n",
              "      <td>0.582232</td>\n",
              "      <td>332.84</td>\n",
              "      <td>1.0</td>\n",
              "      <td>836000.0</td>\n",
              "      <td>3</td>\n",
              "    </tr>\n",
              "  </tbody>\n",
              "</table>\n",
              "</div>"
            ],
            "text/plain": [
              "   Allied_Nations  ...  DEFCON_Level\n",
              "0            16.0  ...             3\n",
              "1             8.0  ...             4\n",
              "2             9.0  ...             3\n",
              "\n",
              "[3 rows x 11 columns]"
            ]
          },
          "metadata": {
            "tags": []
          },
          "execution_count": 28
        }
      ]
    },
    {
      "cell_type": "code",
      "metadata": {
        "colab": {
          "base_uri": "https://localhost:8080/",
          "height": 296
        },
        "id": "QoAxs8JtnUxe",
        "outputId": "5c1cff1c-5371-4bc2-c67e-c4d080647738"
      },
      "source": [
        "import seaborn as sns\n",
        "import matplotlib.pyplot as plt\n",
        "\n",
        "sns.kdeplot(RandomOverSampler_df.DEFCON_Level)\n",
        "plt.figure(figsize=(10,10))\n",
        "plt.show()"
      ],
      "execution_count": 29,
      "outputs": [
        {
          "output_type": "display_data",
          "data": {
            "image/png": "[encoded data removed]",
            "text/plain": [
              "<Figure size 432x288 with 1 Axes>"
            ]
          },
          "metadata": {
            "tags": [],
            "needs_background": "light"
          }
        },
        {
          "output_type": "display_data",
          "data": {
            "text/plain": [
              "<Figure size 720x720 with 0 Axes>"
            ]
          },
          "metadata": {
            "tags": []
          }
        }
      ]
    },
    {
      "cell_type": "markdown",
      "metadata": {
        "id": "YsqumzaBnYBK"
      },
      "source": [
        "All the Target Classes are balanced."
      ]
    },
    {
      "cell_type": "code",
      "metadata": {
        "colab": {
          "base_uri": "https://localhost:8080/"
        },
        "id": "yhnxDXPynbYd",
        "outputId": "9220e0eb-4526-41a8-9e29-f508b139ee89"
      },
      "source": [
        "RandomOverSampler_df.info()"
      ],
      "execution_count": 30,
      "outputs": [
        {
          "output_type": "stream",
          "text": [
            "<class 'pandas.core.frame.DataFrame'>\n",
            "RangeIndex: 21350 entries, 0 to 21349\n",
            "Data columns (total 11 columns):\n",
            " #   Column                        Non-Null Count  Dtype  \n",
            "---  ------                        --------------  -----  \n",
            " 0   Allied_Nations                21350 non-null  float64\n",
            " 1   Diplomatic_Meetings_Set       21350 non-null  float64\n",
            " 2   Percent_Of_Forces_Mobilized   21350 non-null  float64\n",
            " 3   Hostile_Nations               21350 non-null  float64\n",
            " 4   Active_Threats                21350 non-null  float64\n",
            " 5   Inactive_Threats              21350 non-null  float64\n",
            " 6   Citizen_Fear_Index            21350 non-null  float64\n",
            " 7   Closest_Threat_Distance(km)   21350 non-null  float64\n",
            " 8   Aircraft_Carriers_Responding  21350 non-null  float64\n",
            " 9   Troops_Mobilized(thousands)   21350 non-null  float64\n",
            " 10  DEFCON_Level                  21350 non-null  int64  \n",
            "dtypes: float64(10), int64(1)\n",
            "memory usage: 1.8 MB\n"
          ],
          "name": "stdout"
        }
      ]
    },
    {
      "cell_type": "markdown",
      "metadata": {
        "id": "0FoxHCqon30V"
      },
      "source": [
        "## 3. Random Under Sampling with imblearn"
      ]
    },
    {
      "cell_type": "code",
      "metadata": {
        "colab": {
          "base_uri": "https://localhost:8080/"
        },
        "id": "oWwXb_l_n3O6",
        "outputId": "d45eedf6-6e19-4df6-8c63-2a815109dc26"
      },
      "source": [
        "from imblearn.under_sampling import RandomUnderSampler\n",
        "from collections import Counter\n",
        "\n",
        "print('Before Random Under Sampling:',Counter(y))\n",
        "# define UnderSampling strategy\n",
        "undersample = RandomUnderSampler(sampling_strategy='majority')\n",
        "# fit and apply the transform\n",
        "X_under, y_under_min = undersample.fit_resample(X, y)\n",
        "# summarize class distribution\n",
        "print('Post Random Under Sampling using Strategy as majority where only Majority class is under sampled:',Counter(y_under_min))\n",
        "# define UnderSampling strategy\n",
        "undersample = RandomUnderSampler(sampling_strategy='not minority')\n",
        "# fit and apply the transform\n",
        "X_under, y_under_not_min = undersample.fit_resample(X, y)\n",
        "# summarize class distribution\n",
        "print('Post Random Under Sampling using Strategy as not minority where all classes are under sampled except Minority:',Counter(y_under_not_min))\n",
        "# define UnderSampling strategy\n",
        "undersample = RandomUnderSampler(sampling_strategy='not majority')\n",
        "# fit and apply the transform\n",
        "X_under, y_under_not_maj = undersample.fit_resample(X, y)\n",
        "# summarize class distribution\n",
        "print('Post Random Under Sampling using Strategy as not majority where all classes are under sampled except Majority:',Counter(y_under_not_maj))\n",
        "# define UnderSampling strategy\n",
        "undersample = RandomUnderSampler(sampling_strategy='all')\n",
        "# fit and apply the transform\n",
        "X_under, y_under_all = undersample.fit_resample(X, y)\n",
        "# summarize class distribution\n",
        "print('Post Random Under Sampling using Strategy as all where all classes are under sampled:',Counter(y_under_all))"
      ],
      "execution_count": 31,
      "outputs": [
        {
          "output_type": "stream",
          "text": [
            "Before Random Under Sampling: Counter({2: 4270, 3: 3910, 4: 1212, 1: 498, 5: 110})\n",
            "Post Random Under Sampling using Strategy as majority where only Majority class is under sampled: Counter({3: 3910, 4: 1212, 1: 498, 2: 110, 5: 110})\n",
            "Post Random Under Sampling using Strategy as not minority where all classes are under sampled except Minority: Counter({1: 110, 2: 110, 3: 110, 4: 110, 5: 110})\n",
            "Post Random Under Sampling using Strategy as not majority where all classes are under sampled except Majority: Counter({2: 4270, 1: 110, 3: 110, 4: 110, 5: 110})\n",
            "Post Random Under Sampling using Strategy as all where all classes are under sampled: Counter({1: 110, 2: 110, 3: 110, 4: 110, 5: 110})\n"
          ],
          "name": "stdout"
        }
      ]
    },
    {
      "cell_type": "code",
      "metadata": {
        "colab": {
          "base_uri": "https://localhost:8080/",
          "height": 153
        },
        "id": "E4aH9Q68osnX",
        "outputId": "5c78ad2d-9121-4c96-a541-ed6de315771c"
      },
      "source": [
        "RandomUnderSampler_df = pd.DataFrame(X_under, columns = ['Allied_Nations', 'Diplomatic_Meetings_Set',\n",
        "       'Percent_Of_Forces_Mobilized', 'Hostile_Nations', 'Active_Threats',\n",
        "       'Inactive_Threats', 'Citizen_Fear_Index', 'Closest_Threat_Distance(km)',\n",
        "       'Aircraft_Carriers_Responding', 'Troops_Mobilized(thousands)'])\n",
        "RandomUnderSampler_df.head(3)"
      ],
      "execution_count": 32,
      "outputs": [
        {
          "output_type": "execute_result",
          "data": {
            "text/html": [
              "<div>\n",
              "<style scoped>\n",
              "    .dataframe tbody tr th:only-of-type {\n",
              "        vertical-align: middle;\n",
              "    }\n",
              "\n",
              "    .dataframe tbody tr th {\n",
              "        vertical-align: top;\n",
              "    }\n",
              "\n",
              "    .dataframe thead th {\n",
              "        text-align: right;\n",
              "    }\n",
              "</style>\n",
              "<table border=\"1\" class=\"dataframe\">\n",
              "  <thead>\n",
              "    <tr style=\"text-align: right;\">\n",
              "      <th></th>\n",
              "      <th>Allied_Nations</th>\n",
              "      <th>Diplomatic_Meetings_Set</th>\n",
              "      <th>Percent_Of_Forces_Mobilized</th>\n",
              "      <th>Hostile_Nations</th>\n",
              "      <th>Active_Threats</th>\n",
              "      <th>Inactive_Threats</th>\n",
              "      <th>Citizen_Fear_Index</th>\n",
              "      <th>Closest_Threat_Distance(km)</th>\n",
              "      <th>Aircraft_Carriers_Responding</th>\n",
              "      <th>Troops_Mobilized(thousands)</th>\n",
              "    </tr>\n",
              "  </thead>\n",
              "  <tbody>\n",
              "    <tr>\n",
              "      <th>0</th>\n",
              "      <td>8.0</td>\n",
              "      <td>0.0</td>\n",
              "      <td>0.10</td>\n",
              "      <td>2.0</td>\n",
              "      <td>6.0</td>\n",
              "      <td>16.0</td>\n",
              "      <td>0.435389</td>\n",
              "      <td>347.68</td>\n",
              "      <td>1.0</td>\n",
              "      <td>906400.0</td>\n",
              "    </tr>\n",
              "    <tr>\n",
              "      <th>1</th>\n",
              "      <td>7.0</td>\n",
              "      <td>1.0</td>\n",
              "      <td>0.00</td>\n",
              "      <td>2.0</td>\n",
              "      <td>12.0</td>\n",
              "      <td>38.0</td>\n",
              "      <td>0.491189</td>\n",
              "      <td>357.22</td>\n",
              "      <td>0.0</td>\n",
              "      <td>800800.0</td>\n",
              "    </tr>\n",
              "    <tr>\n",
              "      <th>2</th>\n",
              "      <td>7.0</td>\n",
              "      <td>1.0</td>\n",
              "      <td>0.03</td>\n",
              "      <td>2.0</td>\n",
              "      <td>7.0</td>\n",
              "      <td>12.0</td>\n",
              "      <td>0.450073</td>\n",
              "      <td>368.88</td>\n",
              "      <td>0.0</td>\n",
              "      <td>897600.0</td>\n",
              "    </tr>\n",
              "  </tbody>\n",
              "</table>\n",
              "</div>"
            ],
            "text/plain": [
              "   Allied_Nations  ...  Troops_Mobilized(thousands)\n",
              "0             8.0  ...                     906400.0\n",
              "1             7.0  ...                     800800.0\n",
              "2             7.0  ...                     897600.0\n",
              "\n",
              "[3 rows x 10 columns]"
            ]
          },
          "metadata": {
            "tags": []
          },
          "execution_count": 32
        }
      ]
    },
    {
      "cell_type": "code",
      "metadata": {
        "colab": {
          "base_uri": "https://localhost:8080/",
          "height": 153
        },
        "id": "gfgMBNuGo88V",
        "outputId": "1ba4b749-584d-4da0-e153-e5b7a06579ff"
      },
      "source": [
        "RandomUnderSampler_df['DEFCON_Level'] = y_under_all\n",
        "RandomUnderSampler_df.head(3)"
      ],
      "execution_count": 33,
      "outputs": [
        {
          "output_type": "execute_result",
          "data": {
            "text/html": [
              "<div>\n",
              "<style scoped>\n",
              "    .dataframe tbody tr th:only-of-type {\n",
              "        vertical-align: middle;\n",
              "    }\n",
              "\n",
              "    .dataframe tbody tr th {\n",
              "        vertical-align: top;\n",
              "    }\n",
              "\n",
              "    .dataframe thead th {\n",
              "        text-align: right;\n",
              "    }\n",
              "</style>\n",
              "<table border=\"1\" class=\"dataframe\">\n",
              "  <thead>\n",
              "    <tr style=\"text-align: right;\">\n",
              "      <th></th>\n",
              "      <th>Allied_Nations</th>\n",
              "      <th>Diplomatic_Meetings_Set</th>\n",
              "      <th>Percent_Of_Forces_Mobilized</th>\n",
              "      <th>Hostile_Nations</th>\n",
              "      <th>Active_Threats</th>\n",
              "      <th>Inactive_Threats</th>\n",
              "      <th>Citizen_Fear_Index</th>\n",
              "      <th>Closest_Threat_Distance(km)</th>\n",
              "      <th>Aircraft_Carriers_Responding</th>\n",
              "      <th>Troops_Mobilized(thousands)</th>\n",
              "      <th>DEFCON_Level</th>\n",
              "    </tr>\n",
              "  </thead>\n",
              "  <tbody>\n",
              "    <tr>\n",
              "      <th>0</th>\n",
              "      <td>8.0</td>\n",
              "      <td>0.0</td>\n",
              "      <td>0.10</td>\n",
              "      <td>2.0</td>\n",
              "      <td>6.0</td>\n",
              "      <td>16.0</td>\n",
              "      <td>0.435389</td>\n",
              "      <td>347.68</td>\n",
              "      <td>1.0</td>\n",
              "      <td>906400.0</td>\n",
              "      <td>1</td>\n",
              "    </tr>\n",
              "    <tr>\n",
              "      <th>1</th>\n",
              "      <td>7.0</td>\n",
              "      <td>1.0</td>\n",
              "      <td>0.00</td>\n",
              "      <td>2.0</td>\n",
              "      <td>12.0</td>\n",
              "      <td>38.0</td>\n",
              "      <td>0.491189</td>\n",
              "      <td>357.22</td>\n",
              "      <td>0.0</td>\n",
              "      <td>800800.0</td>\n",
              "      <td>1</td>\n",
              "    </tr>\n",
              "    <tr>\n",
              "      <th>2</th>\n",
              "      <td>7.0</td>\n",
              "      <td>1.0</td>\n",
              "      <td>0.03</td>\n",
              "      <td>2.0</td>\n",
              "      <td>7.0</td>\n",
              "      <td>12.0</td>\n",
              "      <td>0.450073</td>\n",
              "      <td>368.88</td>\n",
              "      <td>0.0</td>\n",
              "      <td>897600.0</td>\n",
              "      <td>1</td>\n",
              "    </tr>\n",
              "  </tbody>\n",
              "</table>\n",
              "</div>"
            ],
            "text/plain": [
              "   Allied_Nations  ...  DEFCON_Level\n",
              "0             8.0  ...             1\n",
              "1             7.0  ...             1\n",
              "2             7.0  ...             1\n",
              "\n",
              "[3 rows x 11 columns]"
            ]
          },
          "metadata": {
            "tags": []
          },
          "execution_count": 33
        }
      ]
    },
    {
      "cell_type": "code",
      "metadata": {
        "colab": {
          "base_uri": "https://localhost:8080/",
          "height": 296
        },
        "id": "QbqVcRQ7pHGZ",
        "outputId": "378211de-a546-452d-8791-0dacf4018f8d"
      },
      "source": [
        "import seaborn as sns\n",
        "import matplotlib.pyplot as plt\n",
        "\n",
        "sns.kdeplot(RandomUnderSampler_df.DEFCON_Level)\n",
        "plt.figure(figsize=(10,10))\n",
        "plt.show()"
      ],
      "execution_count": 35,
      "outputs": [
        {
          "output_type": "display_data",
          "data": {
            "image/png": "[encoded data removed]",
            "text/plain": [
              "<Figure size 432x288 with 1 Axes>"
            ]
          },
          "metadata": {
            "tags": [],
            "needs_background": "light"
          }
        },
        {
          "output_type": "display_data",
          "data": {
            "text/plain": [
              "<Figure size 720x720 with 0 Axes>"
            ]
          },
          "metadata": {
            "tags": []
          }
        }
      ]
    },
    {
      "cell_type": "markdown",
      "metadata": {
        "id": "n5GrJQE6pR4h"
      },
      "source": [
        "This shows all classes in the data are balanced but with data loss"
      ]
    },
    {
      "cell_type": "code",
      "metadata": {
        "colab": {
          "base_uri": "https://localhost:8080/"
        },
        "id": "JIIb5gBepCnG",
        "outputId": "9209802e-86bd-4221-d37a-117cf68e36b8"
      },
      "source": [
        "RandomUnderSampler_df.info()"
      ],
      "execution_count": 34,
      "outputs": [
        {
          "output_type": "stream",
          "text": [
            "<class 'pandas.core.frame.DataFrame'>\n",
            "RangeIndex: 550 entries, 0 to 549\n",
            "Data columns (total 11 columns):\n",
            " #   Column                        Non-Null Count  Dtype  \n",
            "---  ------                        --------------  -----  \n",
            " 0   Allied_Nations                550 non-null    float64\n",
            " 1   Diplomatic_Meetings_Set       550 non-null    float64\n",
            " 2   Percent_Of_Forces_Mobilized   550 non-null    float64\n",
            " 3   Hostile_Nations               550 non-null    float64\n",
            " 4   Active_Threats                550 non-null    float64\n",
            " 5   Inactive_Threats              550 non-null    float64\n",
            " 6   Citizen_Fear_Index            550 non-null    float64\n",
            " 7   Closest_Threat_Distance(km)   550 non-null    float64\n",
            " 8   Aircraft_Carriers_Responding  550 non-null    float64\n",
            " 9   Troops_Mobilized(thousands)   550 non-null    float64\n",
            " 10  DEFCON_Level                  550 non-null    int64  \n",
            "dtypes: float64(10), int64(1)\n",
            "memory usage: 47.4 KB\n"
          ],
          "name": "stdout"
        }
      ]
    },
    {
      "cell_type": "markdown",
      "metadata": {
        "id": "4PjJ9PcspX3U"
      },
      "source": [
        ""
      ]
    },
    {
      "cell_type": "code",
      "metadata": {
        "id": "T8su7gdmpXCx"
      },
      "source": [
        ""
      ],
      "execution_count": null,
      "outputs": []
    }
  ]
}