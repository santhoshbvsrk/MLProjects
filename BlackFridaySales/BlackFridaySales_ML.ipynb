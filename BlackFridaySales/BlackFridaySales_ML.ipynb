{
  "nbformat": 4,
  "nbformat_minor": 0,
  "metadata": {
    "kernelspec": {
      "display_name": "Python 3",
      "language": "python",
      "name": "python3"
    },
    "language_info": {
      "codemirror_mode": {
        "name": "ipython",
        "version": 3
      },
      "file_extension": ".py",
      "mimetype": "text/x-python",
      "name": "python",
      "nbconvert_exporter": "python",
      "pygments_lexer": "ipython3",
      "version": "3.8.3"
    },
    "colab": {
      "name": "BlackFridaySales-ML.ipynb",
      "provenance": [],
      "collapsed_sections": [],
      "include_colab_link": true
    }
  },
  "cells": [
    {
      "cell_type": "markdown",
      "metadata": {
        "id": "view-in-github",
        "colab_type": "text"
      },
      "source": [
        "<a href=\"https://colab.research.google.com/github/santhoshbvsrk/Machine-Learning-Projects/blob/main/BlackFridaySales/BlackFridaySales_ML.ipynb\" target=\"_parent\"><img src=\"https://colab.research.google.com/assets/colab-badge.svg\" alt=\"Open In Colab\"/></a>"
      ]
    },
    {
      "cell_type": "code",
      "metadata": {
        "id": "vBol1MMEQmyt"
      },
      "source": [
        "import warnings\r\n",
        "warnings.filterwarnings('ignore')"
      ],
      "execution_count": 2,
      "outputs": []
    },
    {
      "cell_type": "code",
      "metadata": {
        "id": "g1M58J072qgR"
      },
      "source": [
        "import pandas as pd\n",
        "import numpy as np"
      ],
      "execution_count": 3,
      "outputs": []
    },
    {
      "cell_type": "code",
      "metadata": {
        "colab": {
          "base_uri": "https://localhost:8080/",
          "height": 191
        },
        "id": "C_Yu2aRJ2qgt",
        "outputId": "1521d3b9-2f8b-49ab-fe38-6fed63175547"
      },
      "source": [
        "url=\"https://raw.githubusercontent.com/santhoshbvsrk/Machine-Learning-Projects/main/BlackFridaySales/train.csv\"\n",
        "df=pd.read_csv(url)\n",
        "df.head()"
      ],
      "execution_count": 4,
      "outputs": [
        {
          "output_type": "execute_result",
          "data": {
            "text/html": [
              "<div>\n",
              "<style scoped>\n",
              "    .dataframe tbody tr th:only-of-type {\n",
              "        vertical-align: middle;\n",
              "    }\n",
              "\n",
              "    .dataframe tbody tr th {\n",
              "        vertical-align: top;\n",
              "    }\n",
              "\n",
              "    .dataframe thead th {\n",
              "        text-align: right;\n",
              "    }\n",
              "</style>\n",
              "<table border=\"1\" class=\"dataframe\">\n",
              "  <thead>\n",
              "    <tr style=\"text-align: right;\">\n",
              "      <th></th>\n",
              "      <th>User_ID</th>\n",
              "      <th>Product_ID</th>\n",
              "      <th>Gender</th>\n",
              "      <th>Age</th>\n",
              "      <th>Occupation</th>\n",
              "      <th>City_Category</th>\n",
              "      <th>Stay_In_Current_City_Years</th>\n",
              "      <th>Marital_Status</th>\n",
              "      <th>Product_Category_1</th>\n",
              "      <th>Product_Category_2</th>\n",
              "      <th>Product_Category_3</th>\n",
              "      <th>Purchase</th>\n",
              "    </tr>\n",
              "  </thead>\n",
              "  <tbody>\n",
              "    <tr>\n",
              "      <th>0</th>\n",
              "      <td>1000001</td>\n",
              "      <td>P00069042</td>\n",
              "      <td>F</td>\n",
              "      <td>0-17</td>\n",
              "      <td>10</td>\n",
              "      <td>A</td>\n",
              "      <td>2</td>\n",
              "      <td>0</td>\n",
              "      <td>3</td>\n",
              "      <td>NaN</td>\n",
              "      <td>NaN</td>\n",
              "      <td>8370</td>\n",
              "    </tr>\n",
              "    <tr>\n",
              "      <th>1</th>\n",
              "      <td>1000001</td>\n",
              "      <td>P00248942</td>\n",
              "      <td>F</td>\n",
              "      <td>0-17</td>\n",
              "      <td>10</td>\n",
              "      <td>A</td>\n",
              "      <td>2</td>\n",
              "      <td>0</td>\n",
              "      <td>1</td>\n",
              "      <td>6.0</td>\n",
              "      <td>14.0</td>\n",
              "      <td>15200</td>\n",
              "    </tr>\n",
              "    <tr>\n",
              "      <th>2</th>\n",
              "      <td>1000001</td>\n",
              "      <td>P00087842</td>\n",
              "      <td>F</td>\n",
              "      <td>0-17</td>\n",
              "      <td>10</td>\n",
              "      <td>A</td>\n",
              "      <td>2</td>\n",
              "      <td>0</td>\n",
              "      <td>12</td>\n",
              "      <td>NaN</td>\n",
              "      <td>NaN</td>\n",
              "      <td>1422</td>\n",
              "    </tr>\n",
              "    <tr>\n",
              "      <th>3</th>\n",
              "      <td>1000001</td>\n",
              "      <td>P00085442</td>\n",
              "      <td>F</td>\n",
              "      <td>0-17</td>\n",
              "      <td>10</td>\n",
              "      <td>A</td>\n",
              "      <td>2</td>\n",
              "      <td>0</td>\n",
              "      <td>12</td>\n",
              "      <td>14.0</td>\n",
              "      <td>NaN</td>\n",
              "      <td>1057</td>\n",
              "    </tr>\n",
              "    <tr>\n",
              "      <th>4</th>\n",
              "      <td>1000002</td>\n",
              "      <td>P00285442</td>\n",
              "      <td>M</td>\n",
              "      <td>55+</td>\n",
              "      <td>16</td>\n",
              "      <td>C</td>\n",
              "      <td>4+</td>\n",
              "      <td>0</td>\n",
              "      <td>8</td>\n",
              "      <td>NaN</td>\n",
              "      <td>NaN</td>\n",
              "      <td>7969</td>\n",
              "    </tr>\n",
              "  </tbody>\n",
              "</table>\n",
              "</div>"
            ],
            "text/plain": [
              "   User_ID Product_ID Gender  ... Product_Category_2  Product_Category_3 Purchase\n",
              "0  1000001  P00069042      F  ...                NaN                 NaN     8370\n",
              "1  1000001  P00248942      F  ...                6.0                14.0    15200\n",
              "2  1000001  P00087842      F  ...                NaN                 NaN     1422\n",
              "3  1000001  P00085442      F  ...               14.0                 NaN     1057\n",
              "4  1000002  P00285442      M  ...                NaN                 NaN     7969\n",
              "\n",
              "[5 rows x 12 columns]"
            ]
          },
          "metadata": {
            "tags": []
          },
          "execution_count": 4
        }
      ]
    },
    {
      "cell_type": "markdown",
      "metadata": {
        "id": "WgqI919N2qgz"
      },
      "source": [
        "#### Looks like there are multiple entries for few customers"
      ]
    },
    {
      "cell_type": "code",
      "metadata": {
        "colab": {
          "base_uri": "https://localhost:8080/"
        },
        "id": "l4HAk0Sn2qg0",
        "outputId": "1a28d286-1b41-4391-d715-599467bb3e3d"
      },
      "source": [
        "df.info()"
      ],
      "execution_count": 5,
      "outputs": [
        {
          "output_type": "stream",
          "text": [
            "<class 'pandas.core.frame.DataFrame'>\n",
            "RangeIndex: 550068 entries, 0 to 550067\n",
            "Data columns (total 12 columns):\n",
            " #   Column                      Non-Null Count   Dtype  \n",
            "---  ------                      --------------   -----  \n",
            " 0   User_ID                     550068 non-null  int64  \n",
            " 1   Product_ID                  550068 non-null  object \n",
            " 2   Gender                      550068 non-null  object \n",
            " 3   Age                         550068 non-null  object \n",
            " 4   Occupation                  550068 non-null  int64  \n",
            " 5   City_Category               550068 non-null  object \n",
            " 6   Stay_In_Current_City_Years  550068 non-null  object \n",
            " 7   Marital_Status              550068 non-null  int64  \n",
            " 8   Product_Category_1          550068 non-null  int64  \n",
            " 9   Product_Category_2          376430 non-null  float64\n",
            " 10  Product_Category_3          166821 non-null  float64\n",
            " 11  Purchase                    550068 non-null  int64  \n",
            "dtypes: float64(2), int64(5), object(5)\n",
            "memory usage: 50.4+ MB\n"
          ],
          "name": "stdout"
        }
      ]
    },
    {
      "cell_type": "markdown",
      "metadata": {
        "id": "20QGYiTm2qg3"
      },
      "source": [
        "#### Looks like there are null values in Product_Category_2 & Product_Category_3"
      ]
    },
    {
      "cell_type": "code",
      "metadata": {
        "id": "Wi5fbTRH2qg5"
      },
      "source": [
        "#filling null values with 0\n",
        "df = df.fillna(0)"
      ],
      "execution_count": 6,
      "outputs": []
    },
    {
      "cell_type": "code",
      "metadata": {
        "colab": {
          "base_uri": "https://localhost:8080/"
        },
        "id": "DNAJjxGg2qg7",
        "outputId": "04475afb-b94d-495c-aa7c-f78a42cdc7ed"
      },
      "source": [
        "df.info()"
      ],
      "execution_count": 7,
      "outputs": [
        {
          "output_type": "stream",
          "text": [
            "<class 'pandas.core.frame.DataFrame'>\n",
            "RangeIndex: 550068 entries, 0 to 550067\n",
            "Data columns (total 12 columns):\n",
            " #   Column                      Non-Null Count   Dtype  \n",
            "---  ------                      --------------   -----  \n",
            " 0   User_ID                     550068 non-null  int64  \n",
            " 1   Product_ID                  550068 non-null  object \n",
            " 2   Gender                      550068 non-null  object \n",
            " 3   Age                         550068 non-null  object \n",
            " 4   Occupation                  550068 non-null  int64  \n",
            " 5   City_Category               550068 non-null  object \n",
            " 6   Stay_In_Current_City_Years  550068 non-null  object \n",
            " 7   Marital_Status              550068 non-null  int64  \n",
            " 8   Product_Category_1          550068 non-null  int64  \n",
            " 9   Product_Category_2          550068 non-null  float64\n",
            " 10  Product_Category_3          550068 non-null  float64\n",
            " 11  Purchase                    550068 non-null  int64  \n",
            "dtypes: float64(2), int64(5), object(5)\n",
            "memory usage: 50.4+ MB\n"
          ],
          "name": "stdout"
        }
      ]
    },
    {
      "cell_type": "markdown",
      "metadata": {
        "id": "Ta2A-vil2qg9"
      },
      "source": [
        "##### From the above we can say that our Target Variable i.e., Purchase is an integer value which means we've to perform Linear Regression on it.\n",
        "##### So, we'll convert all categorical variables into Numerical"
      ]
    },
    {
      "cell_type": "code",
      "metadata": {
        "colab": {
          "base_uri": "https://localhost:8080/",
          "height": 391
        },
        "id": "W4jKwGmMFzXi",
        "outputId": "0f063d3b-c459-4131-bc78-fcdae8d8faf2"
      },
      "source": [
        "df[df.duplicated(subset='User_ID')]"
      ],
      "execution_count": 8,
      "outputs": [
        {
          "output_type": "execute_result",
          "data": {
            "text/html": [
              "<div>\n",
              "<style scoped>\n",
              "    .dataframe tbody tr th:only-of-type {\n",
              "        vertical-align: middle;\n",
              "    }\n",
              "\n",
              "    .dataframe tbody tr th {\n",
              "        vertical-align: top;\n",
              "    }\n",
              "\n",
              "    .dataframe thead th {\n",
              "        text-align: right;\n",
              "    }\n",
              "</style>\n",
              "<table border=\"1\" class=\"dataframe\">\n",
              "  <thead>\n",
              "    <tr style=\"text-align: right;\">\n",
              "      <th></th>\n",
              "      <th>User_ID</th>\n",
              "      <th>Product_ID</th>\n",
              "      <th>Gender</th>\n",
              "      <th>Age</th>\n",
              "      <th>Occupation</th>\n",
              "      <th>City_Category</th>\n",
              "      <th>Stay_In_Current_City_Years</th>\n",
              "      <th>Marital_Status</th>\n",
              "      <th>Product_Category_1</th>\n",
              "      <th>Product_Category_2</th>\n",
              "      <th>Product_Category_3</th>\n",
              "      <th>Purchase</th>\n",
              "    </tr>\n",
              "  </thead>\n",
              "  <tbody>\n",
              "    <tr>\n",
              "      <th>1</th>\n",
              "      <td>1000001</td>\n",
              "      <td>P00248942</td>\n",
              "      <td>F</td>\n",
              "      <td>0-17</td>\n",
              "      <td>10</td>\n",
              "      <td>A</td>\n",
              "      <td>2</td>\n",
              "      <td>0</td>\n",
              "      <td>1</td>\n",
              "      <td>6.0</td>\n",
              "      <td>14.0</td>\n",
              "      <td>15200</td>\n",
              "    </tr>\n",
              "    <tr>\n",
              "      <th>2</th>\n",
              "      <td>1000001</td>\n",
              "      <td>P00087842</td>\n",
              "      <td>F</td>\n",
              "      <td>0-17</td>\n",
              "      <td>10</td>\n",
              "      <td>A</td>\n",
              "      <td>2</td>\n",
              "      <td>0</td>\n",
              "      <td>12</td>\n",
              "      <td>0.0</td>\n",
              "      <td>0.0</td>\n",
              "      <td>1422</td>\n",
              "    </tr>\n",
              "    <tr>\n",
              "      <th>3</th>\n",
              "      <td>1000001</td>\n",
              "      <td>P00085442</td>\n",
              "      <td>F</td>\n",
              "      <td>0-17</td>\n",
              "      <td>10</td>\n",
              "      <td>A</td>\n",
              "      <td>2</td>\n",
              "      <td>0</td>\n",
              "      <td>12</td>\n",
              "      <td>14.0</td>\n",
              "      <td>0.0</td>\n",
              "      <td>1057</td>\n",
              "    </tr>\n",
              "    <tr>\n",
              "      <th>7</th>\n",
              "      <td>1000004</td>\n",
              "      <td>P00346142</td>\n",
              "      <td>M</td>\n",
              "      <td>46-50</td>\n",
              "      <td>7</td>\n",
              "      <td>B</td>\n",
              "      <td>2</td>\n",
              "      <td>1</td>\n",
              "      <td>1</td>\n",
              "      <td>15.0</td>\n",
              "      <td>0.0</td>\n",
              "      <td>15854</td>\n",
              "    </tr>\n",
              "    <tr>\n",
              "      <th>8</th>\n",
              "      <td>1000004</td>\n",
              "      <td>P0097242</td>\n",
              "      <td>M</td>\n",
              "      <td>46-50</td>\n",
              "      <td>7</td>\n",
              "      <td>B</td>\n",
              "      <td>2</td>\n",
              "      <td>1</td>\n",
              "      <td>1</td>\n",
              "      <td>16.0</td>\n",
              "      <td>0.0</td>\n",
              "      <td>15686</td>\n",
              "    </tr>\n",
              "    <tr>\n",
              "      <th>...</th>\n",
              "      <td>...</td>\n",
              "      <td>...</td>\n",
              "      <td>...</td>\n",
              "      <td>...</td>\n",
              "      <td>...</td>\n",
              "      <td>...</td>\n",
              "      <td>...</td>\n",
              "      <td>...</td>\n",
              "      <td>...</td>\n",
              "      <td>...</td>\n",
              "      <td>...</td>\n",
              "      <td>...</td>\n",
              "    </tr>\n",
              "    <tr>\n",
              "      <th>550063</th>\n",
              "      <td>1006033</td>\n",
              "      <td>P00372445</td>\n",
              "      <td>M</td>\n",
              "      <td>51-55</td>\n",
              "      <td>13</td>\n",
              "      <td>B</td>\n",
              "      <td>1</td>\n",
              "      <td>1</td>\n",
              "      <td>20</td>\n",
              "      <td>0.0</td>\n",
              "      <td>0.0</td>\n",
              "      <td>368</td>\n",
              "    </tr>\n",
              "    <tr>\n",
              "      <th>550064</th>\n",
              "      <td>1006035</td>\n",
              "      <td>P00375436</td>\n",
              "      <td>F</td>\n",
              "      <td>26-35</td>\n",
              "      <td>1</td>\n",
              "      <td>C</td>\n",
              "      <td>3</td>\n",
              "      <td>0</td>\n",
              "      <td>20</td>\n",
              "      <td>0.0</td>\n",
              "      <td>0.0</td>\n",
              "      <td>371</td>\n",
              "    </tr>\n",
              "    <tr>\n",
              "      <th>550065</th>\n",
              "      <td>1006036</td>\n",
              "      <td>P00375436</td>\n",
              "      <td>F</td>\n",
              "      <td>26-35</td>\n",
              "      <td>15</td>\n",
              "      <td>B</td>\n",
              "      <td>4+</td>\n",
              "      <td>1</td>\n",
              "      <td>20</td>\n",
              "      <td>0.0</td>\n",
              "      <td>0.0</td>\n",
              "      <td>137</td>\n",
              "    </tr>\n",
              "    <tr>\n",
              "      <th>550066</th>\n",
              "      <td>1006038</td>\n",
              "      <td>P00375436</td>\n",
              "      <td>F</td>\n",
              "      <td>55+</td>\n",
              "      <td>1</td>\n",
              "      <td>C</td>\n",
              "      <td>2</td>\n",
              "      <td>0</td>\n",
              "      <td>20</td>\n",
              "      <td>0.0</td>\n",
              "      <td>0.0</td>\n",
              "      <td>365</td>\n",
              "    </tr>\n",
              "    <tr>\n",
              "      <th>550067</th>\n",
              "      <td>1006039</td>\n",
              "      <td>P00371644</td>\n",
              "      <td>F</td>\n",
              "      <td>46-50</td>\n",
              "      <td>0</td>\n",
              "      <td>B</td>\n",
              "      <td>4+</td>\n",
              "      <td>1</td>\n",
              "      <td>20</td>\n",
              "      <td>0.0</td>\n",
              "      <td>0.0</td>\n",
              "      <td>490</td>\n",
              "    </tr>\n",
              "  </tbody>\n",
              "</table>\n",
              "<p>544177 rows × 12 columns</p>\n",
              "</div>"
            ],
            "text/plain": [
              "        User_ID Product_ID  ... Product_Category_3 Purchase\n",
              "1       1000001  P00248942  ...               14.0    15200\n",
              "2       1000001  P00087842  ...                0.0     1422\n",
              "3       1000001  P00085442  ...                0.0     1057\n",
              "7       1000004  P00346142  ...                0.0    15854\n",
              "8       1000004   P0097242  ...                0.0    15686\n",
              "...         ...        ...  ...                ...      ...\n",
              "550063  1006033  P00372445  ...                0.0      368\n",
              "550064  1006035  P00375436  ...                0.0      371\n",
              "550065  1006036  P00375436  ...                0.0      137\n",
              "550066  1006038  P00375436  ...                0.0      365\n",
              "550067  1006039  P00371644  ...                0.0      490\n",
              "\n",
              "[544177 rows x 12 columns]"
            ]
          },
          "metadata": {
            "tags": []
          },
          "execution_count": 8
        }
      ]
    },
    {
      "cell_type": "markdown",
      "metadata": {
        "id": "v7s9bZiP2qg_"
      },
      "source": [
        "##### As part of cleaning up data, as there are multiple entries for the same customer/userid. We'll group them i.e., we'll have a single entry for customer/userid and sum up their relevant numeric data and reset their index."
      ]
    },
    {
      "cell_type": "code",
      "metadata": {
        "id": "pAGrO4BV2qhB"
      },
      "source": [
        "data_numeric = df[[\"User_ID\", \"Product_Category_1\", \"Product_Category_2\", \"Product_Category_3\", \"Purchase\"]].groupby(\"User_ID\").sum().reset_index().drop(\"User_ID\", axis=1)"
      ],
      "execution_count": 9,
      "outputs": []
    },
    {
      "cell_type": "code",
      "metadata": {
        "colab": {
          "base_uri": "https://localhost:8080/",
          "height": 391
        },
        "id": "AhYrpBTd2qhC",
        "outputId": "45ca8b39-bca2-42ca-b1b0-60d7da2c97db"
      },
      "source": [
        "data_numeric"
      ],
      "execution_count": 10,
      "outputs": [
        {
          "output_type": "execute_result",
          "data": {
            "text/html": [
              "<div>\n",
              "<style scoped>\n",
              "    .dataframe tbody tr th:only-of-type {\n",
              "        vertical-align: middle;\n",
              "    }\n",
              "\n",
              "    .dataframe tbody tr th {\n",
              "        vertical-align: top;\n",
              "    }\n",
              "\n",
              "    .dataframe thead th {\n",
              "        text-align: right;\n",
              "    }\n",
              "</style>\n",
              "<table border=\"1\" class=\"dataframe\">\n",
              "  <thead>\n",
              "    <tr style=\"text-align: right;\">\n",
              "      <th></th>\n",
              "      <th>Product_Category_1</th>\n",
              "      <th>Product_Category_2</th>\n",
              "      <th>Product_Category_3</th>\n",
              "      <th>Purchase</th>\n",
              "    </tr>\n",
              "  </thead>\n",
              "  <tbody>\n",
              "    <tr>\n",
              "      <th>0</th>\n",
              "      <td>213</td>\n",
              "      <td>132.0</td>\n",
              "      <td>148.0</td>\n",
              "      <td>334093</td>\n",
              "    </tr>\n",
              "    <tr>\n",
              "      <th>1</th>\n",
              "      <td>354</td>\n",
              "      <td>539.0</td>\n",
              "      <td>359.0</td>\n",
              "      <td>810472</td>\n",
              "    </tr>\n",
              "    <tr>\n",
              "      <th>2</th>\n",
              "      <td>93</td>\n",
              "      <td>117.0</td>\n",
              "      <td>148.0</td>\n",
              "      <td>341635</td>\n",
              "    </tr>\n",
              "    <tr>\n",
              "      <th>3</th>\n",
              "      <td>33</td>\n",
              "      <td>102.0</td>\n",
              "      <td>127.0</td>\n",
              "      <td>206468</td>\n",
              "    </tr>\n",
              "    <tr>\n",
              "      <th>4</th>\n",
              "      <td>659</td>\n",
              "      <td>642.0</td>\n",
              "      <td>207.0</td>\n",
              "      <td>821001</td>\n",
              "    </tr>\n",
              "    <tr>\n",
              "      <th>...</th>\n",
              "      <td>...</td>\n",
              "      <td>...</td>\n",
              "      <td>...</td>\n",
              "      <td>...</td>\n",
              "    </tr>\n",
              "    <tr>\n",
              "      <th>5886</th>\n",
              "      <td>3200</td>\n",
              "      <td>3403.0</td>\n",
              "      <td>1509.0</td>\n",
              "      <td>4116058</td>\n",
              "    </tr>\n",
              "    <tr>\n",
              "      <th>5887</th>\n",
              "      <td>938</td>\n",
              "      <td>894.0</td>\n",
              "      <td>456.0</td>\n",
              "      <td>1119538</td>\n",
              "    </tr>\n",
              "    <tr>\n",
              "      <th>5888</th>\n",
              "      <td>83</td>\n",
              "      <td>93.0</td>\n",
              "      <td>51.0</td>\n",
              "      <td>90034</td>\n",
              "    </tr>\n",
              "    <tr>\n",
              "      <th>5889</th>\n",
              "      <td>439</td>\n",
              "      <td>580.0</td>\n",
              "      <td>324.0</td>\n",
              "      <td>590319</td>\n",
              "    </tr>\n",
              "    <tr>\n",
              "      <th>5890</th>\n",
              "      <td>1141</td>\n",
              "      <td>1110.0</td>\n",
              "      <td>455.0</td>\n",
              "      <td>1653299</td>\n",
              "    </tr>\n",
              "  </tbody>\n",
              "</table>\n",
              "<p>5891 rows × 4 columns</p>\n",
              "</div>"
            ],
            "text/plain": [
              "      Product_Category_1  Product_Category_2  Product_Category_3  Purchase\n",
              "0                    213               132.0               148.0    334093\n",
              "1                    354               539.0               359.0    810472\n",
              "2                     93               117.0               148.0    341635\n",
              "3                     33               102.0               127.0    206468\n",
              "4                    659               642.0               207.0    821001\n",
              "...                  ...                 ...                 ...       ...\n",
              "5886                3200              3403.0              1509.0   4116058\n",
              "5887                 938               894.0               456.0   1119538\n",
              "5888                  83                93.0                51.0     90034\n",
              "5889                 439               580.0               324.0    590319\n",
              "5890                1141              1110.0               455.0   1653299\n",
              "\n",
              "[5891 rows x 4 columns]"
            ]
          },
          "metadata": {
            "tags": []
          },
          "execution_count": 10
        }
      ]
    },
    {
      "cell_type": "markdown",
      "metadata": {
        "id": "I886j7li2qhD"
      },
      "source": [
        "##### Now let us drop duplicates from the categorical fields as we can't group and sum up categorical values and reset the index."
      ]
    },
    {
      "cell_type": "code",
      "metadata": {
        "id": "ZQPaeNn92qhE"
      },
      "source": [
        "data_categorical = df.drop_duplicates('User_ID')[[\"User_ID\", \"Gender\", \"Age\", \"Occupation\",\"City_Category\", \"Stay_In_Current_City_Years\", \"Marital_Status\"]].reset_index().drop([\"index\"], axis=1)"
      ],
      "execution_count": 11,
      "outputs": []
    },
    {
      "cell_type": "code",
      "metadata": {
        "colab": {
          "base_uri": "https://localhost:8080/",
          "height": 391
        },
        "id": "qWY4zabf2qhG",
        "outputId": "583094f7-127b-4b5e-bd5f-378ae6f37c80"
      },
      "source": [
        "data_categorical"
      ],
      "execution_count": 12,
      "outputs": [
        {
          "output_type": "execute_result",
          "data": {
            "text/html": [
              "<div>\n",
              "<style scoped>\n",
              "    .dataframe tbody tr th:only-of-type {\n",
              "        vertical-align: middle;\n",
              "    }\n",
              "\n",
              "    .dataframe tbody tr th {\n",
              "        vertical-align: top;\n",
              "    }\n",
              "\n",
              "    .dataframe thead th {\n",
              "        text-align: right;\n",
              "    }\n",
              "</style>\n",
              "<table border=\"1\" class=\"dataframe\">\n",
              "  <thead>\n",
              "    <tr style=\"text-align: right;\">\n",
              "      <th></th>\n",
              "      <th>User_ID</th>\n",
              "      <th>Gender</th>\n",
              "      <th>Age</th>\n",
              "      <th>Occupation</th>\n",
              "      <th>City_Category</th>\n",
              "      <th>Stay_In_Current_City_Years</th>\n",
              "      <th>Marital_Status</th>\n",
              "    </tr>\n",
              "  </thead>\n",
              "  <tbody>\n",
              "    <tr>\n",
              "      <th>0</th>\n",
              "      <td>1000001</td>\n",
              "      <td>F</td>\n",
              "      <td>0-17</td>\n",
              "      <td>10</td>\n",
              "      <td>A</td>\n",
              "      <td>2</td>\n",
              "      <td>0</td>\n",
              "    </tr>\n",
              "    <tr>\n",
              "      <th>1</th>\n",
              "      <td>1000002</td>\n",
              "      <td>M</td>\n",
              "      <td>55+</td>\n",
              "      <td>16</td>\n",
              "      <td>C</td>\n",
              "      <td>4+</td>\n",
              "      <td>0</td>\n",
              "    </tr>\n",
              "    <tr>\n",
              "      <th>2</th>\n",
              "      <td>1000003</td>\n",
              "      <td>M</td>\n",
              "      <td>26-35</td>\n",
              "      <td>15</td>\n",
              "      <td>A</td>\n",
              "      <td>3</td>\n",
              "      <td>0</td>\n",
              "    </tr>\n",
              "    <tr>\n",
              "      <th>3</th>\n",
              "      <td>1000004</td>\n",
              "      <td>M</td>\n",
              "      <td>46-50</td>\n",
              "      <td>7</td>\n",
              "      <td>B</td>\n",
              "      <td>2</td>\n",
              "      <td>1</td>\n",
              "    </tr>\n",
              "    <tr>\n",
              "      <th>4</th>\n",
              "      <td>1000005</td>\n",
              "      <td>M</td>\n",
              "      <td>26-35</td>\n",
              "      <td>20</td>\n",
              "      <td>A</td>\n",
              "      <td>1</td>\n",
              "      <td>1</td>\n",
              "    </tr>\n",
              "    <tr>\n",
              "      <th>...</th>\n",
              "      <td>...</td>\n",
              "      <td>...</td>\n",
              "      <td>...</td>\n",
              "      <td>...</td>\n",
              "      <td>...</td>\n",
              "      <td>...</td>\n",
              "      <td>...</td>\n",
              "    </tr>\n",
              "    <tr>\n",
              "      <th>5886</th>\n",
              "      <td>1004588</td>\n",
              "      <td>F</td>\n",
              "      <td>26-35</td>\n",
              "      <td>4</td>\n",
              "      <td>C</td>\n",
              "      <td>0</td>\n",
              "      <td>0</td>\n",
              "    </tr>\n",
              "    <tr>\n",
              "      <th>5887</th>\n",
              "      <td>1004871</td>\n",
              "      <td>M</td>\n",
              "      <td>18-25</td>\n",
              "      <td>12</td>\n",
              "      <td>C</td>\n",
              "      <td>2</td>\n",
              "      <td>0</td>\n",
              "    </tr>\n",
              "    <tr>\n",
              "      <th>5888</th>\n",
              "      <td>1004113</td>\n",
              "      <td>M</td>\n",
              "      <td>36-45</td>\n",
              "      <td>17</td>\n",
              "      <td>C</td>\n",
              "      <td>3</td>\n",
              "      <td>0</td>\n",
              "    </tr>\n",
              "    <tr>\n",
              "      <th>5889</th>\n",
              "      <td>1005391</td>\n",
              "      <td>M</td>\n",
              "      <td>26-35</td>\n",
              "      <td>7</td>\n",
              "      <td>A</td>\n",
              "      <td>0</td>\n",
              "      <td>0</td>\n",
              "    </tr>\n",
              "    <tr>\n",
              "      <th>5890</th>\n",
              "      <td>1001529</td>\n",
              "      <td>M</td>\n",
              "      <td>18-25</td>\n",
              "      <td>4</td>\n",
              "      <td>C</td>\n",
              "      <td>4+</td>\n",
              "      <td>1</td>\n",
              "    </tr>\n",
              "  </tbody>\n",
              "</table>\n",
              "<p>5891 rows × 7 columns</p>\n",
              "</div>"
            ],
            "text/plain": [
              "      User_ID Gender  ... Stay_In_Current_City_Years  Marital_Status\n",
              "0     1000001      F  ...                          2               0\n",
              "1     1000002      M  ...                         4+               0\n",
              "2     1000003      M  ...                          3               0\n",
              "3     1000004      M  ...                          2               1\n",
              "4     1000005      M  ...                          1               1\n",
              "...       ...    ...  ...                        ...             ...\n",
              "5886  1004588      F  ...                          0               0\n",
              "5887  1004871      M  ...                          2               0\n",
              "5888  1004113      M  ...                          3               0\n",
              "5889  1005391      M  ...                          0               0\n",
              "5890  1001529      M  ...                         4+               1\n",
              "\n",
              "[5891 rows x 7 columns]"
            ]
          },
          "metadata": {
            "tags": []
          },
          "execution_count": 12
        }
      ]
    },
    {
      "cell_type": "markdown",
      "metadata": {
        "id": "4vI7PEAt2qhI"
      },
      "source": [
        "###### Let us save the duplicate free data in a new data frame"
      ]
    },
    {
      "cell_type": "code",
      "metadata": {
        "colab": {
          "base_uri": "https://localhost:8080/",
          "height": 391
        },
        "id": "2PwklL2y2qhJ",
        "outputId": "f065b3a2-ecae-4ce2-c8a4-a4736260004f"
      },
      "source": [
        "data=pd.concat([data_numeric,data_categorical],axis=1)\n",
        "data"
      ],
      "execution_count": 13,
      "outputs": [
        {
          "output_type": "execute_result",
          "data": {
            "text/html": [
              "<div>\n",
              "<style scoped>\n",
              "    .dataframe tbody tr th:only-of-type {\n",
              "        vertical-align: middle;\n",
              "    }\n",
              "\n",
              "    .dataframe tbody tr th {\n",
              "        vertical-align: top;\n",
              "    }\n",
              "\n",
              "    .dataframe thead th {\n",
              "        text-align: right;\n",
              "    }\n",
              "</style>\n",
              "<table border=\"1\" class=\"dataframe\">\n",
              "  <thead>\n",
              "    <tr style=\"text-align: right;\">\n",
              "      <th></th>\n",
              "      <th>Product_Category_1</th>\n",
              "      <th>Product_Category_2</th>\n",
              "      <th>Product_Category_3</th>\n",
              "      <th>Purchase</th>\n",
              "      <th>User_ID</th>\n",
              "      <th>Gender</th>\n",
              "      <th>Age</th>\n",
              "      <th>Occupation</th>\n",
              "      <th>City_Category</th>\n",
              "      <th>Stay_In_Current_City_Years</th>\n",
              "      <th>Marital_Status</th>\n",
              "    </tr>\n",
              "  </thead>\n",
              "  <tbody>\n",
              "    <tr>\n",
              "      <th>0</th>\n",
              "      <td>213</td>\n",
              "      <td>132.0</td>\n",
              "      <td>148.0</td>\n",
              "      <td>334093</td>\n",
              "      <td>1000001</td>\n",
              "      <td>F</td>\n",
              "      <td>0-17</td>\n",
              "      <td>10</td>\n",
              "      <td>A</td>\n",
              "      <td>2</td>\n",
              "      <td>0</td>\n",
              "    </tr>\n",
              "    <tr>\n",
              "      <th>1</th>\n",
              "      <td>354</td>\n",
              "      <td>539.0</td>\n",
              "      <td>359.0</td>\n",
              "      <td>810472</td>\n",
              "      <td>1000002</td>\n",
              "      <td>M</td>\n",
              "      <td>55+</td>\n",
              "      <td>16</td>\n",
              "      <td>C</td>\n",
              "      <td>4+</td>\n",
              "      <td>0</td>\n",
              "    </tr>\n",
              "    <tr>\n",
              "      <th>2</th>\n",
              "      <td>93</td>\n",
              "      <td>117.0</td>\n",
              "      <td>148.0</td>\n",
              "      <td>341635</td>\n",
              "      <td>1000003</td>\n",
              "      <td>M</td>\n",
              "      <td>26-35</td>\n",
              "      <td>15</td>\n",
              "      <td>A</td>\n",
              "      <td>3</td>\n",
              "      <td>0</td>\n",
              "    </tr>\n",
              "    <tr>\n",
              "      <th>3</th>\n",
              "      <td>33</td>\n",
              "      <td>102.0</td>\n",
              "      <td>127.0</td>\n",
              "      <td>206468</td>\n",
              "      <td>1000004</td>\n",
              "      <td>M</td>\n",
              "      <td>46-50</td>\n",
              "      <td>7</td>\n",
              "      <td>B</td>\n",
              "      <td>2</td>\n",
              "      <td>1</td>\n",
              "    </tr>\n",
              "    <tr>\n",
              "      <th>4</th>\n",
              "      <td>659</td>\n",
              "      <td>642.0</td>\n",
              "      <td>207.0</td>\n",
              "      <td>821001</td>\n",
              "      <td>1000005</td>\n",
              "      <td>M</td>\n",
              "      <td>26-35</td>\n",
              "      <td>20</td>\n",
              "      <td>A</td>\n",
              "      <td>1</td>\n",
              "      <td>1</td>\n",
              "    </tr>\n",
              "    <tr>\n",
              "      <th>...</th>\n",
              "      <td>...</td>\n",
              "      <td>...</td>\n",
              "      <td>...</td>\n",
              "      <td>...</td>\n",
              "      <td>...</td>\n",
              "      <td>...</td>\n",
              "      <td>...</td>\n",
              "      <td>...</td>\n",
              "      <td>...</td>\n",
              "      <td>...</td>\n",
              "      <td>...</td>\n",
              "    </tr>\n",
              "    <tr>\n",
              "      <th>5886</th>\n",
              "      <td>3200</td>\n",
              "      <td>3403.0</td>\n",
              "      <td>1509.0</td>\n",
              "      <td>4116058</td>\n",
              "      <td>1004588</td>\n",
              "      <td>F</td>\n",
              "      <td>26-35</td>\n",
              "      <td>4</td>\n",
              "      <td>C</td>\n",
              "      <td>0</td>\n",
              "      <td>0</td>\n",
              "    </tr>\n",
              "    <tr>\n",
              "      <th>5887</th>\n",
              "      <td>938</td>\n",
              "      <td>894.0</td>\n",
              "      <td>456.0</td>\n",
              "      <td>1119538</td>\n",
              "      <td>1004871</td>\n",
              "      <td>M</td>\n",
              "      <td>18-25</td>\n",
              "      <td>12</td>\n",
              "      <td>C</td>\n",
              "      <td>2</td>\n",
              "      <td>0</td>\n",
              "    </tr>\n",
              "    <tr>\n",
              "      <th>5888</th>\n",
              "      <td>83</td>\n",
              "      <td>93.0</td>\n",
              "      <td>51.0</td>\n",
              "      <td>90034</td>\n",
              "      <td>1004113</td>\n",
              "      <td>M</td>\n",
              "      <td>36-45</td>\n",
              "      <td>17</td>\n",
              "      <td>C</td>\n",
              "      <td>3</td>\n",
              "      <td>0</td>\n",
              "    </tr>\n",
              "    <tr>\n",
              "      <th>5889</th>\n",
              "      <td>439</td>\n",
              "      <td>580.0</td>\n",
              "      <td>324.0</td>\n",
              "      <td>590319</td>\n",
              "      <td>1005391</td>\n",
              "      <td>M</td>\n",
              "      <td>26-35</td>\n",
              "      <td>7</td>\n",
              "      <td>A</td>\n",
              "      <td>0</td>\n",
              "      <td>0</td>\n",
              "    </tr>\n",
              "    <tr>\n",
              "      <th>5890</th>\n",
              "      <td>1141</td>\n",
              "      <td>1110.0</td>\n",
              "      <td>455.0</td>\n",
              "      <td>1653299</td>\n",
              "      <td>1001529</td>\n",
              "      <td>M</td>\n",
              "      <td>18-25</td>\n",
              "      <td>4</td>\n",
              "      <td>C</td>\n",
              "      <td>4+</td>\n",
              "      <td>1</td>\n",
              "    </tr>\n",
              "  </tbody>\n",
              "</table>\n",
              "<p>5891 rows × 11 columns</p>\n",
              "</div>"
            ],
            "text/plain": [
              "      Product_Category_1  ...  Marital_Status\n",
              "0                    213  ...               0\n",
              "1                    354  ...               0\n",
              "2                     93  ...               0\n",
              "3                     33  ...               1\n",
              "4                    659  ...               1\n",
              "...                  ...  ...             ...\n",
              "5886                3200  ...               0\n",
              "5887                 938  ...               0\n",
              "5888                  83  ...               0\n",
              "5889                 439  ...               0\n",
              "5890                1141  ...               1\n",
              "\n",
              "[5891 rows x 11 columns]"
            ]
          },
          "metadata": {
            "tags": []
          },
          "execution_count": 13
        }
      ]
    },
    {
      "cell_type": "code",
      "metadata": {
        "colab": {
          "base_uri": "https://localhost:8080/"
        },
        "id": "jne-PFYq2qhK",
        "outputId": "9ecb84f7-c8a3-4ad2-d76a-f791950ad9ae"
      },
      "source": [
        "data.info()"
      ],
      "execution_count": 14,
      "outputs": [
        {
          "output_type": "stream",
          "text": [
            "<class 'pandas.core.frame.DataFrame'>\n",
            "RangeIndex: 5891 entries, 0 to 5890\n",
            "Data columns (total 11 columns):\n",
            " #   Column                      Non-Null Count  Dtype  \n",
            "---  ------                      --------------  -----  \n",
            " 0   Product_Category_1          5891 non-null   int64  \n",
            " 1   Product_Category_2          5891 non-null   float64\n",
            " 2   Product_Category_3          5891 non-null   float64\n",
            " 3   Purchase                    5891 non-null   int64  \n",
            " 4   User_ID                     5891 non-null   int64  \n",
            " 5   Gender                      5891 non-null   object \n",
            " 6   Age                         5891 non-null   object \n",
            " 7   Occupation                  5891 non-null   int64  \n",
            " 8   City_Category               5891 non-null   object \n",
            " 9   Stay_In_Current_City_Years  5891 non-null   object \n",
            " 10  Marital_Status              5891 non-null   int64  \n",
            "dtypes: float64(2), int64(5), object(4)\n",
            "memory usage: 506.4+ KB\n"
          ],
          "name": "stdout"
        }
      ]
    },
    {
      "cell_type": "markdown",
      "metadata": {
        "id": "QEGP6tTs2qhL"
      },
      "source": [
        "##### Let us convert the numerical variables to int from float"
      ]
    },
    {
      "cell_type": "code",
      "metadata": {
        "id": "ju5R4AgY2qhM"
      },
      "source": [
        "data[['Product_Category_2','Product_Category_3']]=data[['Product_Category_2','Product_Category_3']].astype('int64')"
      ],
      "execution_count": 15,
      "outputs": []
    },
    {
      "cell_type": "code",
      "metadata": {
        "colab": {
          "base_uri": "https://localhost:8080/"
        },
        "id": "SWGYfOgF2qhN",
        "outputId": "71f09668-bb01-45fc-d867-e95d5d736251"
      },
      "source": [
        "data.info()"
      ],
      "execution_count": 16,
      "outputs": [
        {
          "output_type": "stream",
          "text": [
            "<class 'pandas.core.frame.DataFrame'>\n",
            "RangeIndex: 5891 entries, 0 to 5890\n",
            "Data columns (total 11 columns):\n",
            " #   Column                      Non-Null Count  Dtype \n",
            "---  ------                      --------------  ----- \n",
            " 0   Product_Category_1          5891 non-null   int64 \n",
            " 1   Product_Category_2          5891 non-null   int64 \n",
            " 2   Product_Category_3          5891 non-null   int64 \n",
            " 3   Purchase                    5891 non-null   int64 \n",
            " 4   User_ID                     5891 non-null   int64 \n",
            " 5   Gender                      5891 non-null   object\n",
            " 6   Age                         5891 non-null   object\n",
            " 7   Occupation                  5891 non-null   int64 \n",
            " 8   City_Category               5891 non-null   object\n",
            " 9   Stay_In_Current_City_Years  5891 non-null   object\n",
            " 10  Marital_Status              5891 non-null   int64 \n",
            "dtypes: int64(7), object(4)\n",
            "memory usage: 506.4+ KB\n"
          ],
          "name": "stdout"
        }
      ]
    },
    {
      "cell_type": "markdown",
      "metadata": {
        "id": "9C-R4TOQ2qhO"
      },
      "source": [
        "#### Let us perform the visualizing part for better understanding of the data"
      ]
    },
    {
      "cell_type": "code",
      "metadata": {
        "id": "cSc7Njo32qhP"
      },
      "source": [
        "import seaborn as sns\n",
        "import matplotlib.pyplot as plt\n",
        "%matplotlib inline"
      ],
      "execution_count": 17,
      "outputs": []
    },
    {
      "cell_type": "code",
      "metadata": {
        "colab": {
          "base_uri": "https://localhost:8080/",
          "height": 290
        },
        "id": "Vu2w8EuL2qhQ",
        "outputId": "3d8e9824-b751-4d93-c670-907a1ce9d4b4"
      },
      "source": [
        "sns.distplot(data['Purchase'])\n",
        "sns.set(rc={'figure.figsize':(10,10)})\n"
      ],
      "execution_count": 18,
      "outputs": [
        {
          "output_type": "display_data",
          "data": {
            "image/png": "[encoded data removed]",
            "text/plain": [
              "<Figure size 432x288 with 1 Axes>"
            ]
          },
          "metadata": {
            "tags": [],
            "needs_background": "light"
          }
        }
      ]
    },
    {
      "cell_type": "markdown",
      "metadata": {
        "id": "mpj4gMR22qhS"
      },
      "source": [
        "##### From this plot we can say that Target Variable i.e., Purchase is normally distributed except that it is left skewed"
      ]
    },
    {
      "cell_type": "code",
      "metadata": {
        "scrolled": true,
        "id": "vSpFVXRR2qhT",
        "colab": {
          "base_uri": "https://localhost:8080/"
        },
        "outputId": "fc52571e-169d-48fd-d1ca-4b32c63250e1"
      },
      "source": [
        "data.info()"
      ],
      "execution_count": 19,
      "outputs": [
        {
          "output_type": "stream",
          "text": [
            "<class 'pandas.core.frame.DataFrame'>\n",
            "RangeIndex: 5891 entries, 0 to 5890\n",
            "Data columns (total 11 columns):\n",
            " #   Column                      Non-Null Count  Dtype \n",
            "---  ------                      --------------  ----- \n",
            " 0   Product_Category_1          5891 non-null   int64 \n",
            " 1   Product_Category_2          5891 non-null   int64 \n",
            " 2   Product_Category_3          5891 non-null   int64 \n",
            " 3   Purchase                    5891 non-null   int64 \n",
            " 4   User_ID                     5891 non-null   int64 \n",
            " 5   Gender                      5891 non-null   object\n",
            " 6   Age                         5891 non-null   object\n",
            " 7   Occupation                  5891 non-null   int64 \n",
            " 8   City_Category               5891 non-null   object\n",
            " 9   Stay_In_Current_City_Years  5891 non-null   object\n",
            " 10  Marital_Status              5891 non-null   int64 \n",
            "dtypes: int64(7), object(4)\n",
            "memory usage: 506.4+ KB\n"
          ],
          "name": "stdout"
        }
      ]
    },
    {
      "cell_type": "markdown",
      "metadata": {
        "id": "iiTrZ7Qu2qhU"
      },
      "source": [
        "Univariate Analysis"
      ]
    },
    {
      "cell_type": "code",
      "metadata": {
        "id": "5Ao0Aqzg2qhV",
        "colab": {
          "base_uri": "https://localhost:8080/",
          "height": 302
        },
        "outputId": "443c44ae-1c8f-4d6b-f13f-8fe8d5a80dca"
      },
      "source": [
        "data['Gender'].value_counts().plot(labels=['Male','Female'],kind='pie',explode=[0.15,0.15], autopct='%3.1f%%',figsize=(5,5),shadow=True)\n",
        "plt.show()"
      ],
      "execution_count": 20,
      "outputs": [
        {
          "output_type": "display_data",
          "data": {
            "image/png": "[encoded data removed]",
            "text/plain": [
              "<Figure size 360x360 with 1 Axes>"
            ]
          },
          "metadata": {
            "tags": []
          }
        }
      ]
    },
    {
      "cell_type": "markdown",
      "metadata": {
        "id": "SwM1wtAM2qhW"
      },
      "source": [
        "From the above pie plot we can say that there are more Male customers than that of Female"
      ]
    },
    {
      "cell_type": "code",
      "metadata": {
        "id": "Mc0_yS6A2qhX",
        "colab": {
          "base_uri": "https://localhost:8080/"
        },
        "outputId": "581c9e4b-84b7-4b80-9476-a086fe912fb5"
      },
      "source": [
        "data['Marital_Status'].value_counts()"
      ],
      "execution_count": 21,
      "outputs": [
        {
          "output_type": "execute_result",
          "data": {
            "text/plain": [
              "0    3417\n",
              "1    2474\n",
              "Name: Marital_Status, dtype: int64"
            ]
          },
          "metadata": {
            "tags": []
          },
          "execution_count": 21
        }
      ]
    },
    {
      "cell_type": "markdown",
      "metadata": {
        "id": "enVeqg7m2qha"
      },
      "source": [
        "As there are only 2 possible values in Marital_Status which says Married or Single, let us plot a pie chart again to see their distribution in %"
      ]
    },
    {
      "cell_type": "code",
      "metadata": {
        "id": "QXxu0FwL2qhc",
        "colab": {
          "base_uri": "https://localhost:8080/",
          "height": 303
        },
        "outputId": "30384b04-178a-46a5-c92a-54867a76c046"
      },
      "source": [
        "data['Marital_Status'].value_counts().plot(kind='pie',explode=[0.15,0.15], autopct='%3.1f%%',figsize=(5,5),shadow=True)\n",
        "plt.show()"
      ],
      "execution_count": 22,
      "outputs": [
        {
          "output_type": "display_data",
          "data": {
            "image/png": "[encoded data removed]",
            "text/plain": [
              "<Figure size 360x360 with 1 Axes>"
            ]
          },
          "metadata": {
            "tags": []
          }
        }
      ]
    },
    {
      "cell_type": "markdown",
      "metadata": {
        "id": "BDzHhWGp2qhd"
      },
      "source": [
        "From this pie plot we can say that customers with Marital-Status=0 are more in number when compared to that of 1"
      ]
    },
    {
      "cell_type": "code",
      "metadata": {
        "id": "fSYN9siW2qhe",
        "colab": {
          "base_uri": "https://localhost:8080/"
        },
        "outputId": "c7d6aecb-28e7-425e-a361-d5c31cca1f5b"
      },
      "source": [
        "data['Age'].value_counts()"
      ],
      "execution_count": 23,
      "outputs": [
        {
          "output_type": "execute_result",
          "data": {
            "text/plain": [
              "26-35    2053\n",
              "36-45    1167\n",
              "18-25    1069\n",
              "46-50     531\n",
              "51-55     481\n",
              "55+       372\n",
              "0-17      218\n",
              "Name: Age, dtype: int64"
            ]
          },
          "metadata": {
            "tags": []
          },
          "execution_count": 23
        }
      ]
    },
    {
      "cell_type": "code",
      "metadata": {
        "id": "n0gKEw4L2qhf",
        "colab": {
          "base_uri": "https://localhost:8080/",
          "height": 467
        },
        "outputId": "641e5189-f511-49f3-f530-ee808777bb16"
      },
      "source": [
        "data['Age'].value_counts().plot(kind='pie',explode=[0.15,0.15,0.15,0.15,0.15,0.15,0.15], autopct='%3.1f%%',figsize=(8,8),shadow=True)\n",
        "plt.show()"
      ],
      "execution_count": 24,
      "outputs": [
        {
          "output_type": "display_data",
          "data": {
            "image/png": "[encoded data removed]",
            "text/plain": [
              "<Figure size 576x576 with 1 Axes>"
            ]
          },
          "metadata": {
            "tags": []
          }
        }
      ]
    },
    {
      "cell_type": "markdown",
      "metadata": {
        "id": "1qlQoIae2qhh"
      },
      "source": [
        "From this pie plot we can say that people in the age group of 26-35 are more in number"
      ]
    },
    {
      "cell_type": "code",
      "metadata": {
        "id": "bCpk1Z8C2qhi",
        "colab": {
          "base_uri": "https://localhost:8080/"
        },
        "outputId": "71572b47-5a48-4b4c-e372-5939900502f7"
      },
      "source": [
        "data['Stay_In_Current_City_Years'].value_counts()"
      ],
      "execution_count": 25,
      "outputs": [
        {
          "output_type": "execute_result",
          "data": {
            "text/plain": [
              "1     2086\n",
              "2     1145\n",
              "3      979\n",
              "4+     909\n",
              "0      772\n",
              "Name: Stay_In_Current_City_Years, dtype: int64"
            ]
          },
          "metadata": {
            "tags": []
          },
          "execution_count": 25
        }
      ]
    },
    {
      "cell_type": "code",
      "metadata": {
        "id": "ZuF7x0lj2qhj",
        "colab": {
          "base_uri": "https://localhost:8080/",
          "height": 466
        },
        "outputId": "3435cee7-8826-44db-8aad-a3dc0ae9978b"
      },
      "source": [
        "data['Stay_In_Current_City_Years'].value_counts().plot(kind='pie',explode=[0.15,0.15,0.15,0.15,0.15], autopct='%3.1f%%',figsize=(8,8),shadow=True)\n",
        "plt.show()"
      ],
      "execution_count": 26,
      "outputs": [
        {
          "output_type": "display_data",
          "data": {
            "image/png": "[encoded data removed]",
            "text/plain": [
              "<Figure size 576x576 with 1 Axes>"
            ]
          },
          "metadata": {
            "tags": []
          }
        }
      ]
    },
    {
      "cell_type": "markdown",
      "metadata": {
        "id": "XlSXipHF2qhk"
      },
      "source": [
        "From this pie plot we can say that people who are in City since last year are more in number in terms of participation in Sales"
      ]
    },
    {
      "cell_type": "code",
      "metadata": {
        "id": "EzqVkg-m2qhl",
        "colab": {
          "base_uri": "https://localhost:8080/"
        },
        "outputId": "cc2b1ff6-322e-4c00-af03-54560e773a23"
      },
      "source": [
        "data['City_Category'].value_counts()"
      ],
      "execution_count": 27,
      "outputs": [
        {
          "output_type": "execute_result",
          "data": {
            "text/plain": [
              "C    3139\n",
              "B    1707\n",
              "A    1045\n",
              "Name: City_Category, dtype: int64"
            ]
          },
          "metadata": {
            "tags": []
          },
          "execution_count": 27
        }
      ]
    },
    {
      "cell_type": "code",
      "metadata": {
        "id": "wwDiiwC12qhm",
        "colab": {
          "base_uri": "https://localhost:8080/",
          "height": 307
        },
        "outputId": "604ec502-3991-4e3e-8ae3-beeabc7a9cc8"
      },
      "source": [
        "data['City_Category'].value_counts().plot(kind='pie',explode=[0.15,0.15,0.15], autopct='%3.1f%%',figsize=(5,5),shadow=True)\n",
        "plt.show()"
      ],
      "execution_count": 28,
      "outputs": [
        {
          "output_type": "display_data",
          "data": {
            "image/png": "[encoded data removed]",
            "text/plain": [
              "<Figure size 360x360 with 1 Axes>"
            ]
          },
          "metadata": {
            "tags": []
          }
        }
      ]
    },
    {
      "cell_type": "markdown",
      "metadata": {
        "id": "hV0Yw9Gj2qho"
      },
      "source": [
        "From this pie plot we can say that people from City_Cateogry=C are more in number in terms of participation in Sales"
      ]
    },
    {
      "cell_type": "markdown",
      "metadata": {
        "id": "chD_1fmz2qhp"
      },
      "source": [
        "Bi-Variate Analysis"
      ]
    },
    {
      "cell_type": "code",
      "metadata": {
        "id": "OsvjvyxZ2qhq",
        "colab": {
          "base_uri": "https://localhost:8080/",
          "height": 647
        },
        "outputId": "43cfc7b8-e57e-416d-c48a-dbcac156225d"
      },
      "source": [
        "data.groupby([\"Age\"]).sum()[[\"Purchase\"]].plot.bar(title=\"Age Vs Purchase\")\n",
        "plt.xticks(rotation=45)\n",
        "plt.xlabel(\"Age\")\n",
        "plt.ylabel(\"Purchase\")\n",
        "plt.show()"
      ],
      "execution_count": 29,
      "outputs": [
        {
          "output_type": "display_data",
          "data": {
            "image/png": "[encoded data removed]",
            "text/plain": [
              "<Figure size 720x720 with 1 Axes>"
            ]
          },
          "metadata": {
            "tags": []
          }
        }
      ]
    },
    {
      "cell_type": "code",
      "metadata": {
        "id": "OqIj9yaH2qhr",
        "colab": {
          "base_uri": "https://localhost:8080/",
          "height": 752
        },
        "outputId": "97a9d20b-b10d-41fe-94c6-ee0ffaa39346"
      },
      "source": [
        "plt.figure(figsize=(12,12))\n",
        "sns.boxplot(data=data, x='Age', y='Purchase', palette='viridis')\n",
        "plt.xticks(rotation=90)\n",
        "plt.show()"
      ],
      "execution_count": 30,
      "outputs": [
        {
          "output_type": "display_data",
          "data": {
            "image/png": "[encoded data removed]",
            "text/plain": [
              "<Figure size 864x864 with 1 Axes>"
            ]
          },
          "metadata": {
            "tags": []
          }
        }
      ]
    },
    {
      "cell_type": "markdown",
      "metadata": {
        "id": "t4nhobDA2qhs"
      },
      "source": [
        "From this plot we can say that people in Age Group 26-35 contributed to more purchase followed by 36-45 & 18-25"
      ]
    },
    {
      "cell_type": "code",
      "metadata": {
        "id": "P-8uQ5jw2qht",
        "colab": {
          "base_uri": "https://localhost:8080/",
          "height": 610
        },
        "outputId": "57f10b48-b17a-49b2-c72c-41784aeba945"
      },
      "source": [
        "x = data.groupby([\"City_Category\"]).mean()[[\"Purchase\"]].index\n",
        "y = data.groupby([\"City_Category\"]).mean()[[\"Purchase\"]].values\n",
        "plt.plot(x, y,\"ro\")\n",
        "plt.xticks(x, [\"A\",\"B\",\"c\"])\n",
        "plt.title(\"Mean purchase of different gender\")\n",
        "sns.despine()"
      ],
      "execution_count": 31,
      "outputs": [
        {
          "output_type": "display_data",
          "data": {
            "image/png": "[encoded data removed]",
            "text/plain": [
              "<Figure size 720x720 with 1 Axes>"
            ]
          },
          "metadata": {
            "tags": []
          }
        }
      ]
    },
    {
      "cell_type": "markdown",
      "metadata": {
        "id": "6EP5h_X62qhu"
      },
      "source": [
        "From this plot we can say that people from City_Category=B Contributed more towards the sales followed by C & A."
      ]
    },
    {
      "cell_type": "code",
      "metadata": {
        "id": "FsE7Bed92qhv",
        "colab": {
          "base_uri": "https://localhost:8080/",
          "height": 633
        },
        "outputId": "9cc84980-6ddd-4248-b8dd-ab398f67f9e8"
      },
      "source": [
        "data.groupby([\"Occupation\"]).sum()[[\"Purchase\"]].plot.bar(title=\"Occupation Vs Purchase\")\n",
        "plt.xticks(rotation=45)\n",
        "plt.xlabel(\"Occupation\")\n",
        "plt.ylabel(\"Purchase\")\n",
        "plt.show()"
      ],
      "execution_count": 32,
      "outputs": [
        {
          "output_type": "display_data",
          "data": {
            "image/png": "[encoded data removed]",
            "text/plain": [
              "<Figure size 720x720 with 1 Axes>"
            ]
          },
          "metadata": {
            "tags": []
          }
        }
      ]
    },
    {
      "cell_type": "markdown",
      "metadata": {
        "id": "j4cD5Y4b2qhx"
      },
      "source": [
        "From this plot we can say that people in Occupation=4 have contributed more towards the sales"
      ]
    },
    {
      "cell_type": "code",
      "metadata": {
        "id": "GUMo8V0b2qhy",
        "colab": {
          "base_uri": "https://localhost:8080/"
        },
        "outputId": "06021647-91c0-42f2-f683-5529a9f5209f"
      },
      "source": [
        "data.groupby([\"Stay_In_Current_City_Years\"]).mean()[[\"Purchase\"]].index"
      ],
      "execution_count": 33,
      "outputs": [
        {
          "output_type": "execute_result",
          "data": {
            "text/plain": [
              "Index(['0', '1', '2', '3', '4+'], dtype='object', name='Stay_In_Current_City_Years')"
            ]
          },
          "metadata": {
            "tags": []
          },
          "execution_count": 33
        }
      ]
    },
    {
      "cell_type": "code",
      "metadata": {
        "id": "8zIrU2VN2qhz",
        "colab": {
          "base_uri": "https://localhost:8080/",
          "height": 610
        },
        "outputId": "da6ed9b7-bda3-4c1e-ce19-ec43c51f0c7c"
      },
      "source": [
        "x = data.groupby([\"Stay_In_Current_City_Years\"]).mean()[[\"Purchase\"]].index\n",
        "y = data.groupby([\"Stay_In_Current_City_Years\"]).mean()[[\"Purchase\"]].values\n",
        "plt.plot(x, y,\"ro\")\n",
        "plt.xticks(x, [\"0\",\"1\",\"2\",\"3\",\"4+\"])\n",
        "plt.title(\"Mean purchase of different Stay_In_Current_City_Years\")\n",
        "sns.despine()"
      ],
      "execution_count": 34,
      "outputs": [
        {
          "output_type": "display_data",
          "data": {
            "image/png": "[encoded data removed]",
            "text/plain": [
              "<Figure size 720x720 with 1 Axes>"
            ]
          },
          "metadata": {
            "tags": []
          }
        }
      ]
    },
    {
      "cell_type": "markdown",
      "metadata": {
        "id": "-8nrsklQ2qh0"
      },
      "source": [
        "From this plot we can say that people who are in city since 4+ years contributed more towards the sales followed by 2 & 1 Years of stay in city"
      ]
    },
    {
      "cell_type": "code",
      "metadata": {
        "id": "-3RCWVW72qh1",
        "colab": {
          "base_uri": "https://localhost:8080/",
          "height": 517
        },
        "outputId": "a395b6d6-d31d-45e7-b994-01e9bab7230f"
      },
      "source": [
        "data.groupby(['Occupation']).mean()[['Purchase']].sort_values(by=\"Purchase\").plot(kind='bar',figsize=(8,8))\n",
        "plt.show()"
      ],
      "execution_count": 35,
      "outputs": [
        {
          "output_type": "display_data",
          "data": {
            "image/png": "[encoded data removed]",
            "text/plain": [
              "<Figure size 576x576 with 1 Axes>"
            ]
          },
          "metadata": {
            "tags": []
          }
        }
      ]
    },
    {
      "cell_type": "markdown",
      "metadata": {
        "id": "zGqo16lA2qh2"
      },
      "source": [
        "From this plot we can say that people in Occupation Code 18 contributed more towards the sales."
      ]
    },
    {
      "cell_type": "code",
      "metadata": {
        "id": "Ys8wpoCr2qh3",
        "colab": {
          "base_uri": "https://localhost:8080/",
          "height": 602
        },
        "outputId": "f78c2845-5c5f-4eea-d4fa-47cc712cbb85"
      },
      "source": [
        "data.sum()[[\"Product_Category_1\", \"Product_Category_2\", \"Product_Category_3\"]].plot.bar(title=\"Products sold\", color=\"orange\",figsize=(8,8))\n",
        "plt.show()"
      ],
      "execution_count": 36,
      "outputs": [
        {
          "output_type": "display_data",
          "data": {
            "image/png": "[encoded data removed]",
            "text/plain": [
              "<Figure size 576x576 with 1 Axes>"
            ]
          },
          "metadata": {
            "tags": []
          }
        }
      ]
    },
    {
      "cell_type": "markdown",
      "metadata": {
        "id": "BbM7i9932qh5"
      },
      "source": [
        "From this plot we can say that Product_Category_2 is highly sold followed by Product_Category_1"
      ]
    },
    {
      "cell_type": "code",
      "metadata": {
        "id": "3EjjIaPj2qh6",
        "colab": {
          "base_uri": "https://localhost:8080/",
          "height": 522
        },
        "outputId": "93e55128-4738-4066-dbc6-cda5715abd1b"
      },
      "source": [
        "data.groupby([\"Occupation\"]).mean()[[\"Product_Category_1\", \"Product_Category_2\", \"Product_Category_3\"]].plot.bar(title=\"Occupation&Product\",figsize=(20,8))\n",
        "plt.show()"
      ],
      "execution_count": 37,
      "outputs": [
        {
          "output_type": "display_data",
          "data": {
            "image/png": "[encoded data removed]",
            "text/plain": [
              "<Figure size 1440x576 with 1 Axes>"
            ]
          },
          "metadata": {
            "tags": []
          }
        }
      ]
    },
    {
      "cell_type": "markdown",
      "metadata": {
        "id": "YBRNAv5H2qh_"
      },
      "source": [
        "From this plot we can say that Product_Category_2 is more preferred and more products across categories are choosen by those with OccupationCode=19"
      ]
    },
    {
      "cell_type": "code",
      "metadata": {
        "id": "onP4Mih-2qiB",
        "colab": {
          "base_uri": "https://localhost:8080/",
          "height": 516
        },
        "outputId": "e7d1d2ad-1b2e-4922-96cb-20db1e9577ac"
      },
      "source": [
        "data.groupby([\"City_Category\"]).mean()[[\"Product_Category_1\", \"Product_Category_2\", \"Product_Category_3\"]].plot.bar(title=\"CityCategory&Product\",figsize=(8,8))\n",
        "plt.show()"
      ],
      "execution_count": 38,
      "outputs": [
        {
          "output_type": "display_data",
          "data": {
            "image/png": "[encoded data removed]",
            "text/plain": [
              "<Figure size 576x576 with 1 Axes>"
            ]
          },
          "metadata": {
            "tags": []
          }
        }
      ]
    },
    {
      "cell_type": "markdown",
      "metadata": {
        "id": "H-BJg2pb2qiD"
      },
      "source": [
        "From this we can say that Product_Category_2 is more preferred and people in CityCategory=B have opted for more Products."
      ]
    },
    {
      "cell_type": "markdown",
      "metadata": {
        "id": "P1QFViWY2qiE"
      },
      "source": [
        "Now, Let us see the correlation between the features i.e., find the feature of high importance"
      ]
    },
    {
      "cell_type": "markdown",
      "metadata": {
        "id": "BVXLqNGU2qiF"
      },
      "source": [
        "For finding the correlation between features, let us convert all features to numerical"
      ]
    },
    {
      "cell_type": "code",
      "metadata": {
        "id": "DOn0N0tI2qiH"
      },
      "source": [
        "from sklearn import preprocessing\n",
        "le = preprocessing.LabelEncoder()\n",
        "cat_col = data.select_dtypes(include=\"object\").columns.tolist()\n",
        "for i in cat_col:\n",
        "    data.loc[:, i] = le.fit_transform(data.loc[:, i])"
      ],
      "execution_count": 39,
      "outputs": []
    },
    {
      "cell_type": "markdown",
      "metadata": {
        "id": "NT1pcjYV2qiJ"
      },
      "source": [
        "1. Let us try this with a HeatMap first"
      ]
    },
    {
      "cell_type": "code",
      "metadata": {
        "id": "P-cmJtJZ2qiK",
        "colab": {
          "base_uri": "https://localhost:8080/",
          "height": 748
        },
        "outputId": "3c2fc059-61c4-4035-98c7-1fc648b97d6a"
      },
      "source": [
        "sns.heatmap(data.drop(\"User_ID\", axis=1).corr(), annot=True, cmap=\"YlGnBu\").set_title(\"Correlation between features\")\n",
        "sns.set(rc={'figure.figsize':(15,15)})"
      ],
      "execution_count": 40,
      "outputs": [
        {
          "output_type": "display_data",
          "data": {
            "image/png": "[encoded data removed]",
            "text/plain": [
              "<Figure size 720x720 with 2 Axes>"
            ]
          },
          "metadata": {
            "tags": []
          }
        }
      ]
    },
    {
      "cell_type": "markdown",
      "metadata": {
        "id": "uVMCA0bC2qiM"
      },
      "source": [
        "* From this Heatmap we can say that Product_Category_2 is highly correlated to Purchase followed by Product_Category_3 & Product_Category_1.\n",
        "* Age is highly correlated with Marital_status.\n",
        "* Occupation is correlated with Gender"
      ]
    },
    {
      "cell_type": "code",
      "metadata": {
        "id": "s_0ad8JX2qiN",
        "colab": {
          "base_uri": "https://localhost:8080/"
        },
        "outputId": "fc7cc25f-90d3-4b4d-f28e-3a88e10272c1"
      },
      "source": [
        "data.info()"
      ],
      "execution_count": 41,
      "outputs": [
        {
          "output_type": "stream",
          "text": [
            "<class 'pandas.core.frame.DataFrame'>\n",
            "RangeIndex: 5891 entries, 0 to 5890\n",
            "Data columns (total 11 columns):\n",
            " #   Column                      Non-Null Count  Dtype\n",
            "---  ------                      --------------  -----\n",
            " 0   Product_Category_1          5891 non-null   int64\n",
            " 1   Product_Category_2          5891 non-null   int64\n",
            " 2   Product_Category_3          5891 non-null   int64\n",
            " 3   Purchase                    5891 non-null   int64\n",
            " 4   User_ID                     5891 non-null   int64\n",
            " 5   Gender                      5891 non-null   int64\n",
            " 6   Age                         5891 non-null   int64\n",
            " 7   Occupation                  5891 non-null   int64\n",
            " 8   City_Category               5891 non-null   int64\n",
            " 9   Stay_In_Current_City_Years  5891 non-null   int64\n",
            " 10  Marital_Status              5891 non-null   int64\n",
            "dtypes: int64(11)\n",
            "memory usage: 506.4 KB\n"
          ],
          "name": "stdout"
        }
      ]
    },
    {
      "cell_type": "code",
      "metadata": {
        "id": "bd1FxbEt2qiP",
        "colab": {
          "base_uri": "https://localhost:8080/",
          "height": 1000
        },
        "outputId": "1be30b8c-ce3d-4559-83a3-3c1d5ef283b2"
      },
      "source": [
        "# linear regression feature importance\n",
        "from sklearn.datasets import make_regression\n",
        "import matplotlib.pyplot as plt\n",
        "from sklearn.linear_model import LinearRegression\n",
        "# define dataset\n",
        "X = data.drop(\"Purchase\",axis=1)  #independent columns\n",
        "y = data['Purchase']    #target column i.e price range\n",
        "# define the model\n",
        "model = LinearRegression()\n",
        "# fit the model\n",
        "model.fit(X, y)\n",
        "# get importance\n",
        "importance = model.coef_   \n",
        "# summarize feature importance\n",
        "for i,v in enumerate(importance):\n",
        "\tprint('Feature: %0d, Score: %.5f' % (i,v))\n",
        "# plot feature importance\n",
        "plt.bar([x for x in range(len(importance))], importance)\n",
        "plt.figure(figsize=(5,5))"
      ],
      "execution_count": 42,
      "outputs": [
        {
          "output_type": "stream",
          "text": [
            "Feature: 0, Score: 546.67226\n",
            "Feature: 1, Score: 354.28733\n",
            "Feature: 2, Score: 951.47876\n",
            "Feature: 3, Score: -0.01538\n",
            "Feature: 4, Score: -3363.17092\n",
            "Feature: 5, Score: -1179.06623\n",
            "Feature: 6, Score: 239.22759\n",
            "Feature: 7, Score: -897.74473\n",
            "Feature: 8, Score: 1272.93221\n",
            "Feature: 9, Score: 3919.43264\n"
          ],
          "name": "stdout"
        },
        {
          "output_type": "execute_result",
          "data": {
            "text/plain": [
              "<Figure size 360x360 with 0 Axes>"
            ]
          },
          "metadata": {
            "tags": []
          },
          "execution_count": 42
        },
        {
          "output_type": "display_data",
          "data": {
            "image/png": "[encoded data removed]",
            "text/plain": [
              "<Figure size 1080x1080 with 1 Axes>"
            ]
          },
          "metadata": {
            "tags": []
          }
        },
        {
          "output_type": "display_data",
          "data": {
            "text/plain": [
              "<Figure size 360x360 with 0 Axes>"
            ]
          },
          "metadata": {
            "tags": []
          }
        }
      ]
    },
    {
      "cell_type": "code",
      "metadata": {
        "id": "zrsXFEWI2qiO",
        "colab": {
          "base_uri": "https://localhost:8080/",
          "height": 1000
        },
        "outputId": "62c4c3a7-5b5b-463e-9bde-f6cea1fd6555"
      },
      "source": [
        "# RF Regressor for feature importance\n",
        "from sklearn.ensemble import RandomForestRegressor\n",
        "# define dataset\n",
        "X = data.drop(\"Purchase\",axis=1)  #independent columns\n",
        "y = data['Purchase']    #target column i.e price range\n",
        "# define the model\n",
        "model = RandomForestRegressor()\n",
        "# fit the model\n",
        "model.fit(X, y)\n",
        "# get importance\n",
        "importance = model.feature_importances_\n",
        "# summarize feature importance\n",
        "for i,v in enumerate(importance):\n",
        "\tprint('Feature: %0d, Score: %.5f' % (i,v))\n",
        "# plot feature importance\n",
        "plt.bar([x for x in range(len(importance))], importance)\n",
        "plt.show()"
      ],
      "execution_count": 43,
      "outputs": [
        {
          "output_type": "stream",
          "text": [
            "Feature: 0, Score: 0.02416\n",
            "Feature: 1, Score: 0.94653\n",
            "Feature: 2, Score: 0.01311\n",
            "Feature: 3, Score: 0.00563\n",
            "Feature: 4, Score: 0.00078\n",
            "Feature: 5, Score: 0.00250\n",
            "Feature: 6, Score: 0.00338\n",
            "Feature: 7, Score: 0.00113\n",
            "Feature: 8, Score: 0.00203\n",
            "Feature: 9, Score: 0.00076\n"
          ],
          "name": "stdout"
        },
        {
          "output_type": "display_data",
          "data": {
            "image/png": "[encoded data removed]",
            "text/plain": [
              "<Figure size 1080x1080 with 1 Axes>"
            ]
          },
          "metadata": {
            "tags": []
          }
        }
      ]
    },
    {
      "cell_type": "markdown",
      "metadata": {
        "id": "mZuggVXoAxCB"
      },
      "source": [
        "From this we can say that Product_Category_2 feature has highest importance and helps in predicting Sales."
      ]
    },
    {
      "cell_type": "code",
      "metadata": {
        "colab": {
          "base_uri": "https://localhost:8080/",
          "height": 1000
        },
        "id": "lBUxkqsy7Pso",
        "outputId": "72f3f564-b9a7-494a-a5ec-190586ded788"
      },
      "source": [
        "# xgboost for feature importance on a regression problem\r\n",
        "from xgboost import XGBRegressor\r\n",
        "# define dataset\r\n",
        "X = data.drop(\"Purchase\",axis=1)  #independent columns\r\n",
        "y = data['Purchase']    #target column i.e price range\r\n",
        "# define the model\r\n",
        "model = XGBRegressor()\r\n",
        "# fit the model\r\n",
        "model.fit(X, y)\r\n",
        "# get importance\r\n",
        "importance = model.feature_importances_\r\n",
        "# summarize feature importance\r\n",
        "for i,v in enumerate(importance):\r\n",
        "\tprint('Feature: %0d, Score: %.5f' % (i,v))\r\n",
        "# plot feature importance\r\n",
        "plt.bar([x for x in range(len(importance))], importance)\r\n",
        "plt.show()"
      ],
      "execution_count": 44,
      "outputs": [
        {
          "output_type": "stream",
          "text": [
            "[14:01:46] WARNING: /workspace/src/objective/regression_obj.cu:152: reg:linear is now deprecated in favor of reg:squarederror.\n",
            "Feature: 0, Score: 0.04666\n",
            "Feature: 1, Score: 0.82310\n",
            "Feature: 2, Score: 0.11121\n",
            "Feature: 3, Score: 0.00255\n",
            "Feature: 4, Score: 0.00000\n",
            "Feature: 5, Score: 0.00263\n",
            "Feature: 6, Score: 0.00377\n",
            "Feature: 7, Score: 0.00117\n",
            "Feature: 8, Score: 0.00597\n",
            "Feature: 9, Score: 0.00295\n"
          ],
          "name": "stdout"
        },
        {
          "output_type": "display_data",
          "data": {
            "image/png": "[encoded data removed]",
            "text/plain": [
              "<Figure size 1080x1080 with 1 Axes>"
            ]
          },
          "metadata": {
            "tags": []
          }
        }
      ]
    },
    {
      "cell_type": "markdown",
      "metadata": {
        "id": "92FChnuM8rMs"
      },
      "source": [
        "From this we can say that 2nd, 3rd & 1st Feature are important in predicting target i.e., Product_Category_2, Product_Category_3 & Product_Category_1 in that order are important in Predicting Sales."
      ]
    },
    {
      "cell_type": "markdown",
      "metadata": {
        "id": "ehVyb2uI9p6v"
      },
      "source": [
        "*   Now, will try RF model and for that we'll first determine the best parameters for RF.\r\n",
        "*   We've choosen RF as that is an ensemble model which is a combination of multiple DTs.\r\n",
        "*   Also here we'll use GridSearchCV as it traverses along the entire data set though time consuming.\r\n",
        "\r\n"
      ]
    },
    {
      "cell_type": "markdown",
      "metadata": {
        "id": "Ktzk2y9K-0v8"
      },
      "source": [
        "*  Let us split our data to Train & Test, so that we can fit model on train data, predict target variable on Test data and then calculate error score between the predicted test value and actual test value."
      ]
    },
    {
      "cell_type": "code",
      "metadata": {
        "colab": {
          "base_uri": "https://localhost:8080/"
        },
        "id": "z455XPORKBmN",
        "outputId": "74d86c25-d594-4e61-88df-0bad2374e681"
      },
      "source": [
        "from sklearn.model_selection import train_test_split\r\n",
        "X_train, X_test, Y_train, Y_test = train_test_split(X, y, test_size = 0.2, random_state = 42)\r\n",
        "print(\"X_train shape:\", X_train.shape)\r\n",
        "print(\"X_test shape:\", X_test.shape)\r\n",
        "print(\"Y_train shape:\", Y_train.shape)\r\n",
        "print(\"Y_test shape:\", Y_test.shape)"
      ],
      "execution_count": 45,
      "outputs": [
        {
          "output_type": "stream",
          "text": [
            "X_train shape: (4712, 10)\n",
            "X_test shape: (1179, 10)\n",
            "Y_train shape: (4712,)\n",
            "Y_test shape: (1179,)\n"
          ],
          "name": "stdout"
        }
      ]
    },
    {
      "cell_type": "code",
      "metadata": {
        "id": "r7lJNz_aSMcU"
      },
      "source": [
        "rf_model=RandomForestRegressor()\r\n",
        "rf_model.fit(X_train, Y_train)\r\n",
        "Y_pred_rf = rf_model.predict(X_test)"
      ],
      "execution_count": 46,
      "outputs": []
    },
    {
      "cell_type": "code",
      "metadata": {
        "colab": {
          "base_uri": "https://localhost:8080/"
        },
        "id": "2DHzr9YkSaFn",
        "outputId": "f4fba624-f800-469b-d242-e36ebc7860b3"
      },
      "source": [
        "from sklearn.metrics import mean_squared_error\r\n",
        "from sklearn.metrics import r2_score\r\n",
        "print(\"RF Regressor \")\r\n",
        "print(\"RMSE:\",np.sqrt(mean_squared_error(Y_test, Y_pred_rf)))\r\n",
        "print(\"R2 score:\", r2_score(Y_test, Y_pred_rf))"
      ],
      "execution_count": 47,
      "outputs": [
        {
          "output_type": "stream",
          "text": [
            "RF Regressor \n",
            "RMSE: 249995.74167814225\n",
            "R2 score: 0.9435225557759422\n"
          ],
          "name": "stdout"
        }
      ]
    },
    {
      "cell_type": "code",
      "metadata": {
        "colab": {
          "base_uri": "https://localhost:8080/"
        },
        "id": "Ad13GHvT7fCA",
        "outputId": "4b4be4cf-9483-4150-959f-709781e18a9b"
      },
      "source": [
        "from sklearn.model_selection import GridSearchCV\r\n",
        "predictor = data.drop(\"Purchase\", axis=1)\r\n",
        "target = data[\"Purchase\"]\r\n",
        "\r\n",
        "# find the best parameter for model making\r\n",
        "param_grid = {\"n_estimators\":[1, 5, 10, 50, 100, 150, 300, 500], \\\r\n",
        "              \"max_depth\":[1, 3, 5, 7, 9]}\r\n",
        "grid_rf = GridSearchCV(RandomForestRegressor(), param_grid, cv=5, scoring=\"neg_mean_squared_error\").fit(predictor, target)\r\n",
        "print(\"Best parameter: {}\".format(grid_rf.best_params_))\r\n",
        "print(\"Best score: {:.2f}\".format((-1*grid_rf.best_score_)**0.5))"
      ],
      "execution_count": 48,
      "outputs": [
        {
          "output_type": "stream",
          "text": [
            "Best parameter: {'max_depth': 9, 'n_estimators': 100}\n",
            "Best score: 197408.52\n"
          ],
          "name": "stdout"
        }
      ]
    },
    {
      "cell_type": "markdown",
      "metadata": {
        "id": "F9J7Xezv_K86"
      },
      "source": [
        "\r\n",
        "*   From the above result we can use that max_depth=9 and n_estimators=300 will give a better result for our model\r\n",
        "*   Now, let us run RF Regressor with best parameters. \r\n",
        "\r\n",
        "\r\n"
      ]
    },
    {
      "cell_type": "code",
      "metadata": {
        "id": "fxHMlF-o_tT2"
      },
      "source": [
        "# make model with best parameters\r\n",
        "rf_best_model = RandomForestRegressor(n_estimators=300, max_depth=9, random_state=1, verbose=1)"
      ],
      "execution_count": 49,
      "outputs": []
    },
    {
      "cell_type": "markdown",
      "metadata": {
        "id": "I__20vA0CEd9"
      },
      "source": [
        "*   Now that we've run the RF Regressor let us predict model's cross validation score.\r\n"
      ]
    },
    {
      "cell_type": "code",
      "metadata": {
        "colab": {
          "base_uri": "https://localhost:8080/"
        },
        "id": "DkSelkTfCDjI",
        "outputId": "2ce7f91c-0dcc-4dcd-a12a-343e6f812a13"
      },
      "source": [
        "# predict with cross validation\r\n",
        "from sklearn.model_selection import cross_val_score\r\n",
        "scores = cross_val_score(rf_model, predictor, target, scoring=\"explained_variance\", cv=5)\r\n",
        "print(scores)\r\n",
        "print(\"Model effectiveness: %f\" % (scores.mean()))"
      ],
      "execution_count": 50,
      "outputs": [
        {
          "output_type": "stream",
          "text": [
            "[0.95178904 0.95990329 0.95798995 0.9519146  0.95567473]\n",
            "Model effectiveness: 0.955454\n"
          ],
          "name": "stdout"
        }
      ]
    },
    {
      "cell_type": "markdown",
      "metadata": {
        "id": "894hXeX4CjR0"
      },
      "source": [
        "From this we can say that RF Model effectiveness is 95%."
      ]
    },
    {
      "cell_type": "markdown",
      "metadata": {
        "id": "zz0rfFjBCqSX"
      },
      "source": [
        "*   Now that we've run the RF Regressor with best parameters, let us fit it on our data and calculate RMSE.\r\n",
        "\r\n"
      ]
    },
    {
      "cell_type": "code",
      "metadata": {
        "colab": {
          "base_uri": "https://localhost:8080/"
        },
        "id": "-RrujHSuCtE5",
        "outputId": "18522b10-a18a-401d-b296-d8222ed18897"
      },
      "source": [
        "rf_best_model.fit(X_train, Y_train)\r\n",
        "Y_pred_rf_best = rf_best_model.predict(X_test)"
      ],
      "execution_count": 51,
      "outputs": [
        {
          "output_type": "stream",
          "text": [
            "[Parallel(n_jobs=1)]: Using backend SequentialBackend with 1 concurrent workers.\n",
            "[Parallel(n_jobs=1)]: Done 300 out of 300 | elapsed:    3.8s finished\n",
            "[Parallel(n_jobs=1)]: Using backend SequentialBackend with 1 concurrent workers.\n",
            "[Parallel(n_jobs=1)]: Done 300 out of 300 | elapsed:    0.1s finished\n"
          ],
          "name": "stderr"
        }
      ]
    },
    {
      "cell_type": "markdown",
      "metadata": {
        "id": "IknNfCkDIzZO"
      },
      "source": [
        "Now, that we are done predicting values on Test data using RF. Let us calculate RMSE for the same."
      ]
    },
    {
      "cell_type": "code",
      "metadata": {
        "colab": {
          "base_uri": "https://localhost:8080/"
        },
        "id": "pft2mufII5wT",
        "outputId": "00fcfe9a-b4d0-4328-bbff-deba9ffdcb92"
      },
      "source": [
        "print(\"RF Regressor with Best Parameters\")\r\n",
        "print(\"RMSE:\",np.sqrt(mean_squared_error(Y_test, Y_pred_rf_best)))\r\n",
        "print(\"R2 score:\", r2_score(Y_test, Y_pred_rf_best))"
      ],
      "execution_count": 52,
      "outputs": [
        {
          "output_type": "stream",
          "text": [
            "RF Regressor with Best Parameters\n",
            "RMSE: 248288.61435372895\n",
            "R2 score: 0.9442912488697153\n"
          ],
          "name": "stdout"
        }
      ]
    },
    {
      "cell_type": "markdown",
      "metadata": {
        "id": "NChJ_dtyKwB7"
      },
      "source": [
        "*   As the R2 score is 94%, it is a good model.\r\n",
        "*   Let us try XGBoost on this and see the score.\r\n",
        "\r\n"
      ]
    },
    {
      "cell_type": "code",
      "metadata": {
        "colab": {
          "base_uri": "https://localhost:8080/"
        },
        "id": "gnl-2IUnK6yK",
        "outputId": "0bef2a4a-7a0d-46c0-9963-1121adca4f54"
      },
      "source": [
        "from xgboost import XGBRegressor \r\n",
        "xgb = XGBRegressor(random_state = 42)\r\n",
        "\r\n",
        "xgb.fit(X_train, Y_train)\r\n",
        "Y_pred_xgb = xgb.predict(X_test)"
      ],
      "execution_count": 53,
      "outputs": [
        {
          "output_type": "stream",
          "text": [
            "[14:05:52] WARNING: /workspace/src/objective/regression_obj.cu:152: reg:linear is now deprecated in favor of reg:squarederror.\n"
          ],
          "name": "stdout"
        }
      ]
    },
    {
      "cell_type": "code",
      "metadata": {
        "colab": {
          "base_uri": "https://localhost:8080/"
        },
        "id": "YS-BKgjlK-sg",
        "outputId": "1dfaa04b-840d-451b-e3a9-e85efafdf1f8"
      },
      "source": [
        "print(\"XGB Regressor\")\r\n",
        "print(\"RMSE:\",np.sqrt(mean_squared_error(Y_test, Y_pred_xgb)))\r\n",
        "print(\"R2 score:\", r2_score(Y_test, Y_pred_xgb))"
      ],
      "execution_count": 54,
      "outputs": [
        {
          "output_type": "stream",
          "text": [
            "XGB Regressor\n",
            "RMSE: 253248.10291965344\n",
            "R2 score: 0.9420434914526583\n"
          ],
          "name": "stdout"
        }
      ]
    },
    {
      "cell_type": "markdown",
      "metadata": {
        "id": "EAH5IbXHLHGt"
      },
      "source": [
        "#### *   As the RMSE value has increased for XGB when compared to that of RF and even the R2 score of RF is better than XGB. We cannot go ahead with XGB at the current level. So, let us do Hyperparameter tuning on XGB.\r\n",
        "#### *   Now, let us find the best parameters for XGB using RandomSearch CV. As we've already tried GridSearchCV on RF.\r\n",
        "\r\n"
      ]
    },
    {
      "cell_type": "code",
      "metadata": {
        "colab": {
          "base_uri": "https://localhost:8080/"
        },
        "id": "GfkWgZ5bLaix",
        "outputId": "f406c9f5-5170-4d4f-843b-0c202a56da60"
      },
      "source": [
        "from sklearn.model_selection import RandomizedSearchCV\r\n",
        "max_depth = [int(x) for x in np.linspace(start = 5, stop = 20, num = 15)]\r\n",
        "learning_rate = ['0.01', '0.05', '0.1', '0.25', '0.5', '0.75', '1.0']\r\n",
        "min_child_weight = [int(x) for x in np.linspace(start = 45, stop = 70, num = 15)]\r\n",
        "params = {\r\n",
        "\"learning_rate\"    : learning_rate,\r\n",
        "\"max_depth\"        : max_depth,\r\n",
        "\"min_child_weight\" : min_child_weight,\r\n",
        "\"gamma\"            : [0.0, 0.1, 0.2 , 0.3, 0.4],\r\n",
        "\"colsample_bytree\" : [0.3, 0.4, 0.5 , 0.7]\r\n",
        "}\r\n",
        "xgb_tune = XGBRegressor(random_state = 42)\r\n",
        "xgb_cv = RandomizedSearchCV(xgb_tune, param_distributions = params, cv = 5, verbose = 0, random_state = 42)\r\n",
        "xgb_cv.fit(X_train, Y_train)"
      ],
      "execution_count": 55,
      "outputs": [
        {
          "output_type": "stream",
          "text": [
            "[14:05:52] WARNING: /workspace/src/objective/regression_obj.cu:152: reg:linear is now deprecated in favor of reg:squarederror.\n",
            "[14:05:53] WARNING: /workspace/src/objective/regression_obj.cu:152: reg:linear is now deprecated in favor of reg:squarederror.\n",
            "[14:05:53] WARNING: /workspace/src/objective/regression_obj.cu:152: reg:linear is now deprecated in favor of reg:squarederror.\n",
            "[14:05:53] WARNING: /workspace/src/objective/regression_obj.cu:152: reg:linear is now deprecated in favor of reg:squarederror.\n",
            "[14:05:54] WARNING: /workspace/src/objective/regression_obj.cu:152: reg:linear is now deprecated in favor of reg:squarederror.\n",
            "[14:05:54] WARNING: /workspace/src/objective/regression_obj.cu:152: reg:linear is now deprecated in favor of reg:squarederror.\n",
            "[14:05:54] WARNING: /workspace/src/objective/regression_obj.cu:152: reg:linear is now deprecated in favor of reg:squarederror.\n",
            "[14:05:54] WARNING: /workspace/src/objective/regression_obj.cu:152: reg:linear is now deprecated in favor of reg:squarederror.\n",
            "[14:05:55] WARNING: /workspace/src/objective/regression_obj.cu:152: reg:linear is now deprecated in favor of reg:squarederror.\n",
            "[14:05:55] WARNING: /workspace/src/objective/regression_obj.cu:152: reg:linear is now deprecated in favor of reg:squarederror.\n",
            "[14:05:55] WARNING: /workspace/src/objective/regression_obj.cu:152: reg:linear is now deprecated in favor of reg:squarederror.\n",
            "[14:05:56] WARNING: /workspace/src/objective/regression_obj.cu:152: reg:linear is now deprecated in favor of reg:squarederror.\n",
            "[14:05:56] WARNING: /workspace/src/objective/regression_obj.cu:152: reg:linear is now deprecated in favor of reg:squarederror.\n",
            "[14:05:57] WARNING: /workspace/src/objective/regression_obj.cu:152: reg:linear is now deprecated in favor of reg:squarederror.\n",
            "[14:05:57] WARNING: /workspace/src/objective/regression_obj.cu:152: reg:linear is now deprecated in favor of reg:squarederror.\n",
            "[14:05:57] WARNING: /workspace/src/objective/regression_obj.cu:152: reg:linear is now deprecated in favor of reg:squarederror.\n",
            "[14:05:58] WARNING: /workspace/src/objective/regression_obj.cu:152: reg:linear is now deprecated in favor of reg:squarederror.\n",
            "[14:05:58] WARNING: /workspace/src/objective/regression_obj.cu:152: reg:linear is now deprecated in favor of reg:squarederror.\n",
            "[14:05:59] WARNING: /workspace/src/objective/regression_obj.cu:152: reg:linear is now deprecated in favor of reg:squarederror.\n",
            "[14:05:59] WARNING: /workspace/src/objective/regression_obj.cu:152: reg:linear is now deprecated in favor of reg:squarederror.\n",
            "[14:05:59] WARNING: /workspace/src/objective/regression_obj.cu:152: reg:linear is now deprecated in favor of reg:squarederror.\n",
            "[14:06:00] WARNING: /workspace/src/objective/regression_obj.cu:152: reg:linear is now deprecated in favor of reg:squarederror.\n",
            "[14:06:00] WARNING: /workspace/src/objective/regression_obj.cu:152: reg:linear is now deprecated in favor of reg:squarederror.\n",
            "[14:06:01] WARNING: /workspace/src/objective/regression_obj.cu:152: reg:linear is now deprecated in favor of reg:squarederror.\n",
            "[14:06:01] WARNING: /workspace/src/objective/regression_obj.cu:152: reg:linear is now deprecated in favor of reg:squarederror.\n",
            "[14:06:02] WARNING: /workspace/src/objective/regression_obj.cu:152: reg:linear is now deprecated in favor of reg:squarederror.\n",
            "[14:06:02] WARNING: /workspace/src/objective/regression_obj.cu:152: reg:linear is now deprecated in favor of reg:squarederror.\n",
            "[14:06:03] WARNING: /workspace/src/objective/regression_obj.cu:152: reg:linear is now deprecated in favor of reg:squarederror.\n",
            "[14:06:04] WARNING: /workspace/src/objective/regression_obj.cu:152: reg:linear is now deprecated in favor of reg:squarederror.\n",
            "[14:06:04] WARNING: /workspace/src/objective/regression_obj.cu:152: reg:linear is now deprecated in favor of reg:squarederror.\n",
            "[14:06:05] WARNING: /workspace/src/objective/regression_obj.cu:152: reg:linear is now deprecated in favor of reg:squarederror.\n",
            "[14:06:05] WARNING: /workspace/src/objective/regression_obj.cu:152: reg:linear is now deprecated in favor of reg:squarederror.\n",
            "[14:06:05] WARNING: /workspace/src/objective/regression_obj.cu:152: reg:linear is now deprecated in favor of reg:squarederror.\n",
            "[14:06:05] WARNING: /workspace/src/objective/regression_obj.cu:152: reg:linear is now deprecated in favor of reg:squarederror.\n",
            "[14:06:06] WARNING: /workspace/src/objective/regression_obj.cu:152: reg:linear is now deprecated in favor of reg:squarederror.\n",
            "[14:06:06] WARNING: /workspace/src/objective/regression_obj.cu:152: reg:linear is now deprecated in favor of reg:squarederror.\n",
            "[14:06:06] WARNING: /workspace/src/objective/regression_obj.cu:152: reg:linear is now deprecated in favor of reg:squarederror.\n",
            "[14:06:07] WARNING: /workspace/src/objective/regression_obj.cu:152: reg:linear is now deprecated in favor of reg:squarederror.\n",
            "[14:06:07] WARNING: /workspace/src/objective/regression_obj.cu:152: reg:linear is now deprecated in favor of reg:squarederror.\n",
            "[14:06:07] WARNING: /workspace/src/objective/regression_obj.cu:152: reg:linear is now deprecated in favor of reg:squarederror.\n",
            "[14:06:07] WARNING: /workspace/src/objective/regression_obj.cu:152: reg:linear is now deprecated in favor of reg:squarederror.\n",
            "[14:06:08] WARNING: /workspace/src/objective/regression_obj.cu:152: reg:linear is now deprecated in favor of reg:squarederror.\n",
            "[14:06:08] WARNING: /workspace/src/objective/regression_obj.cu:152: reg:linear is now deprecated in favor of reg:squarederror.\n",
            "[14:06:08] WARNING: /workspace/src/objective/regression_obj.cu:152: reg:linear is now deprecated in favor of reg:squarederror.\n",
            "[14:06:09] WARNING: /workspace/src/objective/regression_obj.cu:152: reg:linear is now deprecated in favor of reg:squarederror.\n",
            "[14:06:09] WARNING: /workspace/src/objective/regression_obj.cu:152: reg:linear is now deprecated in favor of reg:squarederror.\n",
            "[14:06:09] WARNING: /workspace/src/objective/regression_obj.cu:152: reg:linear is now deprecated in favor of reg:squarederror.\n",
            "[14:06:10] WARNING: /workspace/src/objective/regression_obj.cu:152: reg:linear is now deprecated in favor of reg:squarederror.\n",
            "[14:06:10] WARNING: /workspace/src/objective/regression_obj.cu:152: reg:linear is now deprecated in favor of reg:squarederror.\n",
            "[14:06:11] WARNING: /workspace/src/objective/regression_obj.cu:152: reg:linear is now deprecated in favor of reg:squarederror.\n",
            "[14:06:11] WARNING: /workspace/src/objective/regression_obj.cu:152: reg:linear is now deprecated in favor of reg:squarederror.\n"
          ],
          "name": "stdout"
        },
        {
          "output_type": "execute_result",
          "data": {
            "text/plain": [
              "RandomizedSearchCV(cv=5, error_score=nan,\n",
              "                   estimator=XGBRegressor(base_score=0.5, booster='gbtree',\n",
              "                                          colsample_bylevel=1,\n",
              "                                          colsample_bynode=1,\n",
              "                                          colsample_bytree=1, gamma=0,\n",
              "                                          importance_type='gain',\n",
              "                                          learning_rate=0.1, max_delta_step=0,\n",
              "                                          max_depth=3, min_child_weight=1,\n",
              "                                          missing=None, n_estimators=100,\n",
              "                                          n_jobs=1, nthread=None,\n",
              "                                          objective='reg:linear',\n",
              "                                          random_state=42, reg_alpha...\n",
              "                   param_distributions={'colsample_bytree': [0.3, 0.4, 0.5,\n",
              "                                                             0.7],\n",
              "                                        'gamma': [0.0, 0.1, 0.2, 0.3, 0.4],\n",
              "                                        'learning_rate': ['0.01', '0.05', '0.1',\n",
              "                                                          '0.25', '0.5', '0.75',\n",
              "                                                          '1.0'],\n",
              "                                        'max_depth': [5, 6, 7, 8, 9, 10, 11, 12,\n",
              "                                                      13, 14, 15, 16, 17, 18,\n",
              "                                                      20],\n",
              "                                        'min_child_weight': [45, 46, 48, 50, 52,\n",
              "                                                             53, 55, 57, 59, 61,\n",
              "                                                             62, 64, 66, 68,\n",
              "                                                             70]},\n",
              "                   pre_dispatch='2*n_jobs', random_state=42, refit=True,\n",
              "                   return_train_score=False, scoring=None, verbose=0)"
            ]
          },
          "metadata": {
            "tags": []
          },
          "execution_count": 55
        }
      ]
    },
    {
      "cell_type": "code",
      "metadata": {
        "colab": {
          "base_uri": "https://localhost:8080/"
        },
        "id": "HRahDWcYN6Ii",
        "outputId": "8bb38579-a8a2-4f9f-981c-92ef4fe736ea"
      },
      "source": [
        "print(\"best score:\",xgb_cv.best_score_)\r\n",
        "print(\"Best Params:\",xgb_cv.best_params_)"
      ],
      "execution_count": 56,
      "outputs": [
        {
          "output_type": "stream",
          "text": [
            "best score: 0.9531515746847352\n",
            "Best Params: {'min_child_weight': 52, 'max_depth': 7, 'learning_rate': '0.05', 'gamma': 0.2, 'colsample_bytree': 0.4}\n"
          ],
          "name": "stdout"
        }
      ]
    },
    {
      "cell_type": "markdown",
      "metadata": {
        "id": "c1tu4EW5OK16"
      },
      "source": [
        "#### Now that we've the best parameters, let us run model with best parameters"
      ]
    },
    {
      "cell_type": "code",
      "metadata": {
        "colab": {
          "base_uri": "https://localhost:8080/"
        },
        "id": "Gia47JVROQIR",
        "outputId": "777b025f-329a-4bac-acd0-9247086fccac"
      },
      "source": [
        "xgb_best = XGBRegressor(colsample_bytree = 0.4, gamma = 0.3, learning_rate = 0.05, max_depth = 7, min_child_weight = 52, verbosity = 0, random_state = 42)\r\n",
        "xgb_best.fit(X_train, Y_train)\r\n",
        "Y_pred_xgb_best = xgb_best.predict(X_test)\r\n",
        "print(\"XGB regression with best parameters \") \r\n",
        "print(\"RMSE:\",np.sqrt(mean_squared_error(Y_test, Y_pred_xgb_best))) \r\n",
        "print(\"R2 score:\", r2_score(Y_test, Y_pred_xgb_best))"
      ],
      "execution_count": 57,
      "outputs": [
        {
          "output_type": "stream",
          "text": [
            "XGB regression with best parameters \n",
            "RMSE: 283568.35398670036\n",
            "R2 score: 0.9273349900071916\n"
          ],
          "name": "stdout"
        }
      ]
    },
    {
      "cell_type": "code",
      "metadata": {
        "colab": {
          "base_uri": "https://localhost:8080/"
        },
        "id": "LhFmpKTePRag",
        "outputId": "beb6b94b-6fbf-4a1e-c1ba-f4f8ebd46cc8"
      },
      "source": [
        "import warnings\r\n",
        "warnings.filterwarnings('ignore')\r\n",
        "from sklearn.model_selection import GridSearchCV\r\n",
        "predictor = data.drop(\"Purchase\", axis=1)\r\n",
        "target = data[\"Purchase\"]\r\n",
        "\r\n",
        "# find the best parameter for model making\r\n",
        "param_grid = {\"n_estimators\":[1, 5, 10, 50, 100, 150, 300, 500], \\\r\n",
        "              \"max_depth\":[1, 3, 5, 7, 9]}\r\n",
        "xgb_tune_gscv = XGBRegressor(random_state = 42)\r\n",
        "grid_xgb = GridSearchCV(xgb_tune_gscv, param_grid, cv=5, scoring=\"neg_mean_squared_error\").fit(predictor, target)\r\n",
        "print(\"Best parameter: {}\".format(grid_xgb.best_params_))\r\n",
        "print(\"Best score: {:.2f}\".format((-1*grid_xgb.best_score_)**0.5))"
      ],
      "execution_count": 58,
      "outputs": [
        {
          "output_type": "stream",
          "text": [
            "[14:06:12] WARNING: /workspace/src/objective/regression_obj.cu:152: reg:linear is now deprecated in favor of reg:squarederror.\n",
            "[14:06:12] WARNING: /workspace/src/objective/regression_obj.cu:152: reg:linear is now deprecated in favor of reg:squarederror.\n",
            "[14:06:12] WARNING: /workspace/src/objective/regression_obj.cu:152: reg:linear is now deprecated in favor of reg:squarederror.\n",
            "[14:06:12] WARNING: /workspace/src/objective/regression_obj.cu:152: reg:linear is now deprecated in favor of reg:squarederror.\n",
            "[14:06:12] WARNING: /workspace/src/objective/regression_obj.cu:152: reg:linear is now deprecated in favor of reg:squarederror.\n",
            "[14:06:12] WARNING: /workspace/src/objective/regression_obj.cu:152: reg:linear is now deprecated in favor of reg:squarederror.\n",
            "[14:06:12] WARNING: /workspace/src/objective/regression_obj.cu:152: reg:linear is now deprecated in favor of reg:squarederror.\n",
            "[14:06:12] WARNING: /workspace/src/objective/regression_obj.cu:152: reg:linear is now deprecated in favor of reg:squarederror.\n",
            "[14:06:12] WARNING: /workspace/src/objective/regression_obj.cu:152: reg:linear is now deprecated in favor of reg:squarederror.\n",
            "[14:06:12] WARNING: /workspace/src/objective/regression_obj.cu:152: reg:linear is now deprecated in favor of reg:squarederror.\n",
            "[14:06:12] WARNING: /workspace/src/objective/regression_obj.cu:152: reg:linear is now deprecated in favor of reg:squarederror.\n",
            "[14:06:12] WARNING: /workspace/src/objective/regression_obj.cu:152: reg:linear is now deprecated in favor of reg:squarederror.\n",
            "[14:06:12] WARNING: /workspace/src/objective/regression_obj.cu:152: reg:linear is now deprecated in favor of reg:squarederror.\n",
            "[14:06:12] WARNING: /workspace/src/objective/regression_obj.cu:152: reg:linear is now deprecated in favor of reg:squarederror.\n",
            "[14:06:12] WARNING: /workspace/src/objective/regression_obj.cu:152: reg:linear is now deprecated in favor of reg:squarederror.\n",
            "[14:06:12] WARNING: /workspace/src/objective/regression_obj.cu:152: reg:linear is now deprecated in favor of reg:squarederror.\n",
            "[14:06:12] WARNING: /workspace/src/objective/regression_obj.cu:152: reg:linear is now deprecated in favor of reg:squarederror.\n",
            "[14:06:12] WARNING: /workspace/src/objective/regression_obj.cu:152: reg:linear is now deprecated in favor of reg:squarederror.\n",
            "[14:06:12] WARNING: /workspace/src/objective/regression_obj.cu:152: reg:linear is now deprecated in favor of reg:squarederror.\n",
            "[14:06:12] WARNING: /workspace/src/objective/regression_obj.cu:152: reg:linear is now deprecated in favor of reg:squarederror.\n",
            "[14:06:13] WARNING: /workspace/src/objective/regression_obj.cu:152: reg:linear is now deprecated in favor of reg:squarederror.\n",
            "[14:06:13] WARNING: /workspace/src/objective/regression_obj.cu:152: reg:linear is now deprecated in favor of reg:squarederror.\n",
            "[14:06:13] WARNING: /workspace/src/objective/regression_obj.cu:152: reg:linear is now deprecated in favor of reg:squarederror.\n",
            "[14:06:13] WARNING: /workspace/src/objective/regression_obj.cu:152: reg:linear is now deprecated in favor of reg:squarederror.\n",
            "[14:06:13] WARNING: /workspace/src/objective/regression_obj.cu:152: reg:linear is now deprecated in favor of reg:squarederror.\n",
            "[14:06:13] WARNING: /workspace/src/objective/regression_obj.cu:152: reg:linear is now deprecated in favor of reg:squarederror.\n",
            "[14:06:13] WARNING: /workspace/src/objective/regression_obj.cu:152: reg:linear is now deprecated in favor of reg:squarederror.\n",
            "[14:06:14] WARNING: /workspace/src/objective/regression_obj.cu:152: reg:linear is now deprecated in favor of reg:squarederror.\n",
            "[14:06:14] WARNING: /workspace/src/objective/regression_obj.cu:152: reg:linear is now deprecated in favor of reg:squarederror.\n",
            "[14:06:14] WARNING: /workspace/src/objective/regression_obj.cu:152: reg:linear is now deprecated in favor of reg:squarederror.\n",
            "[14:06:14] WARNING: /workspace/src/objective/regression_obj.cu:152: reg:linear is now deprecated in favor of reg:squarederror.\n",
            "[14:06:15] WARNING: /workspace/src/objective/regression_obj.cu:152: reg:linear is now deprecated in favor of reg:squarederror.\n",
            "[14:06:15] WARNING: /workspace/src/objective/regression_obj.cu:152: reg:linear is now deprecated in favor of reg:squarederror.\n",
            "[14:06:15] WARNING: /workspace/src/objective/regression_obj.cu:152: reg:linear is now deprecated in favor of reg:squarederror.\n",
            "[14:06:16] WARNING: /workspace/src/objective/regression_obj.cu:152: reg:linear is now deprecated in favor of reg:squarederror.\n",
            "[14:06:16] WARNING: /workspace/src/objective/regression_obj.cu:152: reg:linear is now deprecated in favor of reg:squarederror.\n",
            "[14:06:17] WARNING: /workspace/src/objective/regression_obj.cu:152: reg:linear is now deprecated in favor of reg:squarederror.\n",
            "[14:06:17] WARNING: /workspace/src/objective/regression_obj.cu:152: reg:linear is now deprecated in favor of reg:squarederror.\n",
            "[14:06:18] WARNING: /workspace/src/objective/regression_obj.cu:152: reg:linear is now deprecated in favor of reg:squarederror.\n",
            "[14:06:19] WARNING: /workspace/src/objective/regression_obj.cu:152: reg:linear is now deprecated in favor of reg:squarederror.\n",
            "[14:06:19] WARNING: /workspace/src/objective/regression_obj.cu:152: reg:linear is now deprecated in favor of reg:squarederror.\n",
            "[14:06:19] WARNING: /workspace/src/objective/regression_obj.cu:152: reg:linear is now deprecated in favor of reg:squarederror.\n",
            "[14:06:19] WARNING: /workspace/src/objective/regression_obj.cu:152: reg:linear is now deprecated in favor of reg:squarederror.\n",
            "[14:06:19] WARNING: /workspace/src/objective/regression_obj.cu:152: reg:linear is now deprecated in favor of reg:squarederror.\n",
            "[14:06:19] WARNING: /workspace/src/objective/regression_obj.cu:152: reg:linear is now deprecated in favor of reg:squarederror.\n",
            "[14:06:19] WARNING: /workspace/src/objective/regression_obj.cu:152: reg:linear is now deprecated in favor of reg:squarederror.\n",
            "[14:06:19] WARNING: /workspace/src/objective/regression_obj.cu:152: reg:linear is now deprecated in favor of reg:squarederror.\n",
            "[14:06:19] WARNING: /workspace/src/objective/regression_obj.cu:152: reg:linear is now deprecated in favor of reg:squarederror.\n",
            "[14:06:19] WARNING: /workspace/src/objective/regression_obj.cu:152: reg:linear is now deprecated in favor of reg:squarederror.\n",
            "[14:06:19] WARNING: /workspace/src/objective/regression_obj.cu:152: reg:linear is now deprecated in favor of reg:squarederror.\n",
            "[14:06:19] WARNING: /workspace/src/objective/regression_obj.cu:152: reg:linear is now deprecated in favor of reg:squarederror.\n",
            "[14:06:20] WARNING: /workspace/src/objective/regression_obj.cu:152: reg:linear is now deprecated in favor of reg:squarederror.\n",
            "[14:06:20] WARNING: /workspace/src/objective/regression_obj.cu:152: reg:linear is now deprecated in favor of reg:squarederror.\n",
            "[14:06:20] WARNING: /workspace/src/objective/regression_obj.cu:152: reg:linear is now deprecated in favor of reg:squarederror.\n",
            "[14:06:20] WARNING: /workspace/src/objective/regression_obj.cu:152: reg:linear is now deprecated in favor of reg:squarederror.\n",
            "[14:06:20] WARNING: /workspace/src/objective/regression_obj.cu:152: reg:linear is now deprecated in favor of reg:squarederror.\n",
            "[14:06:20] WARNING: /workspace/src/objective/regression_obj.cu:152: reg:linear is now deprecated in favor of reg:squarederror.\n",
            "[14:06:20] WARNING: /workspace/src/objective/regression_obj.cu:152: reg:linear is now deprecated in favor of reg:squarederror.\n",
            "[14:06:20] WARNING: /workspace/src/objective/regression_obj.cu:152: reg:linear is now deprecated in favor of reg:squarederror.\n",
            "[14:06:20] WARNING: /workspace/src/objective/regression_obj.cu:152: reg:linear is now deprecated in favor of reg:squarederror.\n",
            "[14:06:20] WARNING: /workspace/src/objective/regression_obj.cu:152: reg:linear is now deprecated in favor of reg:squarederror.\n",
            "[14:06:21] WARNING: /workspace/src/objective/regression_obj.cu:152: reg:linear is now deprecated in favor of reg:squarederror.\n",
            "[14:06:21] WARNING: /workspace/src/objective/regression_obj.cu:152: reg:linear is now deprecated in favor of reg:squarederror.\n",
            "[14:06:21] WARNING: /workspace/src/objective/regression_obj.cu:152: reg:linear is now deprecated in favor of reg:squarederror.\n",
            "[14:06:21] WARNING: /workspace/src/objective/regression_obj.cu:152: reg:linear is now deprecated in favor of reg:squarederror.\n",
            "[14:06:22] WARNING: /workspace/src/objective/regression_obj.cu:152: reg:linear is now deprecated in favor of reg:squarederror.\n",
            "[14:06:22] WARNING: /workspace/src/objective/regression_obj.cu:152: reg:linear is now deprecated in favor of reg:squarederror.\n",
            "[14:06:22] WARNING: /workspace/src/objective/regression_obj.cu:152: reg:linear is now deprecated in favor of reg:squarederror.\n",
            "[14:06:23] WARNING: /workspace/src/objective/regression_obj.cu:152: reg:linear is now deprecated in favor of reg:squarederror.\n",
            "[14:06:23] WARNING: /workspace/src/objective/regression_obj.cu:152: reg:linear is now deprecated in favor of reg:squarederror.\n",
            "[14:06:23] WARNING: /workspace/src/objective/regression_obj.cu:152: reg:linear is now deprecated in favor of reg:squarederror.\n",
            "[14:06:24] WARNING: /workspace/src/objective/regression_obj.cu:152: reg:linear is now deprecated in favor of reg:squarederror.\n",
            "[14:06:25] WARNING: /workspace/src/objective/regression_obj.cu:152: reg:linear is now deprecated in favor of reg:squarederror.\n",
            "[14:06:26] WARNING: /workspace/src/objective/regression_obj.cu:152: reg:linear is now deprecated in favor of reg:squarederror.\n",
            "[14:06:26] WARNING: /workspace/src/objective/regression_obj.cu:152: reg:linear is now deprecated in favor of reg:squarederror.\n",
            "[14:06:27] WARNING: /workspace/src/objective/regression_obj.cu:152: reg:linear is now deprecated in favor of reg:squarederror.\n",
            "[14:06:28] WARNING: /workspace/src/objective/regression_obj.cu:152: reg:linear is now deprecated in favor of reg:squarederror.\n",
            "[14:06:30] WARNING: /workspace/src/objective/regression_obj.cu:152: reg:linear is now deprecated in favor of reg:squarederror.\n",
            "[14:06:31] WARNING: /workspace/src/objective/regression_obj.cu:152: reg:linear is now deprecated in favor of reg:squarederror.\n",
            "[14:06:32] WARNING: /workspace/src/objective/regression_obj.cu:152: reg:linear is now deprecated in favor of reg:squarederror.\n",
            "[14:06:33] WARNING: /workspace/src/objective/regression_obj.cu:152: reg:linear is now deprecated in favor of reg:squarederror.\n",
            "[14:06:33] WARNING: /workspace/src/objective/regression_obj.cu:152: reg:linear is now deprecated in favor of reg:squarederror.\n",
            "[14:06:33] WARNING: /workspace/src/objective/regression_obj.cu:152: reg:linear is now deprecated in favor of reg:squarederror.\n",
            "[14:06:33] WARNING: /workspace/src/objective/regression_obj.cu:152: reg:linear is now deprecated in favor of reg:squarederror.\n",
            "[14:06:33] WARNING: /workspace/src/objective/regression_obj.cu:152: reg:linear is now deprecated in favor of reg:squarederror.\n",
            "[14:06:33] WARNING: /workspace/src/objective/regression_obj.cu:152: reg:linear is now deprecated in favor of reg:squarederror.\n",
            "[14:06:33] WARNING: /workspace/src/objective/regression_obj.cu:152: reg:linear is now deprecated in favor of reg:squarederror.\n",
            "[14:06:33] WARNING: /workspace/src/objective/regression_obj.cu:152: reg:linear is now deprecated in favor of reg:squarederror.\n",
            "[14:06:33] WARNING: /workspace/src/objective/regression_obj.cu:152: reg:linear is now deprecated in favor of reg:squarederror.\n",
            "[14:06:33] WARNING: /workspace/src/objective/regression_obj.cu:152: reg:linear is now deprecated in favor of reg:squarederror.\n",
            "[14:06:33] WARNING: /workspace/src/objective/regression_obj.cu:152: reg:linear is now deprecated in favor of reg:squarederror.\n",
            "[14:06:34] WARNING: /workspace/src/objective/regression_obj.cu:152: reg:linear is now deprecated in favor of reg:squarederror.\n",
            "[14:06:34] WARNING: /workspace/src/objective/regression_obj.cu:152: reg:linear is now deprecated in favor of reg:squarederror.\n",
            "[14:06:34] WARNING: /workspace/src/objective/regression_obj.cu:152: reg:linear is now deprecated in favor of reg:squarederror.\n",
            "[14:06:34] WARNING: /workspace/src/objective/regression_obj.cu:152: reg:linear is now deprecated in favor of reg:squarederror.\n",
            "[14:06:34] WARNING: /workspace/src/objective/regression_obj.cu:152: reg:linear is now deprecated in favor of reg:squarederror.\n",
            "[14:06:34] WARNING: /workspace/src/objective/regression_obj.cu:152: reg:linear is now deprecated in favor of reg:squarederror.\n",
            "[14:06:34] WARNING: /workspace/src/objective/regression_obj.cu:152: reg:linear is now deprecated in favor of reg:squarederror.\n",
            "[14:06:34] WARNING: /workspace/src/objective/regression_obj.cu:152: reg:linear is now deprecated in favor of reg:squarederror.\n",
            "[14:06:35] WARNING: /workspace/src/objective/regression_obj.cu:152: reg:linear is now deprecated in favor of reg:squarederror.\n",
            "[14:06:35] WARNING: /workspace/src/objective/regression_obj.cu:152: reg:linear is now deprecated in favor of reg:squarederror.\n",
            "[14:06:35] WARNING: /workspace/src/objective/regression_obj.cu:152: reg:linear is now deprecated in favor of reg:squarederror.\n",
            "[14:06:36] WARNING: /workspace/src/objective/regression_obj.cu:152: reg:linear is now deprecated in favor of reg:squarederror.\n",
            "[14:06:36] WARNING: /workspace/src/objective/regression_obj.cu:152: reg:linear is now deprecated in favor of reg:squarederror.\n",
            "[14:06:36] WARNING: /workspace/src/objective/regression_obj.cu:152: reg:linear is now deprecated in favor of reg:squarederror.\n",
            "[14:06:37] WARNING: /workspace/src/objective/regression_obj.cu:152: reg:linear is now deprecated in favor of reg:squarederror.\n",
            "[14:06:37] WARNING: /workspace/src/objective/regression_obj.cu:152: reg:linear is now deprecated in favor of reg:squarederror.\n",
            "[14:06:38] WARNING: /workspace/src/objective/regression_obj.cu:152: reg:linear is now deprecated in favor of reg:squarederror.\n",
            "[14:06:38] WARNING: /workspace/src/objective/regression_obj.cu:152: reg:linear is now deprecated in favor of reg:squarederror.\n",
            "[14:06:39] WARNING: /workspace/src/objective/regression_obj.cu:152: reg:linear is now deprecated in favor of reg:squarederror.\n",
            "[14:06:40] WARNING: /workspace/src/objective/regression_obj.cu:152: reg:linear is now deprecated in favor of reg:squarederror.\n",
            "[14:06:41] WARNING: /workspace/src/objective/regression_obj.cu:152: reg:linear is now deprecated in favor of reg:squarederror.\n",
            "[14:06:42] WARNING: /workspace/src/objective/regression_obj.cu:152: reg:linear is now deprecated in favor of reg:squarederror.\n",
            "[14:06:43] WARNING: /workspace/src/objective/regression_obj.cu:152: reg:linear is now deprecated in favor of reg:squarederror.\n",
            "[14:06:44] WARNING: /workspace/src/objective/regression_obj.cu:152: reg:linear is now deprecated in favor of reg:squarederror.\n",
            "[14:06:45] WARNING: /workspace/src/objective/regression_obj.cu:152: reg:linear is now deprecated in favor of reg:squarederror.\n",
            "[14:06:47] WARNING: /workspace/src/objective/regression_obj.cu:152: reg:linear is now deprecated in favor of reg:squarederror.\n",
            "[14:06:49] WARNING: /workspace/src/objective/regression_obj.cu:152: reg:linear is now deprecated in favor of reg:squarederror.\n",
            "[14:06:51] WARNING: /workspace/src/objective/regression_obj.cu:152: reg:linear is now deprecated in favor of reg:squarederror.\n",
            "[14:06:53] WARNING: /workspace/src/objective/regression_obj.cu:152: reg:linear is now deprecated in favor of reg:squarederror.\n",
            "[14:06:55] WARNING: /workspace/src/objective/regression_obj.cu:152: reg:linear is now deprecated in favor of reg:squarederror.\n",
            "[14:06:55] WARNING: /workspace/src/objective/regression_obj.cu:152: reg:linear is now deprecated in favor of reg:squarederror.\n",
            "[14:06:55] WARNING: /workspace/src/objective/regression_obj.cu:152: reg:linear is now deprecated in favor of reg:squarederror.\n",
            "[14:06:55] WARNING: /workspace/src/objective/regression_obj.cu:152: reg:linear is now deprecated in favor of reg:squarederror.\n",
            "[14:06:55] WARNING: /workspace/src/objective/regression_obj.cu:152: reg:linear is now deprecated in favor of reg:squarederror.\n",
            "[14:06:55] WARNING: /workspace/src/objective/regression_obj.cu:152: reg:linear is now deprecated in favor of reg:squarederror.\n",
            "[14:06:55] WARNING: /workspace/src/objective/regression_obj.cu:152: reg:linear is now deprecated in favor of reg:squarederror.\n",
            "[14:06:55] WARNING: /workspace/src/objective/regression_obj.cu:152: reg:linear is now deprecated in favor of reg:squarederror.\n",
            "[14:06:55] WARNING: /workspace/src/objective/regression_obj.cu:152: reg:linear is now deprecated in favor of reg:squarederror.\n",
            "[14:06:55] WARNING: /workspace/src/objective/regression_obj.cu:152: reg:linear is now deprecated in favor of reg:squarederror.\n",
            "[14:06:55] WARNING: /workspace/src/objective/regression_obj.cu:152: reg:linear is now deprecated in favor of reg:squarederror.\n",
            "[14:06:56] WARNING: /workspace/src/objective/regression_obj.cu:152: reg:linear is now deprecated in favor of reg:squarederror.\n",
            "[14:06:56] WARNING: /workspace/src/objective/regression_obj.cu:152: reg:linear is now deprecated in favor of reg:squarederror.\n",
            "[14:06:56] WARNING: /workspace/src/objective/regression_obj.cu:152: reg:linear is now deprecated in favor of reg:squarederror.\n",
            "[14:06:56] WARNING: /workspace/src/objective/regression_obj.cu:152: reg:linear is now deprecated in favor of reg:squarederror.\n",
            "[14:06:56] WARNING: /workspace/src/objective/regression_obj.cu:152: reg:linear is now deprecated in favor of reg:squarederror.\n",
            "[14:06:56] WARNING: /workspace/src/objective/regression_obj.cu:152: reg:linear is now deprecated in favor of reg:squarederror.\n",
            "[14:06:56] WARNING: /workspace/src/objective/regression_obj.cu:152: reg:linear is now deprecated in favor of reg:squarederror.\n",
            "[14:06:57] WARNING: /workspace/src/objective/regression_obj.cu:152: reg:linear is now deprecated in favor of reg:squarederror.\n",
            "[14:06:57] WARNING: /workspace/src/objective/regression_obj.cu:152: reg:linear is now deprecated in favor of reg:squarederror.\n",
            "[14:06:57] WARNING: /workspace/src/objective/regression_obj.cu:152: reg:linear is now deprecated in favor of reg:squarederror.\n",
            "[14:06:58] WARNING: /workspace/src/objective/regression_obj.cu:152: reg:linear is now deprecated in favor of reg:squarederror.\n",
            "[14:06:58] WARNING: /workspace/src/objective/regression_obj.cu:152: reg:linear is now deprecated in favor of reg:squarederror.\n",
            "[14:06:59] WARNING: /workspace/src/objective/regression_obj.cu:152: reg:linear is now deprecated in favor of reg:squarederror.\n",
            "[14:07:00] WARNING: /workspace/src/objective/regression_obj.cu:152: reg:linear is now deprecated in favor of reg:squarederror.\n",
            "[14:07:00] WARNING: /workspace/src/objective/regression_obj.cu:152: reg:linear is now deprecated in favor of reg:squarederror.\n",
            "[14:07:01] WARNING: /workspace/src/objective/regression_obj.cu:152: reg:linear is now deprecated in favor of reg:squarederror.\n",
            "[14:07:02] WARNING: /workspace/src/objective/regression_obj.cu:152: reg:linear is now deprecated in favor of reg:squarederror.\n",
            "[14:07:03] WARNING: /workspace/src/objective/regression_obj.cu:152: reg:linear is now deprecated in favor of reg:squarederror.\n",
            "[14:07:03] WARNING: /workspace/src/objective/regression_obj.cu:152: reg:linear is now deprecated in favor of reg:squarederror.\n",
            "[14:07:04] WARNING: /workspace/src/objective/regression_obj.cu:152: reg:linear is now deprecated in favor of reg:squarederror.\n",
            "[14:07:06] WARNING: /workspace/src/objective/regression_obj.cu:152: reg:linear is now deprecated in favor of reg:squarederror.\n",
            "[14:07:08] WARNING: /workspace/src/objective/regression_obj.cu:152: reg:linear is now deprecated in favor of reg:squarederror.\n",
            "[14:07:09] WARNING: /workspace/src/objective/regression_obj.cu:152: reg:linear is now deprecated in favor of reg:squarederror.\n",
            "[14:07:11] WARNING: /workspace/src/objective/regression_obj.cu:152: reg:linear is now deprecated in favor of reg:squarederror.\n",
            "[14:07:13] WARNING: /workspace/src/objective/regression_obj.cu:152: reg:linear is now deprecated in favor of reg:squarederror.\n",
            "[14:07:15] WARNING: /workspace/src/objective/regression_obj.cu:152: reg:linear is now deprecated in favor of reg:squarederror.\n",
            "[14:07:18] WARNING: /workspace/src/objective/regression_obj.cu:152: reg:linear is now deprecated in favor of reg:squarederror.\n",
            "[14:07:21] WARNING: /workspace/src/objective/regression_obj.cu:152: reg:linear is now deprecated in favor of reg:squarederror.\n",
            "[14:07:24] WARNING: /workspace/src/objective/regression_obj.cu:152: reg:linear is now deprecated in favor of reg:squarederror.\n",
            "[14:07:27] WARNING: /workspace/src/objective/regression_obj.cu:152: reg:linear is now deprecated in favor of reg:squarederror.\n",
            "[14:07:27] WARNING: /workspace/src/objective/regression_obj.cu:152: reg:linear is now deprecated in favor of reg:squarederror.\n",
            "[14:07:27] WARNING: /workspace/src/objective/regression_obj.cu:152: reg:linear is now deprecated in favor of reg:squarederror.\n",
            "[14:07:27] WARNING: /workspace/src/objective/regression_obj.cu:152: reg:linear is now deprecated in favor of reg:squarederror.\n",
            "[14:07:27] WARNING: /workspace/src/objective/regression_obj.cu:152: reg:linear is now deprecated in favor of reg:squarederror.\n",
            "[14:07:27] WARNING: /workspace/src/objective/regression_obj.cu:152: reg:linear is now deprecated in favor of reg:squarederror.\n",
            "[14:07:27] WARNING: /workspace/src/objective/regression_obj.cu:152: reg:linear is now deprecated in favor of reg:squarederror.\n",
            "[14:07:27] WARNING: /workspace/src/objective/regression_obj.cu:152: reg:linear is now deprecated in favor of reg:squarederror.\n",
            "[14:07:27] WARNING: /workspace/src/objective/regression_obj.cu:152: reg:linear is now deprecated in favor of reg:squarederror.\n",
            "[14:07:27] WARNING: /workspace/src/objective/regression_obj.cu:152: reg:linear is now deprecated in favor of reg:squarederror.\n",
            "[14:07:27] WARNING: /workspace/src/objective/regression_obj.cu:152: reg:linear is now deprecated in favor of reg:squarederror.\n",
            "[14:07:27] WARNING: /workspace/src/objective/regression_obj.cu:152: reg:linear is now deprecated in favor of reg:squarederror.\n",
            "[14:07:27] WARNING: /workspace/src/objective/regression_obj.cu:152: reg:linear is now deprecated in favor of reg:squarederror.\n",
            "[14:07:27] WARNING: /workspace/src/objective/regression_obj.cu:152: reg:linear is now deprecated in favor of reg:squarederror.\n",
            "[14:07:27] WARNING: /workspace/src/objective/regression_obj.cu:152: reg:linear is now deprecated in favor of reg:squarederror.\n",
            "[14:07:27] WARNING: /workspace/src/objective/regression_obj.cu:152: reg:linear is now deprecated in favor of reg:squarederror.\n",
            "[14:07:28] WARNING: /workspace/src/objective/regression_obj.cu:152: reg:linear is now deprecated in favor of reg:squarederror.\n",
            "[14:07:28] WARNING: /workspace/src/objective/regression_obj.cu:152: reg:linear is now deprecated in favor of reg:squarederror.\n",
            "[14:07:29] WARNING: /workspace/src/objective/regression_obj.cu:152: reg:linear is now deprecated in favor of reg:squarederror.\n",
            "[14:07:29] WARNING: /workspace/src/objective/regression_obj.cu:152: reg:linear is now deprecated in favor of reg:squarederror.\n",
            "[14:07:29] WARNING: /workspace/src/objective/regression_obj.cu:152: reg:linear is now deprecated in favor of reg:squarederror.\n",
            "[14:07:30] WARNING: /workspace/src/objective/regression_obj.cu:152: reg:linear is now deprecated in favor of reg:squarederror.\n",
            "[14:07:31] WARNING: /workspace/src/objective/regression_obj.cu:152: reg:linear is now deprecated in favor of reg:squarederror.\n",
            "[14:07:32] WARNING: /workspace/src/objective/regression_obj.cu:152: reg:linear is now deprecated in favor of reg:squarederror.\n",
            "[14:07:32] WARNING: /workspace/src/objective/regression_obj.cu:152: reg:linear is now deprecated in favor of reg:squarederror.\n",
            "[14:07:33] WARNING: /workspace/src/objective/regression_obj.cu:152: reg:linear is now deprecated in favor of reg:squarederror.\n",
            "[14:07:34] WARNING: /workspace/src/objective/regression_obj.cu:152: reg:linear is now deprecated in favor of reg:squarederror.\n",
            "[14:07:35] WARNING: /workspace/src/objective/regression_obj.cu:152: reg:linear is now deprecated in favor of reg:squarederror.\n",
            "[14:07:36] WARNING: /workspace/src/objective/regression_obj.cu:152: reg:linear is now deprecated in favor of reg:squarederror.\n",
            "[14:07:37] WARNING: /workspace/src/objective/regression_obj.cu:152: reg:linear is now deprecated in favor of reg:squarederror.\n",
            "[14:07:39] WARNING: /workspace/src/objective/regression_obj.cu:152: reg:linear is now deprecated in favor of reg:squarederror.\n",
            "[14:07:41] WARNING: /workspace/src/objective/regression_obj.cu:152: reg:linear is now deprecated in favor of reg:squarederror.\n",
            "[14:07:43] WARNING: /workspace/src/objective/regression_obj.cu:152: reg:linear is now deprecated in favor of reg:squarederror.\n",
            "[14:07:45] WARNING: /workspace/src/objective/regression_obj.cu:152: reg:linear is now deprecated in favor of reg:squarederror.\n",
            "[14:07:47] WARNING: /workspace/src/objective/regression_obj.cu:152: reg:linear is now deprecated in favor of reg:squarederror.\n",
            "[14:07:50] WARNING: /workspace/src/objective/regression_obj.cu:152: reg:linear is now deprecated in favor of reg:squarederror.\n",
            "[14:07:53] WARNING: /workspace/src/objective/regression_obj.cu:152: reg:linear is now deprecated in favor of reg:squarederror.\n",
            "[14:07:57] WARNING: /workspace/src/objective/regression_obj.cu:152: reg:linear is now deprecated in favor of reg:squarederror.\n",
            "[14:08:01] WARNING: /workspace/src/objective/regression_obj.cu:152: reg:linear is now deprecated in favor of reg:squarederror.\n",
            "[14:08:05] WARNING: /workspace/src/objective/regression_obj.cu:152: reg:linear is now deprecated in favor of reg:squarederror.\n",
            "[14:08:08] WARNING: /workspace/src/objective/regression_obj.cu:152: reg:linear is now deprecated in favor of reg:squarederror.\n",
            "Best parameter: {'max_depth': 3, 'n_estimators': 100}\n",
            "Best score: 192785.00\n"
          ],
          "name": "stdout"
        }
      ]
    },
    {
      "cell_type": "code",
      "metadata": {
        "colab": {
          "base_uri": "https://localhost:8080/"
        },
        "id": "wxMAaPMJQRLk",
        "outputId": "2e7d48d5-e5fd-4451-921b-672f6fdd6d90"
      },
      "source": [
        "xgb_gscv_best = XGBRegressor( max_depth = 3, n_estimators=100)\r\n",
        "xgb_gscv_best.fit(X_train, Y_train)\r\n",
        "Y_pred_xgb_gscv_best = xgb_gscv_best.predict(X_test)\r\n",
        "print(\"XGB regression with best parameters \") \r\n",
        "print(\"RMSE:\",np.sqrt(mean_squared_error(Y_test, Y_pred_xgb_gscv_best))) \r\n",
        "print(\"R2 score:\", r2_score(Y_test, Y_pred_xgb_gscv_best))"
      ],
      "execution_count": 59,
      "outputs": [
        {
          "output_type": "stream",
          "text": [
            "[14:08:09] WARNING: /workspace/src/objective/regression_obj.cu:152: reg:linear is now deprecated in favor of reg:squarederror.\n",
            "XGB regression with best parameters \n",
            "RMSE: 253248.10291965344\n",
            "R2 score: 0.9420434914526583\n"
          ],
          "name": "stdout"
        }
      ]
    },
    {
      "cell_type": "code",
      "metadata": {
        "colab": {
          "base_uri": "https://localhost:8080/"
        },
        "id": "KQFSVZOFKQfP",
        "outputId": "1b42c090-af45-47db-cb8a-38594f020000"
      },
      "source": [
        "import lightgbm as lgb\r\n",
        "train_data=lgb.Dataset(X_train,label=Y_train)\r\n",
        "params = {'learning_rate':0.001}\r\n",
        "model= lgb.train(params, train_data, 100)\r\n",
        "y_pred_lgb=model.predict(X_test)\r\n",
        "for i in range(0,185):\r\n",
        "   if y_pred_lgb[i]>=0.5:\r\n",
        "     y_pred_lgb[i]=1\r\n",
        "   else:\r\n",
        "     y_pred_lgb[i]=0\r\n",
        "from sklearn.metrics import mean_squared_error\r\n",
        "rmse=mean_squared_error(y_pred_lgb,Y_test)**0.5\r\n",
        "print('RMSE for LGB:',rmse)\r\n",
        "print(\"R2 score:\", r2_score(Y_test, y_pred_lgb))"
      ],
      "execution_count": 60,
      "outputs": [
        {
          "output_type": "stream",
          "text": [
            "RMSE for LGB: 1033913.0812920444\n",
            "R2 score: 0.03399833859756851\n"
          ],
          "name": "stdout"
        }
      ]
    },
    {
      "cell_type": "code",
      "metadata": {
        "colab": {
          "base_uri": "https://localhost:8080/"
        },
        "id": "QWHkNUy9Q4k0",
        "outputId": "4cb385f7-172b-4bc7-c614-f109eff3c0b3"
      },
      "source": [
        "! pip install bayesian-optimization"
      ],
      "execution_count": 61,
      "outputs": [
        {
          "output_type": "stream",
          "text": [
            "Collecting bayesian-optimization\n",
            "  Downloading https://files.pythonhosted.org/packages/bb/7a/fd8059a3881d3ab37ac8f72f56b73937a14e8bb14a9733e68cc8b17dbe3c/bayesian-optimization-1.2.0.tar.gz\n",
            "Requirement already satisfied: numpy>=1.9.0 in /usr/local/lib/python3.7/dist-packages (from bayesian-optimization) (1.19.5)\n",
            "Requirement already satisfied: scipy>=0.14.0 in /usr/local/lib/python3.7/dist-packages (from bayesian-optimization) (1.4.1)\n",
            "Requirement already satisfied: scikit-learn>=0.18.0 in /usr/local/lib/python3.7/dist-packages (from bayesian-optimization) (0.22.2.post1)\n",
            "Requirement already satisfied: joblib>=0.11 in /usr/local/lib/python3.7/dist-packages (from scikit-learn>=0.18.0->bayesian-optimization) (1.0.1)\n",
            "Building wheels for collected packages: bayesian-optimization\n",
            "  Building wheel for bayesian-optimization (setup.py) ... \u001b[?25l\u001b[?25hdone\n",
            "  Created wheel for bayesian-optimization: filename=bayesian_optimization-1.2.0-cp37-none-any.whl size=11687 sha256=7ba5052e4eb295d42b7ace54904c9a1824f4dfb4e96fc907abdd6336f1674a6b\n",
            "  Stored in directory: /root/.cache/pip/wheels/5a/56/ae/e0e3c1fc1954dc3ec712e2df547235ed072b448094d8f94aec\n",
            "Successfully built bayesian-optimization\n",
            "Installing collected packages: bayesian-optimization\n",
            "Successfully installed bayesian-optimization-1.2.0\n"
          ],
          "name": "stdout"
        }
      ]
    },
    {
      "cell_type": "code",
      "metadata": {
        "colab": {
          "base_uri": "https://localhost:8080/"
        },
        "id": "iGw2u5CcL1eW",
        "outputId": "e4b4984f-e821-4d2a-a753-fb6ea4d68536"
      },
      "source": [
        "import lightgbm as lgb\r\n",
        "from bayes_opt import BayesianOptimization\r\n",
        "from sklearn.metrics import r2_score\r\n",
        "import warnings\r\n",
        "warnings.filterwarnings('ignore')\r\n",
        "\r\n",
        "\r\n",
        "def bayesion_opt_lgbm(X, y, init_iter=3, n_iters=7, random_state=11, seed = 101, num_iterations = 100):\r\n",
        "  dtrain = lgb.Dataset(data=X, label=y)\r\n",
        "  def lgb_r2_score(preds, dtrain):\r\n",
        "      labels = dtrain.get_label()\r\n",
        "      return 'r2', r2_score(labels, preds), True\r\n",
        "  # Objective Function\r\n",
        "  def hyp_lgbm(num_leaves, feature_fraction, bagging_fraction, max_depth, min_split_gain, min_child_weight):\r\n",
        "        \r\n",
        "          params = {'application':'regression','num_iterations': num_iterations,\r\n",
        "                    'learning_rate':0.05, 'early_stopping_round':50,\r\n",
        "                    'metric':'lgb_r2_score'} # Default parameters\r\n",
        "          params[\"num_leaves\"] = int(round(num_leaves))\r\n",
        "          params['feature_fraction'] = max(min(feature_fraction, 1), 0)\r\n",
        "          params['bagging_fraction'] = max(min(bagging_fraction, 1), 0)\r\n",
        "          params['max_depth'] = int(round(max_depth))\r\n",
        "          params['min_split_gain'] = min_split_gain\r\n",
        "          params['min_child_weight'] = min_child_weight\r\n",
        "          cv_results = lgb.cv(params, dtrain, nfold=5, seed=seed,categorical_feature=[], stratified=False,\r\n",
        "                              verbose_eval =None, feval=lgb_r2_score)\r\n",
        "          # print(cv_results)\r\n",
        "          return np.max(cv_results['r2-mean'])\r\n",
        "  # Domain space-- Range of hyperparameters \r\n",
        "  pds = {'num_leaves': (80, 100),\r\n",
        "            'feature_fraction': (0.1, 0.9),\r\n",
        "            'bagging_fraction': (0.8, 1),\r\n",
        "            'max_depth': (17, 25),\r\n",
        "            'min_split_gain': (0.001, 0.1),\r\n",
        "            'min_child_weight': (10, 25)\r\n",
        "            }\r\n",
        "\r\n",
        "  # Surrogate model\r\n",
        "  optimizer = BayesianOptimization(hyp_lgbm, pds, random_state=random_state)\r\n",
        "                                    \r\n",
        "  # Optimize\r\n",
        "  optimizer.maximize(init_points=init_iter, n_iter=n_iters)\r\n",
        "\r\n",
        "bayesion_opt_lgbm(X, y, init_iter=5, n_iters=10, random_state=77, seed = 101, num_iterations = 200)"
      ],
      "execution_count": 62,
      "outputs": [
        {
          "output_type": "stream",
          "text": [
            "|   iter    |  target   | baggin... | featur... | max_depth | min_ch... | min_sp... | num_le... |\n",
            "-------------------------------------------------------------------------------------------------\n",
            "| \u001b[0m 1       \u001b[0m | \u001b[0m 0.9539  \u001b[0m | \u001b[0m 0.9838  \u001b[0m | \u001b[0m 0.6138  \u001b[0m | \u001b[0m 23.03   \u001b[0m | \u001b[0m 12.09   \u001b[0m | \u001b[0m 0.009645\u001b[0m | \u001b[0m 95.76   \u001b[0m |\n",
            "| \u001b[0m 2       \u001b[0m | \u001b[0m 0.9532  \u001b[0m | \u001b[0m 0.8652  \u001b[0m | \u001b[0m 0.5329  \u001b[0m | \u001b[0m 18.92   \u001b[0m | \u001b[0m 18.18   \u001b[0m | \u001b[0m 0.04065 \u001b[0m | \u001b[0m 94.3    \u001b[0m |\n",
            "| \u001b[0m 3       \u001b[0m | \u001b[0m 0.9533  \u001b[0m | \u001b[0m 0.9673  \u001b[0m | \u001b[0m 0.5708  \u001b[0m | \u001b[0m 19.37   \u001b[0m | \u001b[0m 14.22   \u001b[0m | \u001b[0m 0.07085 \u001b[0m | \u001b[0m 88.45   \u001b[0m |\n",
            "| \u001b[95m 4       \u001b[0m | \u001b[95m 0.9541  \u001b[0m | \u001b[95m 0.8115  \u001b[0m | \u001b[95m 0.6976  \u001b[0m | \u001b[95m 20.62   \u001b[0m | \u001b[95m 12.64   \u001b[0m | \u001b[95m 0.005888\u001b[0m | \u001b[95m 85.85   \u001b[0m |\n",
            "| \u001b[0m 5       \u001b[0m | \u001b[0m 0.9539  \u001b[0m | \u001b[0m 0.8134  \u001b[0m | \u001b[0m 0.7009  \u001b[0m | \u001b[0m 17.51   \u001b[0m | \u001b[0m 16.48   \u001b[0m | \u001b[0m 0.03705 \u001b[0m | \u001b[0m 83.04   \u001b[0m |\n",
            "| \u001b[0m 6       \u001b[0m | \u001b[0m 0.9529  \u001b[0m | \u001b[0m 0.8983  \u001b[0m | \u001b[0m 0.3464  \u001b[0m | \u001b[0m 24.09   \u001b[0m | \u001b[0m 24.98   \u001b[0m | \u001b[0m 0.0118  \u001b[0m | \u001b[0m 80.1    \u001b[0m |\n",
            "| \u001b[0m 7       \u001b[0m | \u001b[0m 0.9536  \u001b[0m | \u001b[0m 0.841   \u001b[0m | \u001b[0m 0.5558  \u001b[0m | \u001b[0m 24.15   \u001b[0m | \u001b[0m 10.31   \u001b[0m | \u001b[0m 0.0734  \u001b[0m | \u001b[0m 99.81   \u001b[0m |\n",
            "| \u001b[0m 8       \u001b[0m | \u001b[0m 0.9526  \u001b[0m | \u001b[0m 0.9433  \u001b[0m | \u001b[0m 0.3055  \u001b[0m | \u001b[0m 17.2    \u001b[0m | \u001b[0m 24.43   \u001b[0m | \u001b[0m 0.002452\u001b[0m | \u001b[0m 99.76   \u001b[0m |\n",
            "| \u001b[0m 9       \u001b[0m | \u001b[0m 0.954   \u001b[0m | \u001b[0m 0.8818  \u001b[0m | \u001b[0m 0.8689  \u001b[0m | \u001b[0m 23.54   \u001b[0m | \u001b[0m 10.13   \u001b[0m | \u001b[0m 0.02426 \u001b[0m | \u001b[0m 80.07   \u001b[0m |\n",
            "| \u001b[0m 10      \u001b[0m | \u001b[0m 0.9539  \u001b[0m | \u001b[0m 0.9595  \u001b[0m | \u001b[0m 0.6808  \u001b[0m | \u001b[0m 24.19   \u001b[0m | \u001b[0m 10.02   \u001b[0m | \u001b[0m 0.05993 \u001b[0m | \u001b[0m 80.18   \u001b[0m |\n",
            "| \u001b[0m 11      \u001b[0m | \u001b[0m 0.954   \u001b[0m | \u001b[0m 0.8457  \u001b[0m | \u001b[0m 0.738   \u001b[0m | \u001b[0m 17.01   \u001b[0m | \u001b[0m 10.25   \u001b[0m | \u001b[0m 0.02511 \u001b[0m | \u001b[0m 80.17   \u001b[0m |\n",
            "| \u001b[0m 12      \u001b[0m | \u001b[0m 0.9504  \u001b[0m | \u001b[0m 0.8778  \u001b[0m | \u001b[0m 0.2049  \u001b[0m | \u001b[0m 24.8    \u001b[0m | \u001b[0m 10.01   \u001b[0m | \u001b[0m 0.01741 \u001b[0m | \u001b[0m 99.96   \u001b[0m |\n",
            "| \u001b[0m 13      \u001b[0m | \u001b[0m 0.9539  \u001b[0m | \u001b[0m 0.9515  \u001b[0m | \u001b[0m 0.7673  \u001b[0m | \u001b[0m 17.21   \u001b[0m | \u001b[0m 24.71   \u001b[0m | \u001b[0m 0.01039 \u001b[0m | \u001b[0m 80.06   \u001b[0m |\n",
            "| \u001b[0m 14      \u001b[0m | \u001b[0m 0.9539  \u001b[0m | \u001b[0m 0.9675  \u001b[0m | \u001b[0m 0.761   \u001b[0m | \u001b[0m 24.96   \u001b[0m | \u001b[0m 24.69   \u001b[0m | \u001b[0m 0.04604 \u001b[0m | \u001b[0m 80.03   \u001b[0m |\n",
            "| \u001b[0m 15      \u001b[0m | \u001b[0m 0.9535  \u001b[0m | \u001b[0m 0.8044  \u001b[0m | \u001b[0m 0.4182  \u001b[0m | \u001b[0m 17.13   \u001b[0m | \u001b[0m 24.93   \u001b[0m | \u001b[0m 0.06541 \u001b[0m | \u001b[0m 80.16   \u001b[0m |\n",
            "=================================================================================================\n"
          ],
          "name": "stdout"
        }
      ]
    },
    {
      "cell_type": "code",
      "metadata": {
        "colab": {
          "base_uri": "https://localhost:8080/"
        },
        "id": "nabF6G7-Rvar",
        "outputId": "4bd14b14-4191-4e54-c254-2b6e1d2d2e0d"
      },
      "source": [
        "import lightgbm as lgb\r\n",
        "train_data=lgb.Dataset(X_train,label=Y_train)\r\n",
        "params = {'learning_rate':0.001,\r\n",
        "          'num_leaves': 85,\r\n",
        "            'feature_fraction': 0.6976,\r\n",
        "            'bagging_fraction': 0.8115,\r\n",
        "            'max_depth': 20,\r\n",
        "            'min_split_gain': 0.005888,\r\n",
        "            'min_child_weight': 12.64}\r\n",
        "model= lgb.train(params, train_data, 100)\r\n",
        "y_pred_lgb_hyp=model.predict(X_test)\r\n",
        "for i in range(0,185):\r\n",
        "   if y_pred_lgb_hyp[i]>=0.5:\r\n",
        "     y_pred_lgb_hyp[i]=1\r\n",
        "   else:\r\n",
        "     y_pred_lgb_hyp[i]=0\r\n",
        "from sklearn.metrics import mean_squared_error\r\n",
        "rmse_hyp=mean_squared_error(y_pred_lgb_hyp,Y_test)**0.5\r\n",
        "print('RMSE for LGB:',rmse_hyp)\r\n",
        "print(\"R2 score:\", r2_score(Y_test, y_pred_lgb_hyp))"
      ],
      "execution_count": 63,
      "outputs": [
        {
          "output_type": "stream",
          "text": [
            "RMSE for LGB: 1036510.2176777158\n",
            "R2 score: 0.02913915044167581\n"
          ],
          "name": "stdout"
        }
      ]
    },
    {
      "cell_type": "code",
      "metadata": {
        "id": "JB0AfkeTUZ0Y",
        "colab": {
          "base_uri": "https://localhost:8080/"
        },
        "outputId": "3dba496a-fc3d-4758-c6b3-ffd5809f1676"
      },
      "source": [
        "# automatic nested cross-validation for random forest on a regression dataset\r\n",
        "from numpy import mean\r\n",
        "from numpy import std\r\n",
        "from sklearn.datasets import make_regression\r\n",
        "from sklearn.model_selection import cross_val_score\r\n",
        "from sklearn.model_selection import KFold\r\n",
        "from sklearn.model_selection import GridSearchCV\r\n",
        "from sklearn.ensemble import RandomForestRegressor\r\n",
        "# create dataset\r\n",
        "#X, y = make_regression(n_samples=1000, n_features=20, random_state=1, n_informative=10, n_redundant=10)\r\n",
        "# configure the cross-validation procedure\r\n",
        "cv_inner = KFold(n_splits=3, shuffle=True, random_state=1)\r\n",
        "# define the model\r\n",
        "model = RandomForestRegressor(random_state=1)\r\n",
        "# define search space\r\n",
        "space = dict()\r\n",
        "space['n_estimators'] = [10, 100, 500]\r\n",
        "space['max_features'] = [2, 4, 6]\r\n",
        "# define search\r\n",
        "search = GridSearchCV(model, space, scoring='neg_mean_squared_error', n_jobs=1, cv=cv_inner, refit=True)\r\n",
        "# configure the cross-validation procedure\r\n",
        "cv_outer = KFold(n_splits=10, shuffle=True, random_state=1)\r\n",
        "# execute the nested cross-validation\r\n",
        "scores = cross_val_score(search, X, y, scoring='neg_mean_squared_error', cv=cv_outer, n_jobs=-1)\r\n",
        "\t# execute search\r\n",
        "result = search.fit(X_train, Y_train)\r\n",
        "\t# get the best performing model fit on the whole training set\r\n",
        "best_model = result.best_estimator_\r\n",
        "\t# evaluate model on the hold out dataset\r\n",
        "yhat = best_model.predict(X_test)\r\n",
        "\t# evaluate the model\r\n",
        "Rmse=np.sqrt(mean_squared_error(Y_test, yhat))\r\n",
        "\t# store the result\r\n",
        "outer_results=[]\r\n",
        "outer_results.append(Rmse)\r\n",
        "\t# report progress\r\n",
        "print('>RMSE=%.3f, est=%.3f, cfg=%s' % (Rmse, result.best_score_, result.best_params_))"
      ],
      "execution_count": 66,
      "outputs": [
        {
          "output_type": "stream",
          "text": [
            ">acc=242603.800, est=-34502311395.019, cfg={'max_features': 4, 'n_estimators': 500}\n",
            "Accuracy: 242603.800 (0.000)\n"
          ],
          "name": "stdout"
        }
      ]
    },
    {
      "cell_type": "code",
      "metadata": {
        "colab": {
          "base_uri": "https://localhost:8080/"
        },
        "id": "VKvGwU3tdfuf",
        "outputId": "c515e4a7-82b0-4f0e-ce52-f3368b3c1148"
      },
      "source": [
        "# automatic nested cross-validation for XGB regression dataset\r\n",
        "from numpy import mean\r\n",
        "from numpy import std\r\n",
        "from sklearn.datasets import make_regression\r\n",
        "from sklearn.model_selection import cross_val_score\r\n",
        "from sklearn.model_selection import KFold\r\n",
        "from sklearn.model_selection import GridSearchCV\r\n",
        "from xgboost import XGBRegressor \r\n",
        "# create dataset\r\n",
        "#X, y = make_regression(n_samples=1000, n_features=20, random_state=1, n_informative=10, n_redundant=10)\r\n",
        "# configure the cross-validation procedure\r\n",
        "cv_inner = KFold(n_splits=3, shuffle=True, random_state=1)\r\n",
        "# define the model\r\n",
        "model = XGBRegressor(random_state=1)\r\n",
        "# define search space\r\n",
        "space = dict()\r\n",
        "space['n_estimators'] = [10, 100, 500]\r\n",
        "space['max_features'] = [2, 4, 6]\r\n",
        "# define search\r\n",
        "search = GridSearchCV(model, space, scoring='neg_root_mean_squared_error', n_jobs=1, cv=cv_inner, refit=True)\r\n",
        "# configure the cross-validation procedure\r\n",
        "cv_outer = KFold(n_splits=10, shuffle=True, random_state=1)\r\n",
        "# execute the nested cross-validation\r\n",
        "scores = cross_val_score(search, X, y, scoring='neg_root_mean_squared_error', cv=cv_outer, n_jobs=-1)\r\n",
        "\t# execute search\r\n",
        "result = search.fit(X_train, Y_train)\r\n",
        "\t# get the best performing model fit on the whole training set\r\n",
        "best_model = result.best_estimator_\r\n",
        "\t# evaluate model on the hold out dataset\r\n",
        "yhat_xgb_nested = best_model.predict(X_test)\r\n",
        "\t# evaluate the model\r\n",
        "xgb_nested_Rmse=np.sqrt(mean_squared_error(Y_test, yhat_xgb_nested))\r\n",
        "\t# store the result\r\n",
        "outer_results=[]\r\n",
        "outer_results.append(xgb_nested_Rmse)\r\n",
        "\t# report progress\r\n",
        "print('>RMSE=%.3f, est=%.3f, cfg=%s' % (xgb_nested_Rmse, result.best_score_, result.best_params_))"
      ],
      "execution_count": 67,
      "outputs": [
        {
          "output_type": "stream",
          "text": [
            "[14:38:09] WARNING: /workspace/src/objective/regression_obj.cu:152: reg:linear is now deprecated in favor of reg:squarederror.\n",
            "[14:38:09] WARNING: /workspace/src/objective/regression_obj.cu:152: reg:linear is now deprecated in favor of reg:squarederror.\n",
            "[14:38:09] WARNING: /workspace/src/objective/regression_obj.cu:152: reg:linear is now deprecated in favor of reg:squarederror.\n",
            "[14:38:09] WARNING: /workspace/src/objective/regression_obj.cu:152: reg:linear is now deprecated in favor of reg:squarederror.\n",
            "[14:38:09] WARNING: /workspace/src/objective/regression_obj.cu:152: reg:linear is now deprecated in favor of reg:squarederror.\n",
            "[14:38:10] WARNING: /workspace/src/objective/regression_obj.cu:152: reg:linear is now deprecated in favor of reg:squarederror.\n",
            "[14:38:10] WARNING: /workspace/src/objective/regression_obj.cu:152: reg:linear is now deprecated in favor of reg:squarederror.\n",
            "[14:38:11] WARNING: /workspace/src/objective/regression_obj.cu:152: reg:linear is now deprecated in favor of reg:squarederror.\n",
            "[14:38:11] WARNING: /workspace/src/objective/regression_obj.cu:152: reg:linear is now deprecated in favor of reg:squarederror.\n",
            "[14:38:12] WARNING: /workspace/src/objective/regression_obj.cu:152: reg:linear is now deprecated in favor of reg:squarederror.\n",
            "[14:38:12] WARNING: /workspace/src/objective/regression_obj.cu:152: reg:linear is now deprecated in favor of reg:squarederror.\n",
            "[14:38:12] WARNING: /workspace/src/objective/regression_obj.cu:152: reg:linear is now deprecated in favor of reg:squarederror.\n",
            "[14:38:12] WARNING: /workspace/src/objective/regression_obj.cu:152: reg:linear is now deprecated in favor of reg:squarederror.\n",
            "[14:38:13] WARNING: /workspace/src/objective/regression_obj.cu:152: reg:linear is now deprecated in favor of reg:squarederror.\n",
            "[14:38:13] WARNING: /workspace/src/objective/regression_obj.cu:152: reg:linear is now deprecated in favor of reg:squarederror.\n",
            "[14:38:13] WARNING: /workspace/src/objective/regression_obj.cu:152: reg:linear is now deprecated in favor of reg:squarederror.\n",
            "[14:38:14] WARNING: /workspace/src/objective/regression_obj.cu:152: reg:linear is now deprecated in favor of reg:squarederror.\n",
            "[14:38:15] WARNING: /workspace/src/objective/regression_obj.cu:152: reg:linear is now deprecated in favor of reg:squarederror.\n",
            "[14:38:15] WARNING: /workspace/src/objective/regression_obj.cu:152: reg:linear is now deprecated in favor of reg:squarederror.\n",
            "[14:38:16] WARNING: /workspace/src/objective/regression_obj.cu:152: reg:linear is now deprecated in favor of reg:squarederror.\n",
            "[14:38:16] WARNING: /workspace/src/objective/regression_obj.cu:152: reg:linear is now deprecated in favor of reg:squarederror.\n",
            "[14:38:16] WARNING: /workspace/src/objective/regression_obj.cu:152: reg:linear is now deprecated in favor of reg:squarederror.\n",
            "[14:38:16] WARNING: /workspace/src/objective/regression_obj.cu:152: reg:linear is now deprecated in favor of reg:squarederror.\n",
            "[14:38:16] WARNING: /workspace/src/objective/regression_obj.cu:152: reg:linear is now deprecated in favor of reg:squarederror.\n",
            "[14:38:16] WARNING: /workspace/src/objective/regression_obj.cu:152: reg:linear is now deprecated in favor of reg:squarederror.\n",
            "[14:38:17] WARNING: /workspace/src/objective/regression_obj.cu:152: reg:linear is now deprecated in favor of reg:squarederror.\n",
            "[14:38:18] WARNING: /workspace/src/objective/regression_obj.cu:152: reg:linear is now deprecated in favor of reg:squarederror.\n",
            "[14:38:19] WARNING: /workspace/src/objective/regression_obj.cu:152: reg:linear is now deprecated in favor of reg:squarederror.\n",
            ">acc=253248.103, est=-192556.511, cfg={'max_features': 2, 'n_estimators': 100}\n",
            "Accuracy: 253248.103 (0.000)\n"
          ],
          "name": "stdout"
        }
      ]
    },
    {
      "cell_type": "code",
      "metadata": {
        "id": "Z9bcAghGx4O6",
        "outputId": "dadfbe73-e8a0-458f-a933-aa34bb52e2dd",
        "colab": {
          "base_uri": "https://localhost:8080/"
        }
      },
      "source": [
        "RMSE=[]\r\n",
        "RMSE.append(np.sqrt(mean_squared_error(Y_test, Y_pred_rf)))\r\n",
        "RMSE.append(np.sqrt(mean_squared_error(Y_test, Y_pred_rf_best)))\r\n",
        "RMSE.append(np.sqrt(mean_squared_error(Y_test, Y_pred_xgb)))\r\n",
        "RMSE.append(np.sqrt(mean_squared_error(Y_test, Y_pred_xgb_best)))\r\n",
        "RMSE.append(np.sqrt(mean_squared_error(Y_test, Y_pred_xgb_gscv_best)))\r\n",
        "RMSE.append(np.sqrt(mean_squared_error(Y_test, y_pred_lgb)))\r\n",
        "RMSE.append(np.sqrt(mean_squared_error(Y_test, y_pred_lgb_hyp)))\r\n",
        "RMSE.append(np.sqrt(mean_squared_error(Y_test, yhat)))\r\n",
        "RMSE.append(np.sqrt(mean_squared_error(Y_test, yhat_xgb_nested)))\r\n",
        "print(RMSE)"
      ],
      "execution_count": 68,
      "outputs": [
        {
          "output_type": "stream",
          "text": [
            "[249995.74167814225, 248288.61435372895, 253248.10291965344, 283568.35398670036, 253248.10291965344, 1033913.0812920444, 1036510.2176777158, 242603.80045630658, 253248.10291965344]\n"
          ],
          "name": "stdout"
        }
      ]
    },
    {
      "cell_type": "code",
      "metadata": {
        "id": "Zc35eOC8zS0x",
        "outputId": "1ef58df6-1915-47d7-b778-3c0fa30d195c",
        "colab": {
          "base_uri": "https://localhost:8080/"
        }
      },
      "source": [
        "R2=[]\r\n",
        "R2.append(r2_score(Y_test, Y_pred_rf))\r\n",
        "R2.append(r2_score(Y_test, Y_pred_rf_best))\r\n",
        "R2.append(r2_score(Y_test, Y_pred_xgb))\r\n",
        "R2.append(r2_score(Y_test, Y_pred_xgb_best))\r\n",
        "R2.append(r2_score(Y_test, Y_pred_xgb_gscv_best))\r\n",
        "R2.append(r2_score(Y_test, y_pred_lgb))\r\n",
        "R2.append(r2_score(Y_test, y_pred_lgb_hyp))\r\n",
        "R2.append(r2_score(Y_test, yhat))\r\n",
        "R2.append(r2_score(Y_test, yhat_xgb_nested))\r\n",
        "print(R2)"
      ],
      "execution_count": 69,
      "outputs": [
        {
          "output_type": "stream",
          "text": [
            "[0.9435225557759422, 0.9442912488697153, 0.9420434914526583, 0.9273349900071916, 0.9420434914526583, 0.03399833859756851, 0.02913915044167581, 0.9468130590082411, 0.9420434914526583]\n"
          ],
          "name": "stdout"
        }
      ]
    },
    {
      "cell_type": "markdown",
      "metadata": {
        "id": "1xadLJ_V8QvO"
      },
      "source": [
        "#### Will create a dataframe to hold the loss function values for different models"
      ]
    },
    {
      "cell_type": "code",
      "metadata": {
        "id": "y0zP6i4X0YR1"
      },
      "source": [
        "loss_fun_df = pd.DataFrame(RMSE, index =['Random Forest', 'Random Forest with Best Params from GridSearchCV', 'XGB Regressor', 'XGB Regressor with Best Params from RandomSearchCV','XGB Regressor with Best Params from GridSearchCV','Light Gradient Boost Regression','LGB With Best Params from Bayessian Optimization','RF with Nested K-Fold CV','XGB with Nested K-Fold CV'], \r\n",
        "                                              columns =['RMSE'])\r\n",
        "loss_fun_df['R-Square']=R2"
      ],
      "execution_count": 77,
      "outputs": []
    },
    {
      "cell_type": "markdown",
      "metadata": {
        "id": "-90XW9y78QzS"
      },
      "source": [
        "#### Find model with least RMSE Value"
      ]
    },
    {
      "cell_type": "code",
      "metadata": {
        "id": "z14FsvOK8G3e",
        "outputId": "e9b5d128-449e-4ac0-b500-34ded0f13b76",
        "colab": {
          "base_uri": "https://localhost:8080/",
          "height": 193
        }
      },
      "source": [
        "loss_fun_df.style.highlight_min(['RMSE'])"
      ],
      "execution_count": 79,
      "outputs": [
        {
          "output_type": "execute_result",
          "data": {
            "text/html": [
              "<style  type=\"text/css\" >\n",
              "#T_46319c62_790a_11eb_b581_0242ac1c0002row7_col0{\n",
              "            background-color:  yellow;\n",
              "        }</style><table id=\"T_46319c62_790a_11eb_b581_0242ac1c0002\" ><thead>    <tr>        <th class=\"blank level0\" ></th>        <th class=\"col_heading level0 col0\" >RMSE</th>        <th class=\"col_heading level0 col1\" >R-Square</th>    </tr></thead><tbody>\n",
              "                <tr>\n",
              "                        <th id=\"T_46319c62_790a_11eb_b581_0242ac1c0002level0_row0\" class=\"row_heading level0 row0\" >Random Forest</th>\n",
              "                        <td id=\"T_46319c62_790a_11eb_b581_0242ac1c0002row0_col0\" class=\"data row0 col0\" >249995.741678</td>\n",
              "                        <td id=\"T_46319c62_790a_11eb_b581_0242ac1c0002row0_col1\" class=\"data row0 col1\" >0.943523</td>\n",
              "            </tr>\n",
              "            <tr>\n",
              "                        <th id=\"T_46319c62_790a_11eb_b581_0242ac1c0002level0_row1\" class=\"row_heading level0 row1\" >Random Forest with Best Params from GridSearchCV</th>\n",
              "                        <td id=\"T_46319c62_790a_11eb_b581_0242ac1c0002row1_col0\" class=\"data row1 col0\" >248288.614354</td>\n",
              "                        <td id=\"T_46319c62_790a_11eb_b581_0242ac1c0002row1_col1\" class=\"data row1 col1\" >0.944291</td>\n",
              "            </tr>\n",
              "            <tr>\n",
              "                        <th id=\"T_46319c62_790a_11eb_b581_0242ac1c0002level0_row2\" class=\"row_heading level0 row2\" >XGB Regressor</th>\n",
              "                        <td id=\"T_46319c62_790a_11eb_b581_0242ac1c0002row2_col0\" class=\"data row2 col0\" >253248.102920</td>\n",
              "                        <td id=\"T_46319c62_790a_11eb_b581_0242ac1c0002row2_col1\" class=\"data row2 col1\" >0.942043</td>\n",
              "            </tr>\n",
              "            <tr>\n",
              "                        <th id=\"T_46319c62_790a_11eb_b581_0242ac1c0002level0_row3\" class=\"row_heading level0 row3\" >XGB Regressor with Best Params from RandomSearchCV</th>\n",
              "                        <td id=\"T_46319c62_790a_11eb_b581_0242ac1c0002row3_col0\" class=\"data row3 col0\" >283568.353987</td>\n",
              "                        <td id=\"T_46319c62_790a_11eb_b581_0242ac1c0002row3_col1\" class=\"data row3 col1\" >0.927335</td>\n",
              "            </tr>\n",
              "            <tr>\n",
              "                        <th id=\"T_46319c62_790a_11eb_b581_0242ac1c0002level0_row4\" class=\"row_heading level0 row4\" >XGB Regressor with Best Params from GridSearchCV</th>\n",
              "                        <td id=\"T_46319c62_790a_11eb_b581_0242ac1c0002row4_col0\" class=\"data row4 col0\" >253248.102920</td>\n",
              "                        <td id=\"T_46319c62_790a_11eb_b581_0242ac1c0002row4_col1\" class=\"data row4 col1\" >0.942043</td>\n",
              "            </tr>\n",
              "            <tr>\n",
              "                        <th id=\"T_46319c62_790a_11eb_b581_0242ac1c0002level0_row5\" class=\"row_heading level0 row5\" >Light Gradient Boost Regression</th>\n",
              "                        <td id=\"T_46319c62_790a_11eb_b581_0242ac1c0002row5_col0\" class=\"data row5 col0\" >1033913.081292</td>\n",
              "                        <td id=\"T_46319c62_790a_11eb_b581_0242ac1c0002row5_col1\" class=\"data row5 col1\" >0.033998</td>\n",
              "            </tr>\n",
              "            <tr>\n",
              "                        <th id=\"T_46319c62_790a_11eb_b581_0242ac1c0002level0_row6\" class=\"row_heading level0 row6\" >LGB With Best Params from Bayessian Optimization</th>\n",
              "                        <td id=\"T_46319c62_790a_11eb_b581_0242ac1c0002row6_col0\" class=\"data row6 col0\" >1036510.217678</td>\n",
              "                        <td id=\"T_46319c62_790a_11eb_b581_0242ac1c0002row6_col1\" class=\"data row6 col1\" >0.029139</td>\n",
              "            </tr>\n",
              "            <tr>\n",
              "                        <th id=\"T_46319c62_790a_11eb_b581_0242ac1c0002level0_row7\" class=\"row_heading level0 row7\" >RF with Nested K-Fold CV</th>\n",
              "                        <td id=\"T_46319c62_790a_11eb_b581_0242ac1c0002row7_col0\" class=\"data row7 col0\" >242603.800456</td>\n",
              "                        <td id=\"T_46319c62_790a_11eb_b581_0242ac1c0002row7_col1\" class=\"data row7 col1\" >0.946813</td>\n",
              "            </tr>\n",
              "            <tr>\n",
              "                        <th id=\"T_46319c62_790a_11eb_b581_0242ac1c0002level0_row8\" class=\"row_heading level0 row8\" >XGB with Nested K-Fold CV</th>\n",
              "                        <td id=\"T_46319c62_790a_11eb_b581_0242ac1c0002row8_col0\" class=\"data row8 col0\" >253248.102920</td>\n",
              "                        <td id=\"T_46319c62_790a_11eb_b581_0242ac1c0002row8_col1\" class=\"data row8 col1\" >0.942043</td>\n",
              "            </tr>\n",
              "    </tbody></table>"
            ],
            "text/plain": [
              "<pandas.io.formats.style.Styler at 0x7fa99343ee50>"
            ]
          },
          "metadata": {
            "tags": []
          },
          "execution_count": 79
        }
      ]
    },
    {
      "cell_type": "markdown",
      "metadata": {
        "id": "-0TFvi_88nLV"
      },
      "source": [
        "#### Find model with max R-Square value"
      ]
    },
    {
      "cell_type": "code",
      "metadata": {
        "id": "a_0xvuyK8G6-",
        "outputId": "d9fddd00-7c5f-4b5d-e5db-b04695e381f2",
        "colab": {
          "base_uri": "https://localhost:8080/",
          "height": 193
        }
      },
      "source": [
        "loss_fun_df.style.highlight_max(['R-Square'])"
      ],
      "execution_count": 76,
      "outputs": [
        {
          "output_type": "execute_result",
          "data": {
            "text/html": [
              "<style  type=\"text/css\" >\n",
              "#T_fb34f074_7909_11eb_b581_0242ac1c0002row7_col1{\n",
              "            background-color:  yellow;\n",
              "        }</style><table id=\"T_fb34f074_7909_11eb_b581_0242ac1c0002\" ><thead>    <tr>        <th class=\"blank level0\" ></th>        <th class=\"col_heading level0 col0\" >RMSE</th>        <th class=\"col_heading level0 col1\" >R-Square</th>    </tr></thead><tbody>\n",
              "                <tr>\n",
              "                        <th id=\"T_fb34f074_7909_11eb_b581_0242ac1c0002level0_row0\" class=\"row_heading level0 row0\" >Random Forest</th>\n",
              "                        <td id=\"T_fb34f074_7909_11eb_b581_0242ac1c0002row0_col0\" class=\"data row0 col0\" >249995.741678</td>\n",
              "                        <td id=\"T_fb34f074_7909_11eb_b581_0242ac1c0002row0_col1\" class=\"data row0 col1\" >0.943523</td>\n",
              "            </tr>\n",
              "            <tr>\n",
              "                        <th id=\"T_fb34f074_7909_11eb_b581_0242ac1c0002level0_row1\" class=\"row_heading level0 row1\" >Random Forest with Best Params from GridSearchCV</th>\n",
              "                        <td id=\"T_fb34f074_7909_11eb_b581_0242ac1c0002row1_col0\" class=\"data row1 col0\" >248288.614354</td>\n",
              "                        <td id=\"T_fb34f074_7909_11eb_b581_0242ac1c0002row1_col1\" class=\"data row1 col1\" >0.944291</td>\n",
              "            </tr>\n",
              "            <tr>\n",
              "                        <th id=\"T_fb34f074_7909_11eb_b581_0242ac1c0002level0_row2\" class=\"row_heading level0 row2\" >XGB Regressor</th>\n",
              "                        <td id=\"T_fb34f074_7909_11eb_b581_0242ac1c0002row2_col0\" class=\"data row2 col0\" >253248.102920</td>\n",
              "                        <td id=\"T_fb34f074_7909_11eb_b581_0242ac1c0002row2_col1\" class=\"data row2 col1\" >0.942043</td>\n",
              "            </tr>\n",
              "            <tr>\n",
              "                        <th id=\"T_fb34f074_7909_11eb_b581_0242ac1c0002level0_row3\" class=\"row_heading level0 row3\" >XGB Regressor with Best Params from RandomSearchCV</th>\n",
              "                        <td id=\"T_fb34f074_7909_11eb_b581_0242ac1c0002row3_col0\" class=\"data row3 col0\" >283568.353987</td>\n",
              "                        <td id=\"T_fb34f074_7909_11eb_b581_0242ac1c0002row3_col1\" class=\"data row3 col1\" >0.927335</td>\n",
              "            </tr>\n",
              "            <tr>\n",
              "                        <th id=\"T_fb34f074_7909_11eb_b581_0242ac1c0002level0_row4\" class=\"row_heading level0 row4\" >XGB Regressor with Best Params from GridSearchCV</th>\n",
              "                        <td id=\"T_fb34f074_7909_11eb_b581_0242ac1c0002row4_col0\" class=\"data row4 col0\" >253248.102920</td>\n",
              "                        <td id=\"T_fb34f074_7909_11eb_b581_0242ac1c0002row4_col1\" class=\"data row4 col1\" >0.942043</td>\n",
              "            </tr>\n",
              "            <tr>\n",
              "                        <th id=\"T_fb34f074_7909_11eb_b581_0242ac1c0002level0_row5\" class=\"row_heading level0 row5\" >Light Gradient Boost Regression</th>\n",
              "                        <td id=\"T_fb34f074_7909_11eb_b581_0242ac1c0002row5_col0\" class=\"data row5 col0\" >1033913.081292</td>\n",
              "                        <td id=\"T_fb34f074_7909_11eb_b581_0242ac1c0002row5_col1\" class=\"data row5 col1\" >0.033998</td>\n",
              "            </tr>\n",
              "            <tr>\n",
              "                        <th id=\"T_fb34f074_7909_11eb_b581_0242ac1c0002level0_row6\" class=\"row_heading level0 row6\" >LGB With Best Params from Bayessian Optimization</th>\n",
              "                        <td id=\"T_fb34f074_7909_11eb_b581_0242ac1c0002row6_col0\" class=\"data row6 col0\" >1036510.217678</td>\n",
              "                        <td id=\"T_fb34f074_7909_11eb_b581_0242ac1c0002row6_col1\" class=\"data row6 col1\" >0.029139</td>\n",
              "            </tr>\n",
              "            <tr>\n",
              "                        <th id=\"T_fb34f074_7909_11eb_b581_0242ac1c0002level0_row7\" class=\"row_heading level0 row7\" >RF with Nested K-Fold CV</th>\n",
              "                        <td id=\"T_fb34f074_7909_11eb_b581_0242ac1c0002row7_col0\" class=\"data row7 col0\" >242603.800456</td>\n",
              "                        <td id=\"T_fb34f074_7909_11eb_b581_0242ac1c0002row7_col1\" class=\"data row7 col1\" >0.946813</td>\n",
              "            </tr>\n",
              "            <tr>\n",
              "                        <th id=\"T_fb34f074_7909_11eb_b581_0242ac1c0002level0_row8\" class=\"row_heading level0 row8\" >XGB with Nested K-Fold CV</th>\n",
              "                        <td id=\"T_fb34f074_7909_11eb_b581_0242ac1c0002row8_col0\" class=\"data row8 col0\" >253248.102920</td>\n",
              "                        <td id=\"T_fb34f074_7909_11eb_b581_0242ac1c0002row8_col1\" class=\"data row8 col1\" >0.942043</td>\n",
              "            </tr>\n",
              "    </tbody></table>"
            ],
            "text/plain": [
              "<pandas.io.formats.style.Styler at 0x7fa99312e450>"
            ]
          },
          "metadata": {
            "tags": []
          },
          "execution_count": 76
        }
      ]
    },
    {
      "cell_type": "markdown",
      "metadata": {
        "id": "7GWRxzZ2TCFW"
      },
      "source": [
        "# **Conclusion**:\r\n",
        "#### * From the above we can say that Random Forest with Hyperparameter tuning using Nested K-Fold Cross Validation resulted in less RMSE and better R2 Score\r\n",
        "#### * So, we can consider Random Forest Regressor with Nested K-Fold CrossValidation as our best model."
      ]
    }
  ]
}