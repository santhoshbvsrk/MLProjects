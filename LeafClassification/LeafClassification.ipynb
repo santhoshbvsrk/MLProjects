{
  "nbformat": 4,
  "nbformat_minor": 0,
  "metadata": {
    "colab": {
      "name": "LeafClassification.ipynb",
      "provenance": [],
      "collapsed_sections": [],
      "authorship_tag": "ABX9TyMKCp8LvZYhwmvNiN6let9X",
      "include_colab_link": true
    },
    "kernelspec": {
      "name": "python3",
      "display_name": "Python 3"
    }
  },
  "cells": [
    {
      "cell_type": "markdown",
      "metadata": {
        "id": "view-in-github",
        "colab_type": "text"
      },
      "source": [
        "<a href=\"https://colab.research.google.com/github/santhoshbvsrk/Machine-Learning-Projects/blob/main/LeafClassification/LeafClassification.ipynb\" target=\"_parent\"><img src=\"https://colab.research.google.com/assets/colab-badge.svg\" alt=\"Open In Colab\"/></a>"
      ]
    },
    {
      "cell_type": "code",
      "metadata": {
        "id": "5kjGvK8sukUB"
      },
      "source": [
        "import pandas as pd\r\n",
        "import numpy as np"
      ],
      "execution_count": 1,
      "outputs": []
    },
    {
      "cell_type": "code",
      "metadata": {
        "colab": {
          "base_uri": "https://localhost:8080/",
          "height": 181
        },
        "id": "bC-YQJhYupLO",
        "outputId": "6ccd52f6-d9fb-4d98-f578-90731ac7fe94"
      },
      "source": [
        "url=\"https://raw.githubusercontent.com/santhoshbvsrk/Machine-Learning-Projects/main/LeafClassification/leaf_train.csv\"\r\n",
        "leaf_df=pd.read_csv(url)\r\n",
        "leaf_df.head(3)"
      ],
      "execution_count": 2,
      "outputs": [
        {
          "output_type": "execute_result",
          "data": {
            "text/html": [
              "<div>\n",
              "<style scoped>\n",
              "    .dataframe tbody tr th:only-of-type {\n",
              "        vertical-align: middle;\n",
              "    }\n",
              "\n",
              "    .dataframe tbody tr th {\n",
              "        vertical-align: top;\n",
              "    }\n",
              "\n",
              "    .dataframe thead th {\n",
              "        text-align: right;\n",
              "    }\n",
              "</style>\n",
              "<table border=\"1\" class=\"dataframe\">\n",
              "  <thead>\n",
              "    <tr style=\"text-align: right;\">\n",
              "      <th></th>\n",
              "      <th>id</th>\n",
              "      <th>species</th>\n",
              "      <th>margin1</th>\n",
              "      <th>margin2</th>\n",
              "      <th>margin3</th>\n",
              "      <th>margin4</th>\n",
              "      <th>margin5</th>\n",
              "      <th>margin6</th>\n",
              "      <th>margin7</th>\n",
              "      <th>margin8</th>\n",
              "      <th>margin9</th>\n",
              "      <th>margin10</th>\n",
              "      <th>margin11</th>\n",
              "      <th>margin12</th>\n",
              "      <th>margin13</th>\n",
              "      <th>margin14</th>\n",
              "      <th>margin15</th>\n",
              "      <th>margin16</th>\n",
              "      <th>margin17</th>\n",
              "      <th>margin18</th>\n",
              "      <th>margin19</th>\n",
              "      <th>margin20</th>\n",
              "      <th>margin21</th>\n",
              "      <th>margin22</th>\n",
              "      <th>margin23</th>\n",
              "      <th>margin24</th>\n",
              "      <th>margin25</th>\n",
              "      <th>margin26</th>\n",
              "      <th>margin27</th>\n",
              "      <th>margin28</th>\n",
              "      <th>margin29</th>\n",
              "      <th>margin30</th>\n",
              "      <th>margin31</th>\n",
              "      <th>margin32</th>\n",
              "      <th>margin33</th>\n",
              "      <th>margin34</th>\n",
              "      <th>margin35</th>\n",
              "      <th>margin36</th>\n",
              "      <th>margin37</th>\n",
              "      <th>margin38</th>\n",
              "      <th>...</th>\n",
              "      <th>texture25</th>\n",
              "      <th>texture26</th>\n",
              "      <th>texture27</th>\n",
              "      <th>texture28</th>\n",
              "      <th>texture29</th>\n",
              "      <th>texture30</th>\n",
              "      <th>texture31</th>\n",
              "      <th>texture32</th>\n",
              "      <th>texture33</th>\n",
              "      <th>texture34</th>\n",
              "      <th>texture35</th>\n",
              "      <th>texture36</th>\n",
              "      <th>texture37</th>\n",
              "      <th>texture38</th>\n",
              "      <th>texture39</th>\n",
              "      <th>texture40</th>\n",
              "      <th>texture41</th>\n",
              "      <th>texture42</th>\n",
              "      <th>texture43</th>\n",
              "      <th>texture44</th>\n",
              "      <th>texture45</th>\n",
              "      <th>texture46</th>\n",
              "      <th>texture47</th>\n",
              "      <th>texture48</th>\n",
              "      <th>texture49</th>\n",
              "      <th>texture50</th>\n",
              "      <th>texture51</th>\n",
              "      <th>texture52</th>\n",
              "      <th>texture53</th>\n",
              "      <th>texture54</th>\n",
              "      <th>texture55</th>\n",
              "      <th>texture56</th>\n",
              "      <th>texture57</th>\n",
              "      <th>texture58</th>\n",
              "      <th>texture59</th>\n",
              "      <th>texture60</th>\n",
              "      <th>texture61</th>\n",
              "      <th>texture62</th>\n",
              "      <th>texture63</th>\n",
              "      <th>texture64</th>\n",
              "    </tr>\n",
              "  </thead>\n",
              "  <tbody>\n",
              "    <tr>\n",
              "      <th>0</th>\n",
              "      <td>1</td>\n",
              "      <td>Acer_Opalus</td>\n",
              "      <td>0.007812</td>\n",
              "      <td>0.023438</td>\n",
              "      <td>0.023438</td>\n",
              "      <td>0.003906</td>\n",
              "      <td>0.011719</td>\n",
              "      <td>0.009766</td>\n",
              "      <td>0.027344</td>\n",
              "      <td>0.0</td>\n",
              "      <td>0.001953</td>\n",
              "      <td>0.033203</td>\n",
              "      <td>0.013672</td>\n",
              "      <td>0.019531</td>\n",
              "      <td>0.066406</td>\n",
              "      <td>0.000000</td>\n",
              "      <td>0.029297</td>\n",
              "      <td>0.0</td>\n",
              "      <td>0.031250</td>\n",
              "      <td>0.011719</td>\n",
              "      <td>0.000000</td>\n",
              "      <td>0.025391</td>\n",
              "      <td>0.023438</td>\n",
              "      <td>0.001953</td>\n",
              "      <td>0.0</td>\n",
              "      <td>0.015625</td>\n",
              "      <td>0.000000</td>\n",
              "      <td>0.031250</td>\n",
              "      <td>0.000000</td>\n",
              "      <td>0.013672</td>\n",
              "      <td>0.029297</td>\n",
              "      <td>0.015625</td>\n",
              "      <td>0.011719</td>\n",
              "      <td>0.003906</td>\n",
              "      <td>0.025391</td>\n",
              "      <td>0.000000</td>\n",
              "      <td>0.001953</td>\n",
              "      <td>0.011719</td>\n",
              "      <td>0.009766</td>\n",
              "      <td>0.041016</td>\n",
              "      <td>...</td>\n",
              "      <td>0.008789</td>\n",
              "      <td>0.015625</td>\n",
              "      <td>0.044922</td>\n",
              "      <td>0.000000</td>\n",
              "      <td>0.037109</td>\n",
              "      <td>0.012695</td>\n",
              "      <td>0.028320</td>\n",
              "      <td>0.0</td>\n",
              "      <td>0.019531</td>\n",
              "      <td>0.026367</td>\n",
              "      <td>0.005859</td>\n",
              "      <td>0.0</td>\n",
              "      <td>0.004883</td>\n",
              "      <td>0.016602</td>\n",
              "      <td>0.034180</td>\n",
              "      <td>0.056641</td>\n",
              "      <td>0.006836</td>\n",
              "      <td>0.000977</td>\n",
              "      <td>0.022461</td>\n",
              "      <td>0.037109</td>\n",
              "      <td>0.004883</td>\n",
              "      <td>0.021484</td>\n",
              "      <td>0.035156</td>\n",
              "      <td>0.000977</td>\n",
              "      <td>0.004883</td>\n",
              "      <td>0.015625</td>\n",
              "      <td>0.0</td>\n",
              "      <td>0.0</td>\n",
              "      <td>0.006836</td>\n",
              "      <td>0.037109</td>\n",
              "      <td>0.007812</td>\n",
              "      <td>0.0</td>\n",
              "      <td>0.002930</td>\n",
              "      <td>0.002930</td>\n",
              "      <td>0.035156</td>\n",
              "      <td>0.0</td>\n",
              "      <td>0.0</td>\n",
              "      <td>0.004883</td>\n",
              "      <td>0.000000</td>\n",
              "      <td>0.025391</td>\n",
              "    </tr>\n",
              "    <tr>\n",
              "      <th>1</th>\n",
              "      <td>2</td>\n",
              "      <td>Pterocarya_Stenoptera</td>\n",
              "      <td>0.005859</td>\n",
              "      <td>0.000000</td>\n",
              "      <td>0.031250</td>\n",
              "      <td>0.015625</td>\n",
              "      <td>0.025391</td>\n",
              "      <td>0.001953</td>\n",
              "      <td>0.019531</td>\n",
              "      <td>0.0</td>\n",
              "      <td>0.000000</td>\n",
              "      <td>0.007812</td>\n",
              "      <td>0.003906</td>\n",
              "      <td>0.027344</td>\n",
              "      <td>0.023438</td>\n",
              "      <td>0.000000</td>\n",
              "      <td>0.033203</td>\n",
              "      <td>0.0</td>\n",
              "      <td>0.009766</td>\n",
              "      <td>0.009766</td>\n",
              "      <td>0.007812</td>\n",
              "      <td>0.007812</td>\n",
              "      <td>0.019531</td>\n",
              "      <td>0.007812</td>\n",
              "      <td>0.0</td>\n",
              "      <td>0.000000</td>\n",
              "      <td>0.007812</td>\n",
              "      <td>0.027344</td>\n",
              "      <td>0.003906</td>\n",
              "      <td>0.037109</td>\n",
              "      <td>0.007812</td>\n",
              "      <td>0.048828</td>\n",
              "      <td>0.054688</td>\n",
              "      <td>0.027344</td>\n",
              "      <td>0.003906</td>\n",
              "      <td>0.000000</td>\n",
              "      <td>0.000000</td>\n",
              "      <td>0.003906</td>\n",
              "      <td>0.013672</td>\n",
              "      <td>0.033203</td>\n",
              "      <td>...</td>\n",
              "      <td>0.050781</td>\n",
              "      <td>0.001953</td>\n",
              "      <td>0.021484</td>\n",
              "      <td>0.003906</td>\n",
              "      <td>0.027344</td>\n",
              "      <td>0.023438</td>\n",
              "      <td>0.062500</td>\n",
              "      <td>0.0</td>\n",
              "      <td>0.038086</td>\n",
              "      <td>0.000000</td>\n",
              "      <td>0.019531</td>\n",
              "      <td>0.0</td>\n",
              "      <td>0.001953</td>\n",
              "      <td>0.003906</td>\n",
              "      <td>0.015625</td>\n",
              "      <td>0.004883</td>\n",
              "      <td>0.104490</td>\n",
              "      <td>0.000000</td>\n",
              "      <td>0.061523</td>\n",
              "      <td>0.007812</td>\n",
              "      <td>0.008789</td>\n",
              "      <td>0.013672</td>\n",
              "      <td>0.011719</td>\n",
              "      <td>0.001953</td>\n",
              "      <td>0.035156</td>\n",
              "      <td>0.007812</td>\n",
              "      <td>0.0</td>\n",
              "      <td>0.0</td>\n",
              "      <td>0.053711</td>\n",
              "      <td>0.036133</td>\n",
              "      <td>0.000977</td>\n",
              "      <td>0.0</td>\n",
              "      <td>0.000000</td>\n",
              "      <td>0.000977</td>\n",
              "      <td>0.023438</td>\n",
              "      <td>0.0</td>\n",
              "      <td>0.0</td>\n",
              "      <td>0.000977</td>\n",
              "      <td>0.039062</td>\n",
              "      <td>0.022461</td>\n",
              "    </tr>\n",
              "    <tr>\n",
              "      <th>2</th>\n",
              "      <td>3</td>\n",
              "      <td>Quercus_Hartwissiana</td>\n",
              "      <td>0.005859</td>\n",
              "      <td>0.009766</td>\n",
              "      <td>0.019531</td>\n",
              "      <td>0.007812</td>\n",
              "      <td>0.003906</td>\n",
              "      <td>0.005859</td>\n",
              "      <td>0.068359</td>\n",
              "      <td>0.0</td>\n",
              "      <td>0.000000</td>\n",
              "      <td>0.044922</td>\n",
              "      <td>0.007812</td>\n",
              "      <td>0.011719</td>\n",
              "      <td>0.021484</td>\n",
              "      <td>0.001953</td>\n",
              "      <td>0.025391</td>\n",
              "      <td>0.0</td>\n",
              "      <td>0.009766</td>\n",
              "      <td>0.011719</td>\n",
              "      <td>0.007812</td>\n",
              "      <td>0.005859</td>\n",
              "      <td>0.041016</td>\n",
              "      <td>0.001953</td>\n",
              "      <td>0.0</td>\n",
              "      <td>0.015625</td>\n",
              "      <td>0.000000</td>\n",
              "      <td>0.009766</td>\n",
              "      <td>0.001953</td>\n",
              "      <td>0.009766</td>\n",
              "      <td>0.009766</td>\n",
              "      <td>0.015625</td>\n",
              "      <td>0.005859</td>\n",
              "      <td>0.000000</td>\n",
              "      <td>0.017578</td>\n",
              "      <td>0.007812</td>\n",
              "      <td>0.005859</td>\n",
              "      <td>0.009766</td>\n",
              "      <td>0.019531</td>\n",
              "      <td>0.042969</td>\n",
              "      <td>...</td>\n",
              "      <td>0.000977</td>\n",
              "      <td>0.000000</td>\n",
              "      <td>0.000977</td>\n",
              "      <td>0.003906</td>\n",
              "      <td>0.035156</td>\n",
              "      <td>0.015625</td>\n",
              "      <td>0.027344</td>\n",
              "      <td>0.0</td>\n",
              "      <td>0.000000</td>\n",
              "      <td>0.008789</td>\n",
              "      <td>0.015625</td>\n",
              "      <td>0.0</td>\n",
              "      <td>0.000000</td>\n",
              "      <td>0.011719</td>\n",
              "      <td>0.000977</td>\n",
              "      <td>0.000977</td>\n",
              "      <td>0.000000</td>\n",
              "      <td>0.000000</td>\n",
              "      <td>0.000000</td>\n",
              "      <td>0.005859</td>\n",
              "      <td>0.022461</td>\n",
              "      <td>0.020508</td>\n",
              "      <td>0.021484</td>\n",
              "      <td>0.056641</td>\n",
              "      <td>0.010742</td>\n",
              "      <td>0.008789</td>\n",
              "      <td>0.0</td>\n",
              "      <td>0.0</td>\n",
              "      <td>0.000977</td>\n",
              "      <td>0.000000</td>\n",
              "      <td>0.154300</td>\n",
              "      <td>0.0</td>\n",
              "      <td>0.005859</td>\n",
              "      <td>0.000977</td>\n",
              "      <td>0.007812</td>\n",
              "      <td>0.0</td>\n",
              "      <td>0.0</td>\n",
              "      <td>0.000000</td>\n",
              "      <td>0.020508</td>\n",
              "      <td>0.002930</td>\n",
              "    </tr>\n",
              "  </tbody>\n",
              "</table>\n",
              "<p>3 rows × 194 columns</p>\n",
              "</div>"
            ],
            "text/plain": [
              "   id                species   margin1  ...  texture62  texture63  texture64\n",
              "0   1            Acer_Opalus  0.007812  ...   0.004883   0.000000   0.025391\n",
              "1   2  Pterocarya_Stenoptera  0.005859  ...   0.000977   0.039062   0.022461\n",
              "2   3   Quercus_Hartwissiana  0.005859  ...   0.000000   0.020508   0.002930\n",
              "\n",
              "[3 rows x 194 columns]"
            ]
          },
          "metadata": {
            "tags": []
          },
          "execution_count": 2
        }
      ]
    },
    {
      "cell_type": "code",
      "metadata": {
        "colab": {
          "base_uri": "https://localhost:8080/"
        },
        "id": "joOaXZ9wwL5H",
        "outputId": "9c3d199d-5236-478b-caee-db72396aa64e"
      },
      "source": [
        "#identifying missing values in the dataset\r\n",
        "missing_df=leaf_df.isna().mean().round(4)*100 \r\n",
        "missing_df[missing_df>0]"
      ],
      "execution_count": 3,
      "outputs": [
        {
          "output_type": "execute_result",
          "data": {
            "text/plain": [
              "Series([], dtype: float64)"
            ]
          },
          "metadata": {
            "tags": []
          },
          "execution_count": 3
        }
      ]
    },
    {
      "cell_type": "markdown",
      "metadata": {
        "id": "B-FsPmfzxOC1"
      },
      "source": [
        "* From this we can say that there are no missing values in dataset"
      ]
    },
    {
      "cell_type": "code",
      "metadata": {
        "colab": {
          "base_uri": "https://localhost:8080/"
        },
        "id": "5XROgvvsxUCk",
        "outputId": "b0a8adb8-a2f6-4af5-916e-dd0591bbe12b"
      },
      "source": [
        "categorical_features=leaf_df.select_dtypes(include=\"object\").columns\r\n",
        "print(\"Categorical Features are:\",categorical_features)\r\n",
        "\r\n",
        "integer_features=leaf_df.select_dtypes(include=\"int\").columns\r\n",
        "print(\"Integer Features are:\",integer_features)\r\n",
        "\r\n",
        "float_features=leaf_df.select_dtypes(include=\"float\").columns\r\n",
        "print(\"Decimal Features are:\",float_features)"
      ],
      "execution_count": 4,
      "outputs": [
        {
          "output_type": "stream",
          "text": [
            "Categorical Features are: Index(['species'], dtype='object')\n",
            "Integer Features are: Index(['id'], dtype='object')\n",
            "Decimal Features are: Index(['margin1', 'margin2', 'margin3', 'margin4', 'margin5', 'margin6',\n",
            "       'margin7', 'margin8', 'margin9', 'margin10',\n",
            "       ...\n",
            "       'texture55', 'texture56', 'texture57', 'texture58', 'texture59',\n",
            "       'texture60', 'texture61', 'texture62', 'texture63', 'texture64'],\n",
            "      dtype='object', length=192)\n"
          ],
          "name": "stdout"
        }
      ]
    },
    {
      "cell_type": "markdown",
      "metadata": {
        "id": "gXKS45lnysWY"
      },
      "source": [
        "* There is only one Categorical column \"species\" which is our target variable.\r\n",
        "* All Features in the dataset are float values except for \"id\" feature."
      ]
    },
    {
      "cell_type": "code",
      "metadata": {
        "colab": {
          "base_uri": "https://localhost:8080/",
          "height": 95
        },
        "id": "pCzFtmE6y-3M",
        "outputId": "88b4ae24-a17a-4798-9205-2d398afacb61"
      },
      "source": [
        "leaf_df[leaf_df.duplicated(subset='id')]"
      ],
      "execution_count": 5,
      "outputs": [
        {
          "output_type": "execute_result",
          "data": {
            "text/html": [
              "<div>\n",
              "<style scoped>\n",
              "    .dataframe tbody tr th:only-of-type {\n",
              "        vertical-align: middle;\n",
              "    }\n",
              "\n",
              "    .dataframe tbody tr th {\n",
              "        vertical-align: top;\n",
              "    }\n",
              "\n",
              "    .dataframe thead th {\n",
              "        text-align: right;\n",
              "    }\n",
              "</style>\n",
              "<table border=\"1\" class=\"dataframe\">\n",
              "  <thead>\n",
              "    <tr style=\"text-align: right;\">\n",
              "      <th></th>\n",
              "      <th>id</th>\n",
              "      <th>species</th>\n",
              "      <th>margin1</th>\n",
              "      <th>margin2</th>\n",
              "      <th>margin3</th>\n",
              "      <th>margin4</th>\n",
              "      <th>margin5</th>\n",
              "      <th>margin6</th>\n",
              "      <th>margin7</th>\n",
              "      <th>margin8</th>\n",
              "      <th>margin9</th>\n",
              "      <th>margin10</th>\n",
              "      <th>margin11</th>\n",
              "      <th>margin12</th>\n",
              "      <th>margin13</th>\n",
              "      <th>margin14</th>\n",
              "      <th>margin15</th>\n",
              "      <th>margin16</th>\n",
              "      <th>margin17</th>\n",
              "      <th>margin18</th>\n",
              "      <th>margin19</th>\n",
              "      <th>margin20</th>\n",
              "      <th>margin21</th>\n",
              "      <th>margin22</th>\n",
              "      <th>margin23</th>\n",
              "      <th>margin24</th>\n",
              "      <th>margin25</th>\n",
              "      <th>margin26</th>\n",
              "      <th>margin27</th>\n",
              "      <th>margin28</th>\n",
              "      <th>margin29</th>\n",
              "      <th>margin30</th>\n",
              "      <th>margin31</th>\n",
              "      <th>margin32</th>\n",
              "      <th>margin33</th>\n",
              "      <th>margin34</th>\n",
              "      <th>margin35</th>\n",
              "      <th>margin36</th>\n",
              "      <th>margin37</th>\n",
              "      <th>margin38</th>\n",
              "      <th>...</th>\n",
              "      <th>texture25</th>\n",
              "      <th>texture26</th>\n",
              "      <th>texture27</th>\n",
              "      <th>texture28</th>\n",
              "      <th>texture29</th>\n",
              "      <th>texture30</th>\n",
              "      <th>texture31</th>\n",
              "      <th>texture32</th>\n",
              "      <th>texture33</th>\n",
              "      <th>texture34</th>\n",
              "      <th>texture35</th>\n",
              "      <th>texture36</th>\n",
              "      <th>texture37</th>\n",
              "      <th>texture38</th>\n",
              "      <th>texture39</th>\n",
              "      <th>texture40</th>\n",
              "      <th>texture41</th>\n",
              "      <th>texture42</th>\n",
              "      <th>texture43</th>\n",
              "      <th>texture44</th>\n",
              "      <th>texture45</th>\n",
              "      <th>texture46</th>\n",
              "      <th>texture47</th>\n",
              "      <th>texture48</th>\n",
              "      <th>texture49</th>\n",
              "      <th>texture50</th>\n",
              "      <th>texture51</th>\n",
              "      <th>texture52</th>\n",
              "      <th>texture53</th>\n",
              "      <th>texture54</th>\n",
              "      <th>texture55</th>\n",
              "      <th>texture56</th>\n",
              "      <th>texture57</th>\n",
              "      <th>texture58</th>\n",
              "      <th>texture59</th>\n",
              "      <th>texture60</th>\n",
              "      <th>texture61</th>\n",
              "      <th>texture62</th>\n",
              "      <th>texture63</th>\n",
              "      <th>texture64</th>\n",
              "    </tr>\n",
              "  </thead>\n",
              "  <tbody>\n",
              "  </tbody>\n",
              "</table>\n",
              "<p>0 rows × 194 columns</p>\n",
              "</div>"
            ],
            "text/plain": [
              "Empty DataFrame\n",
              "Columns: [id, species, margin1, margin2, margin3, margin4, margin5, margin6, margin7, margin8, margin9, margin10, margin11, margin12, margin13, margin14, margin15, margin16, margin17, margin18, margin19, margin20, margin21, margin22, margin23, margin24, margin25, margin26, margin27, margin28, margin29, margin30, margin31, margin32, margin33, margin34, margin35, margin36, margin37, margin38, margin39, margin40, margin41, margin42, margin43, margin44, margin45, margin46, margin47, margin48, margin49, margin50, margin51, margin52, margin53, margin54, margin55, margin56, margin57, margin58, margin59, margin60, margin61, margin62, margin63, margin64, shape1, shape2, shape3, shape4, shape5, shape6, shape7, shape8, shape9, shape10, shape11, shape12, shape13, shape14, shape15, shape16, shape17, shape18, shape19, shape20, shape21, shape22, shape23, shape24, shape25, shape26, shape27, shape28, shape29, shape30, shape31, shape32, shape33, shape34, ...]\n",
              "Index: []\n",
              "\n",
              "[0 rows x 194 columns]"
            ]
          },
          "metadata": {
            "tags": []
          },
          "execution_count": 5
        }
      ]
    },
    {
      "cell_type": "markdown",
      "metadata": {
        "id": "DhVJS83bzgut"
      },
      "source": [
        "* From this we can say that feature \"id\" is a sequence without duplicates and hence can be ignored."
      ]
    },
    {
      "cell_type": "code",
      "metadata": {
        "colab": {
          "base_uri": "https://localhost:8080/"
        },
        "id": "qU7ltMY4zoAF",
        "outputId": "0a443f28-4a0d-4b71-b032-9981feaed050"
      },
      "source": [
        "leaf_df.shape"
      ],
      "execution_count": 6,
      "outputs": [
        {
          "output_type": "execute_result",
          "data": {
            "text/plain": [
              "(990, 194)"
            ]
          },
          "metadata": {
            "tags": []
          },
          "execution_count": 6
        }
      ]
    },
    {
      "cell_type": "markdown",
      "metadata": {
        "id": "Ia0tx0ubKLOH"
      },
      "source": [
        "* There are 194 Features of which 1 is Target Variable and 1 feature (id) can be ignored, so there are a total of 192 features and 990 records."
      ]
    },
    {
      "cell_type": "code",
      "metadata": {
        "colab": {
          "base_uri": "https://localhost:8080/",
          "height": 1000
        },
        "id": "5Tyzl0ZRKWnU",
        "outputId": "53a47180-5484-4ccf-eacb-e00c34e5ad5d"
      },
      "source": [
        "import seaborn as sns\r\n",
        "import matplotlib.pyplot as plt\r\n",
        "\r\n",
        "plt.figure(figsize=(15,40))\r\n",
        "sns.countplot(y='species',data=leaf_df)\r\n",
        "plt.show()"
      ],
      "execution_count": 7,
      "outputs": [
        {
          "output_type": "display_data",
          "data": {
            "image/png": "[encoded data removed]",
            "text/plain": [
              "<Figure size 1080x2880 with 1 Axes>"
            ]
          },
          "metadata": {
            "tags": [],
            "needs_background": "light"
          }
        }
      ]
    },
    {
      "cell_type": "code",
      "metadata": {
        "colab": {
          "base_uri": "https://localhost:8080/"
        },
        "id": "p7Aey6OBLOHq",
        "outputId": "cf552a77-acdd-4772-f311-e0f8bb32205b"
      },
      "source": [
        "leaf_df['species'].value_counts()"
      ],
      "execution_count": 8,
      "outputs": [
        {
          "output_type": "execute_result",
          "data": {
            "text/plain": [
              "Quercus_Ilex             10\n",
              "Quercus_Agrifolia        10\n",
              "Quercus_Castaneifolia    10\n",
              "Quercus_Phellos          10\n",
              "Betula_Pendula           10\n",
              "                         ..\n",
              "Quercus_Greggii          10\n",
              "Magnolia_Salicifolia     10\n",
              "Acer_Saccharinum         10\n",
              "Prunus_Avium             10\n",
              "Quercus_x_Turneri        10\n",
              "Name: species, Length: 99, dtype: int64"
            ]
          },
          "metadata": {
            "tags": []
          },
          "execution_count": 8
        }
      ]
    },
    {
      "cell_type": "markdown",
      "metadata": {
        "id": "3kB-oI6BO-ov"
      },
      "source": [
        "* From this plot we can say that there are 99 different species and that it is a balanced dataset with 10 records for each specie."
      ]
    },
    {
      "cell_type": "code",
      "metadata": {
        "id": "GcjJJ5vZQOB1"
      },
      "source": [
        "#prepare feature & target variables\r\n",
        "feature_cols=leaf_df.drop(columns=['species','id'],axis=1).columns\r\n",
        "target_var=leaf_df['species']"
      ],
      "execution_count": 9,
      "outputs": []
    },
    {
      "cell_type": "markdown",
      "metadata": {
        "id": "vwdBa_b6PWVu"
      },
      "source": [
        "* Let us perform Feature Selection to find out which Features are important."
      ]
    },
    {
      "cell_type": "code",
      "metadata": {
        "id": "0fZT010_4VUI",
        "colab": {
          "base_uri": "https://localhost:8080/"
        },
        "outputId": "9bd5a669-6e25-47b6-a618-1e858c8fe661"
      },
      "source": [
        "from sklearn.model_selection import train_test_split\r\n",
        "X_train, X_test, y_train, y_test = train_test_split(leaf_df[feature_cols], target_var, random_state=100, test_size=0.3)\r\n",
        "print(X_train.shape)\r\n",
        "print(X_test.shape)"
      ],
      "execution_count": 10,
      "outputs": [
        {
          "output_type": "stream",
          "text": [
            "(693, 192)\n",
            "(297, 192)\n"
          ],
          "name": "stdout"
        }
      ]
    },
    {
      "cell_type": "code",
      "metadata": {
        "id": "8ev30myQ5Xm3",
        "colab": {
          "base_uri": "https://localhost:8080/"
        },
        "outputId": "b232e1a8-ae54-4936-c786-e3f4ca59f569"
      },
      "source": [
        "from sklearn.feature_selection import VarianceThreshold\r\n",
        "sel_variance_threshold = VarianceThreshold()\r\n",
        "X_train_remove_variance = sel_variance_threshold.fit_transform(X_train)\r\n",
        "print(X_train_remove_variance.shape)"
      ],
      "execution_count": 11,
      "outputs": [
        {
          "output_type": "stream",
          "text": [
            "(693, 192)\n"
          ],
          "name": "stdout"
        }
      ]
    },
    {
      "cell_type": "code",
      "metadata": {
        "id": "ZpNfYbnf965Y"
      },
      "source": [
        "from sklearn.feature_selection import SelectKBest, f_classif\r\n",
        "sel_f = SelectKBest(chi2, k=4)    # select 4 features\r\n",
        "X_train_f = sel_f.fit_transform(X_train, y_train)\r\n",
        "print(sel_f.get_support())"
      ],
      "execution_count": null,
      "outputs": []
    },
    {
      "cell_type": "code",
      "metadata": {
        "id": "lAq8IzIp9683",
        "outputId": "7f6bdc29-7895-4225-89c5-ef363cef95fa",
        "colab": {
          "base_uri": "https://localhost:8080/"
        }
      },
      "source": [
        "from sklearn.linear_model import LogisticRegression\r\n",
        "from sklearn.ensemble import RandomForestClassifier\r\n",
        "from sklearn.model_selection import GridSearchCV\r\n",
        "from sklearn.pipeline import Pipeline\r\n",
        "\r\n",
        "# Create first pipeline for base without reducing features.\r\n",
        "pipe = Pipeline([('classifier' , RandomForestClassifier())])\r\n",
        "\r\n",
        "# Create param grid.\r\n",
        "\r\n",
        "param_grid = [\r\n",
        "    {'classifier' : [LogisticRegression()],\r\n",
        "     'classifier__penalty' : ['l1', 'l2'],\r\n",
        "    'classifier__C' : np.logspace(-4, 4, 20),\r\n",
        "    'classifier__solver' : ['liblinear']},\r\n",
        "    {'classifier' : [RandomForestClassifier()],\r\n",
        "    'classifier__n_estimators' : list(range(10,101,10)),\r\n",
        "    'classifier__max_features' : list(range(6,32,5))}\r\n",
        "]\r\n",
        "\r\n",
        "# Create grid search object\r\n",
        "\r\n",
        "clf = GridSearchCV(pipe, param_grid = param_grid, cv = 5, verbose=True, n_jobs=-1)\r\n",
        "\r\n",
        "# Fit on data\r\n",
        "\r\n",
        "best_clf = clf.fit(X_train, y_train)"
      ],
      "execution_count": 17,
      "outputs": [
        {
          "output_type": "stream",
          "text": [
            "Fitting 5 folds for each of 100 candidates, totalling 500 fits\n"
          ],
          "name": "stdout"
        },
        {
          "output_type": "stream",
          "text": [
            "/usr/local/lib/python3.7/dist-packages/sklearn/model_selection/_split.py:667: UserWarning: The least populated class in y has only 2 members, which is less than n_splits=5.\n",
            "  % (min_groups, self.n_splits)), UserWarning)\n",
            "[Parallel(n_jobs=-1)]: Using backend LokyBackend with 2 concurrent workers.\n",
            "[Parallel(n_jobs=-1)]: Done  46 tasks      | elapsed:    7.4s\n",
            "[Parallel(n_jobs=-1)]: Done 196 tasks      | elapsed:  2.1min\n",
            "[Parallel(n_jobs=-1)]: Done 446 tasks      | elapsed:  5.0min\n",
            "[Parallel(n_jobs=-1)]: Done 500 out of 500 | elapsed:  6.4min finished\n"
          ],
          "name": "stderr"
        }
      ]
    },
    {
      "cell_type": "code",
      "metadata": {
        "id": "kWLSmnUk97AQ"
      },
      "source": [
        ""
      ],
      "execution_count": null,
      "outputs": []
    },
    {
      "cell_type": "code",
      "metadata": {
        "id": "h-cmSO9x97Cg"
      },
      "source": [
        ""
      ],
      "execution_count": null,
      "outputs": []
    },
    {
      "cell_type": "code",
      "metadata": {
        "id": "lkJ3Lz-P97Fp"
      },
      "source": [
        ""
      ],
      "execution_count": null,
      "outputs": []
    },
    {
      "cell_type": "code",
      "metadata": {
        "id": "bWnw1AZ-97Iq"
      },
      "source": [
        ""
      ],
      "execution_count": null,
      "outputs": []
    },
    {
      "cell_type": "code",
      "metadata": {
        "colab": {
          "base_uri": "https://localhost:8080/"
        },
        "id": "xzdyxq9kK3KE",
        "outputId": "52be0015-98f8-4f0f-a36b-8c1545df4cf2"
      },
      "source": [
        "#import LogisticRegression model from sklearn\r\n",
        "from sklearn.linear_model import LogisticRegression\r\n",
        "import matplotlib.pyplot as plt\r\n",
        "#instantiate the model\r\n",
        "logreg = LogisticRegression()\r\n",
        "#fit the model\r\n",
        "logreg.fit(leaf_df[feature_cols],target_Var)"
      ],
      "execution_count": null,
      "outputs": [
        {
          "output_type": "execute_result",
          "data": {
            "text/plain": [
              "LogisticRegression(C=1.0, class_weight=None, dual=False, fit_intercept=True,\n",
              "                   intercept_scaling=1, l1_ratio=None, max_iter=100,\n",
              "                   multi_class='auto', n_jobs=None, penalty='l2',\n",
              "                   random_state=None, solver='lbfgs', tol=0.0001, verbose=0,\n",
              "                   warm_start=False)"
            ]
          },
          "metadata": {
            "tags": []
          },
          "execution_count": 26
        }
      ]
    },
    {
      "cell_type": "code",
      "metadata": {
        "id": "hc8bCen34NIs"
      },
      "source": [
        ""
      ],
      "execution_count": null,
      "outputs": []
    }
  ]
}